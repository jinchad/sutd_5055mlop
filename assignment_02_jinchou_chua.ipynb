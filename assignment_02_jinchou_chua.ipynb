{
 "cells": [
  {
   "cell_type": "markdown",
   "id": "7b1cfb22-4b03-4682-9a21-bca5cb05c682",
   "metadata": {},
   "source": [
    "# Assignment 2: sentiment analysis of SUTD Reddit\n",
    "**Assignment due 21 March 11:59pm**\n",
    "\n",
    "Welcome to the second assignment for 50.055 Machine Learning Operations. These assignments give you a chance to practice the methods and tools you have learned. \n",
    "\n",
    "**This assignment is an individual assignment.**\n",
    "\n",
    "- Read the instructions in this notebook carefully\n",
    "- Add your solution code and answers in the appropriate places. The questions are marked as **QUESTION:**, the places where you need to add your code and text answers are marked as **ADD YOUR SOLUTION HERE**\n",
    "- The completed notebook, including your added code and generated output and a labeled dataset which you create in the assignment will be your submission for the assignment.\n",
    "- The notebook should execute without errors from start to finish when you select \"Restart Kernel and Run All Cells..\". Please test this before submission.\n",
    "- Use the SUTD Education Cluster to solve and test the assignment.\n",
    "\n",
    "**Rubric for assessment** \n",
    "\n",
    "Your submission will be graded using the following criteria. \n",
    "1. Code executes: your code should execute without errors. The SUTD Education cluster should be used to ensure the same execution environment.\n",
    "2. Correctness: the code should produce the correct result or the text answer should state the factual correct answer.\n",
    "3. Style: your code should be written in a way that is clean and efficient. Your text answers should be relevant, concise and easy to understand.\n",
    "4. Partial marks will be awarded for partially correct solutions.\n",
    "5. There is a maximum of 150 points for this assignment.\n",
    "\n",
    "**ChatGPT policy** \n",
    "\n",
    "If you use AI tools, such as ChatGPT, to solve the assignment questions, you need to be transparent about its use and mark AI-generated content as such. In particular, you should include the following in addition to your final answer:\n",
    "- A copy or screenshot of the prompt you used\n",
    "- The name of the AI model\n",
    "- The AI generated output\n",
    "- An explanation why the answer is correct or what you had to change to arrive at the correct answer\n",
    "\n",
    "**Assignment Notes:** Please make sure to save the notebook as you go along. Submission Instructions are located at the bottom of the notebook.\n"
   ]
  },
  {
   "cell_type": "code",
   "execution_count": 10,
   "id": "980439b6-d91e-467e-a0b8-45a0d6637c45",
   "metadata": {},
   "outputs": [],
   "source": [
    "# # Installing all required packages\n",
    "# # Note: Do not add to this list.\n",
    "# # ----------------\n",
    "# ! pip install transformers[torch]==4.37.2\n",
    "# ! pip install datasets==2.17.1\n",
    "# ! pip install seaborn==0.13.2\n",
    "# ! pip install pyarrow==15.0.0\n",
    "# ! pip install scikit-learn==1.4.0\n",
    "# ! pip install emoji==0.6.0\n",
    "# ! pip install accelerate==0.27.2\n",
    "# # ----------------"
   ]
  },
  {
   "cell_type": "code",
   "execution_count": 11,
   "id": "a272f7c4-8dec-4ec8-986c-2ee28ed366f6",
   "metadata": {},
   "outputs": [],
   "source": [
    "# Importing all required packages\n",
    "# ----------------\n",
    "import pandas as pd\n",
    "import numpy as np\n",
    "import sklearn\n",
    "import seaborn as sns\n",
    "import matplotlib.pyplot as plt\n",
    "\n",
    "from transformers import AutoTokenizer\n",
    "from transformers import pipeline\n",
    "from transformers import TrainingArguments, Trainer\n",
    "from transformers import AutoModelForSequenceClassification\n",
    "from datasets import Dataset\n",
    "# ----------------"
   ]
  },
  {
   "cell_type": "code",
   "execution_count": 12,
   "id": "adda5aa5-1297-4767-b36e-05fe6df2cb6a",
   "metadata": {},
   "outputs": [],
   "source": [
    "%matplotlib inline\n"
   ]
  },
  {
   "cell_type": "markdown",
   "id": "77f84068-a112-46a0-b531-494a903eccae",
   "metadata": {},
   "source": [
    "# Sentiment analysis\n",
    "\n",
    "Sentiment analysis is a natural language processing technique that identifies the polarity of a given text. There are different flavors of sentiment analysis, but one of the most widely used techniques labels data into positive, negative and neutral. We have already encountererd sentiment analysis in the hands-on sessions.\n",
    "\n",
    "In this assignment, you will conduct sentiment analysis on posts and comments from the SUTD subreddit. You will run experiments with pre-trained sentiment models, evaluate their performance and simulate improving the model by re-training it with newly annotated data. \n"
   ]
  },
  {
   "cell_type": "code",
   "execution_count": 13,
   "id": "730b9f1f-5862-40c0-8b10-a1b7c23fac90",
   "metadata": {},
   "outputs": [],
   "source": [
    "# Load SUTD subreddit data set as dataframe\n",
    "# posts and comments have been downloaded from https://www.reddit.com/r/sutd/\n",
    "\n",
    "df_submissions = pd.read_parquet('reddit_submissions.parquet.gzip').set_index(\"Id\")\n",
    "df_comments = pd.read_parquet('reddit_comments.parquet.gzip').set_index(\"CommentId\")"
   ]
  },
  {
   "cell_type": "code",
   "execution_count": 14,
   "id": "5dcaa3cc-c7f7-409a-9303-75bfb97d106b",
   "metadata": {},
   "outputs": [
    {
     "data": {
      "application/vnd.microsoft.datawrangler.viewer.v0+json": {
       "columns": [
        {
         "name": "Id",
         "rawType": "object",
         "type": "string"
        },
        {
         "name": "Title",
         "rawType": "object",
         "type": "string"
        },
        {
         "name": "Upvotes",
         "rawType": "int64",
         "type": "integer"
        },
        {
         "name": "Created",
         "rawType": "datetime64[ns]",
         "type": "datetime"
        }
       ],
       "conversionMethod": "pd.DataFrame",
       "ref": "e3ac2c5d-065c-4c04-95ae-4ad97c69c064",
       "rows": [
        [
         "xtdia0",
         "Oh boy, 8am lectures. My favorite",
         "627",
         "2022-10-02 02:49:01"
        ],
        [
         "scyaig",
         "IF I get my engineering degree",
         "413",
         "2022-01-26 05:24:35"
        ],
        [
         "zzxqop",
         "Happy New Year!",
         "339",
         "2022-12-31 16:26:57"
        ],
        [
         "rbe5cz",
         "Happy finals!",
         "319",
         "2021-12-08 00:45:22"
        ],
        [
         "zlci46",
         "You know who you are",
         "266",
         "2022-12-14 00:46:23"
        ],
        [
         "twvwmf",
         "))))",
         "258",
         "2022-04-05 14:13:21"
        ],
        [
         "u4qwja",
         "Not very much studying is gonna get done this weekend...",
         "227",
         "2022-04-16 05:31:30"
        ],
        [
         "ri6w8v",
         "Last paper today freshie bois! Let's go!",
         "214",
         "2021-12-17 02:35:22"
        ],
        [
         "qxd05z",
         ">You are T1 Freshie doing the 2D projects",
         "205",
         "2021-11-19 09:57:40"
        ],
        [
         "z5uai3",
         "Data_Driven_World.png",
         "205",
         "2022-11-27 06:57:46"
        ],
        [
         "10jy8xp",
         "=(",
         "201",
         "2023-01-24 05:34:32"
        ],
        [
         "10gjapi",
         "Welcome back",
         "183",
         "2023-01-20 01:18:38"
        ],
        [
         "zuu357",
         "Merry Christmas/Xmas!",
         "178",
         "2022-12-25 08:33:30"
        ],
        [
         "xelo31",
         "A warm welcome to all the new freshies joining us. Hope y'all have a wonderful time here X_X",
         "163",
         "2022-09-15 03:17:20"
        ],
        [
         "t69s49",
         "technOlOgical wOrld",
         "165",
         "2022-03-04 03:46:28"
        ],
        [
         "yvzmt3",
         "PSA for all students currently bogged down with projects",
         "153",
         "2022-11-15 15:00:47"
        ],
        [
         "y1yqfq",
         "\"I think I did fine for my statistics midterm. I studied hard enough.\"",
         "149",
         "2022-10-12 08:58:33"
        ],
        [
         "y6aolr",
         "Me getting my statistics midterm back",
         "143",
         "2022-10-17 13:00:58"
        ],
        [
         "116x3aq",
         "Fun",
         "137",
         "2023-02-20 03:59:47"
        ],
        [
         "ten8qg",
         "Choosing T3 electives be like:",
         "129",
         "2022-03-15 11:54:12"
        ],
        [
         "ztm6m8",
         "Tragedy",
         "133",
         "2022-12-23 16:51:42"
        ],
        [
         "reh3rq",
         "Happy Finals! (part 2)",
         "123",
         "2021-12-12 04:34:24"
        ],
        [
         "sv9enp",
         "Please, stop making my paper harder than it needs to be",
         "116",
         "2022-02-18 04:56:57"
        ],
        [
         "ru7nnp",
         "Term 2, let's go! (soon)",
         "111",
         "2022-01-02 11:15:47"
        ],
        [
         "j9nw0u",
         "Best place to sleep during class?",
         "69",
         "2020-10-12 09:39:05"
        ],
        [
         "slwikv",
         "Ngl, I don't really like navigating the SUTD Portal either",
         "61",
         "2022-02-06 13:20:49"
        ],
        [
         "rfvlrc",
         "10.013",
         "59",
         "2021-12-14 01:25:17"
        ],
        [
         "11x2ebo",
         "Imagine attending lectures",
         "58",
         "2023-03-21 01:10:11"
        ],
        [
         "n3a6eq",
         "Reflections about SUTD after 1 year (for incoming students)",
         "62",
         "2021-05-02 16:34:35"
        ],
        [
         "110uoh7",
         "Stayed up till dawn",
         "57",
         "2023-02-13 00:25:08"
        ],
        [
         "wur3a6",
         "I’m an Air Traffic Controller. AMA",
         "60",
         "2022-08-22 11:29:36"
        ],
        [
         "10qkicn",
         "Bamboozled",
         "54",
         "2023-02-01 04:29:10"
        ],
        [
         "yvppyt",
         ">attends class",
         "53",
         "2022-11-15 07:09:39"
        ],
        [
         "yae75m",
         "DES. DES. DES. 😀😀😀😀😀😀",
         "44",
         "2022-10-22 04:38:02"
        ],
        [
         "12pb2vy",
         "30.007 / 3.007 Moment",
         "41",
         "2023-04-17 10:31:59"
        ],
        [
         "th1zyo",
         "This week does not spark joy",
         "39",
         "2022-03-18 14:00:18"
        ],
        [
         "ulpf28",
         "*grabs popcorn",
         "40",
         "2022-05-09 11:49:49"
        ],
        [
         "mkrw43",
         "1 year in Uni so far and here’s my reflection",
         "34",
         "2021-04-05 18:51:31"
        ],
        [
         "118x9a2",
         "I have had it with the marketing of this school",
         "31",
         "2023-02-22 12:43:58"
        ],
        [
         "1267gr5",
         "Engineering magic oil",
         "29",
         "2023-03-30 01:35:54"
        ],
        [
         "jbzbj6",
         "Shitty gym staff",
         "27",
         "2020-10-16 00:04:23"
        ],
        [
         "t0cctn",
         "An interesting module",
         "26",
         "2022-02-24 14:30:15"
        ],
        [
         "eqj3x0",
         "10 Lies to Join SUTD",
         "25",
         "2020-01-18 17:12:06"
        ],
        [
         "raq9s8",
         "Failed to turn up for finals",
         "24",
         "2021-12-07 04:07:05"
        ],
        [
         "i140cf",
         "Join the /r/sutd Discord server!",
         "23",
         "2020-07-31 08:34:20"
        ],
        [
         "g0kl3x",
         "From the SUTD Website: Message to Incoming Freshmen on Start of Term in May 2020",
         "21",
         "2020-04-13 15:01:18"
        ],
        [
         "nd2vuu",
         "Is the ISTD faculty good?",
         "20",
         "2021-05-15 16:37:38"
        ],
        [
         "ncpepl",
         "uncertain & need some advice",
         "20",
         "2021-05-15 03:00:13"
        ],
        [
         "13cidye",
         "Application timeline",
         "18",
         "2023-05-09 07:13:03"
        ],
        [
         "gd9ius",
         "/r/sutd Updates - 4 May 2020",
         "19",
         "2020-05-04 11:00:02"
        ]
       ],
       "shape": {
        "columns": 3,
        "rows": 594
       }
      },
      "text/html": [
       "<div>\n",
       "<style scoped>\n",
       "    .dataframe tbody tr th:only-of-type {\n",
       "        vertical-align: middle;\n",
       "    }\n",
       "\n",
       "    .dataframe tbody tr th {\n",
       "        vertical-align: top;\n",
       "    }\n",
       "\n",
       "    .dataframe thead th {\n",
       "        text-align: right;\n",
       "    }\n",
       "</style>\n",
       "<table border=\"1\" class=\"dataframe\">\n",
       "  <thead>\n",
       "    <tr style=\"text-align: right;\">\n",
       "      <th></th>\n",
       "      <th>Title</th>\n",
       "      <th>Upvotes</th>\n",
       "      <th>Created</th>\n",
       "    </tr>\n",
       "    <tr>\n",
       "      <th>Id</th>\n",
       "      <th></th>\n",
       "      <th></th>\n",
       "      <th></th>\n",
       "    </tr>\n",
       "  </thead>\n",
       "  <tbody>\n",
       "    <tr>\n",
       "      <th>xtdia0</th>\n",
       "      <td>Oh boy, 8am lectures. My favorite</td>\n",
       "      <td>627</td>\n",
       "      <td>2022-10-02 02:49:01</td>\n",
       "    </tr>\n",
       "    <tr>\n",
       "      <th>scyaig</th>\n",
       "      <td>IF I get my engineering degree</td>\n",
       "      <td>413</td>\n",
       "      <td>2022-01-26 05:24:35</td>\n",
       "    </tr>\n",
       "    <tr>\n",
       "      <th>zzxqop</th>\n",
       "      <td>Happy New Year!</td>\n",
       "      <td>339</td>\n",
       "      <td>2022-12-31 16:26:57</td>\n",
       "    </tr>\n",
       "    <tr>\n",
       "      <th>rbe5cz</th>\n",
       "      <td>Happy finals!</td>\n",
       "      <td>319</td>\n",
       "      <td>2021-12-08 00:45:22</td>\n",
       "    </tr>\n",
       "    <tr>\n",
       "      <th>zlci46</th>\n",
       "      <td>You know who you are</td>\n",
       "      <td>266</td>\n",
       "      <td>2022-12-14 00:46:23</td>\n",
       "    </tr>\n",
       "    <tr>\n",
       "      <th>...</th>\n",
       "      <td>...</td>\n",
       "      <td>...</td>\n",
       "      <td>...</td>\n",
       "    </tr>\n",
       "    <tr>\n",
       "      <th>b7nv4i</th>\n",
       "      <td>SUTD started sending rejection letter already?</td>\n",
       "      <td>3</td>\n",
       "      <td>2019-03-31 13:41:25</td>\n",
       "    </tr>\n",
       "    <tr>\n",
       "      <th>b579t4</th>\n",
       "      <td>upcoming SUTD interviews</td>\n",
       "      <td>3</td>\n",
       "      <td>2019-03-25 06:47:32</td>\n",
       "    </tr>\n",
       "    <tr>\n",
       "      <th>b41vpw</th>\n",
       "      <td>Another new (prospective) undergraduate!</td>\n",
       "      <td>3</td>\n",
       "      <td>2019-03-22 07:04:34</td>\n",
       "    </tr>\n",
       "    <tr>\n",
       "      <th>axezas</th>\n",
       "      <td>How is the SUTD skype interview like?</td>\n",
       "      <td>3</td>\n",
       "      <td>2019-03-05 01:02:11</td>\n",
       "    </tr>\n",
       "    <tr>\n",
       "      <th>atijac</th>\n",
       "      <td>Open house starts tomorrow. Ask an ESD Senior ...</td>\n",
       "      <td>3</td>\n",
       "      <td>2019-02-22 14:59:05</td>\n",
       "    </tr>\n",
       "  </tbody>\n",
       "</table>\n",
       "<p>594 rows × 3 columns</p>\n",
       "</div>"
      ],
      "text/plain": [
       "                                                    Title  Upvotes  \\\n",
       "Id                                                                   \n",
       "xtdia0                  Oh boy, 8am lectures. My favorite      627   \n",
       "scyaig                     IF I get my engineering degree      413   \n",
       "zzxqop                                    Happy New Year!      339   \n",
       "rbe5cz                                      Happy finals!      319   \n",
       "zlci46                               You know who you are      266   \n",
       "...                                                   ...      ...   \n",
       "b7nv4i     SUTD started sending rejection letter already?        3   \n",
       "b579t4                           upcoming SUTD interviews        3   \n",
       "b41vpw           Another new (prospective) undergraduate!        3   \n",
       "axezas              How is the SUTD skype interview like?        3   \n",
       "atijac  Open house starts tomorrow. Ask an ESD Senior ...        3   \n",
       "\n",
       "                   Created  \n",
       "Id                          \n",
       "xtdia0 2022-10-02 02:49:01  \n",
       "scyaig 2022-01-26 05:24:35  \n",
       "zzxqop 2022-12-31 16:26:57  \n",
       "rbe5cz 2021-12-08 00:45:22  \n",
       "zlci46 2022-12-14 00:46:23  \n",
       "...                    ...  \n",
       "b7nv4i 2019-03-31 13:41:25  \n",
       "b579t4 2019-03-25 06:47:32  \n",
       "b41vpw 2019-03-22 07:04:34  \n",
       "axezas 2019-03-05 01:02:11  \n",
       "atijac 2019-02-22 14:59:05  \n",
       "\n",
       "[594 rows x 3 columns]"
      ]
     },
     "execution_count": 14,
     "metadata": {},
     "output_type": "execute_result"
    }
   ],
   "source": [
    "#Let's have a look at the data. The data schema is as follows.\n",
    "\n",
    "# Submissions\n",
    "# Id - unique id for submission\n",
    "# Title - text of the submission title\n",
    "# Upvotes - upvotes on this submission\n",
    "# Created - date time of submission creation date and time\n",
    "\n",
    "# Comments\n",
    "# CommentId - unique id for comment\n",
    "# Comment - text content of the comment\n",
    "# CommentCreated - date time of comment creation date and time\n",
    "# Id - unique id for submission on which the comment was posted\n",
    "\n",
    "# See the Reddit API documentation for details https://www.reddit.com/dev/api/\n",
    "df_submissions"
   ]
  },
  {
   "cell_type": "code",
   "execution_count": 15,
   "id": "04cef690-ef3c-437e-96e5-28ed0554f24a",
   "metadata": {},
   "outputs": [
    {
     "data": {
      "application/vnd.microsoft.datawrangler.viewer.v0+json": {
       "columns": [
        {
         "name": "CommentId",
         "rawType": "object",
         "type": "string"
        },
        {
         "name": "Comment",
         "rawType": "object",
         "type": "string"
        },
        {
         "name": "CommentCreated",
         "rawType": "datetime64[ns]",
         "type": "datetime"
        },
        {
         "name": "Id",
         "rawType": "object",
         "type": "string"
        }
       ],
       "conversionMethod": "pd.DataFrame",
       "ref": "a2052135-7d20-40ac-ae8c-e31042c72d21",
       "rows": [
        [
         "iqps23l",
         "HAHA Issa mood boiii",
         "2022-10-02 05:25:29",
         "xtdia0"
        ],
        [
         "iqrmg9d",
         "Me everyday on a school day",
         "2022-10-02 16:26:59",
         "xtdia0"
        ],
        [
         "iqso6tt",
         "Nothing a Vid test can't fix",
         "2022-10-02 20:19:01",
         "xtdia0"
        ],
        [
         "iqpmt6t",
         "I thought the earliest lecture we can get is 8:30?",
         "2022-10-02 04:26:53",
         "xtdia0"
        ],
        [
         "j2gyvln",
         "jan 3rd is when my secondary school starts",
         "2023-01-01 05:13:21",
         "zzxqop"
        ],
        [
         "j54ub3e",
         "HEY, FUCK YOU",
         "2023-01-20 12:15:41",
         "zzxqop"
        ],
        [
         "j2hjzse",
         "Meanwhile me who has work on christmas eve, christmas day, new years eve and new year :)).",
         "2023-01-01 09:44:48",
         "zzxqop"
        ],
        [
         "j2i7d80",
         "hahahaaha same",
         "2023-01-01 14:48:55",
         "zzxqop"
        ],
        [
         "j2m5mdr",
         "f school man",
         "2023-01-02 09:54:47",
         "zzxqop"
        ],
        [
         "j4fvc93",
         "Same",
         "2023-01-15 12:41:33",
         "zzxqop"
        ],
        [
         "j2h3dy4",
         "Same",
         "2023-01-01 06:00:09",
         "zzxqop"
        ],
        [
         "j2hpvlm",
         "My condolences",
         "2023-01-01 11:16:12",
         "zzxqop"
        ],
        [
         "j2hem88",
         "Same",
         "2023-01-01 08:23:51",
         "zzxqop"
        ],
        [
         "j2hpv3z",
         "F ^^",
         "2023-01-01 11:15:59",
         "zzxqop"
        ],
        [
         "hnovlgx",
         "Yea, even worse, my group project teammates are downright useless.",
         "2021-12-08 06:46:14",
         "rbe5cz"
        ],
        [
         "hnouij1",
         "sauce?",
         "2021-12-08 06:32:13",
         "rbe5cz"
        ],
        [
         "hnovm3o",
         "Yea, coequal worse, mine own group project teammates art downright hilding\n\n***\n\n\n\n^(I am a bot and I swapp'd some of thy words with Shakespeare words.)\n\nCommands: `!ShakespeareInsult`, `!fordo`, `!optout`",
         "2021-12-08 06:46:28",
         "rbe5cz"
        ],
        [
         "hnovoml",
         "Stolen from another meme site. Anime is Zombieland Saga",
         "2021-12-08 06:47:23",
         "rbe5cz"
        ],
        [
         "hnovk7s",
         "Zombieland saga",
         "2021-12-08 06:45:46",
         "rbe5cz"
        ],
        [
         "hnovmqh",
         "Shakespeare-Bot, thou hast been voted most annoying bot on Reddit. I am exhorting all mods to ban thee and thy useless rhetoric so that we shall not be blotted with thy presence any longer.",
         "2021-12-08 06:46:42",
         "rbe5cz"
        ],
        [
         "hnp0zlg",
         "Bad bot",
         "2021-12-08 07:59:20",
         "rbe5cz"
        ],
        [
         "hnp102v",
         "Thank you, Gamillie, for voting on bot-killer-001.\n\nThis bot wants to find the best and worst bots on Reddit. [You can view results here](https://botrank.pastimes.eu/).\n\n***\n\n^(Even if I don't reply to your comment, I'm still listening for votes. Check the webpage to see if your vote registered!)",
         "2021-12-08 07:59:32",
         "rbe5cz"
        ],
        [
         "j1h8odb",
         "study from home everyday",
         "2022-12-24 09:14:27",
         "zlci46"
        ],
        [
         "i3hryvp",
         "Day after day\n\nAs time flies away\n\nI think and I ponder\n\nSanity with me no longer",
         "2022-04-05 14:23:04",
         "twvwmf"
        ],
        [
         "i3je0tc",
         "Amen to that",
         "2022-04-05 20:40:53",
         "twvwmf"
        ],
        [
         "i51q66v",
         "Lol",
         "2022-04-17 05:01:22",
         "u4qwja"
        ],
        [
         "hovpo4m",
         "Very true happened to me once",
         "2021-12-17 05:11:34",
         "ri6w8v"
        ],
        [
         "hox9bo6",
         "Tears of joy",
         "2021-12-17 14:50:47",
         "ri6w8v"
        ],
        [
         "ixyfptk",
         "HAHAHAHAHA",
         "2022-11-27 10:26:15",
         "z5uai3"
        ],
        [
         "j2eah5b",
         "This is coding on another level 😦",
         "2022-12-31 16:57:57",
         "z5uai3"
        ],
        [
         "j5y4t32",
         "Me who mains outlook:😐",
         "2023-01-26 11:02:03",
         "10jy8xp"
        ],
        [
         "j53xno6",
         "u/savevideo",
         "2023-01-20 05:33:19",
         "10gjapi"
        ],
        [
         "j53xnub",
         "###[View link](https://redditsave.com/r/sutd/comments/10gjapi/welcome_back/)\n\n\n --- \n [**Info**](https://np.reddit.com/user/SaveVideo/comments/jv323v/info/)&#32;|&#32; [**Feedback**](https://np.reddit.com/message/compose/?to=Kryptonh&subject=Feedback for savevideo)&#32;|&#32;[**Donate**](https://ko-fi.com/getvideo) &#32;|&#32; [**DMCA**](https://np.reddit.com/message/compose/?to=Kryptonh&subject=Content removal request for savevideo&message=https://np.reddit.com//r/sutd/comments/10gjapi/welcome_back/) &#32;|&#32; \n [^(reddit video downloader)](https://redditsave.com) &#32;|&#32; [^(download video tiktok)](https://taksave.com)",
         "2023-01-20 05:33:22",
         "10gjapi"
        ],
        [
         "j1lfeab",
         "weed? Hello polis this post right here",
         "2022-12-25 09:14:13",
         "zuu357"
        ],
        [
         "j1oe5uc",
         "\"So anyways, that's how I lost my license\"",
         "2022-12-26 02:08:29",
         "zuu357"
        ],
        [
         "hzdst0y",
         "\"I shall study 2 hours before finals\"",
         "2022-03-04 23:30:03",
         "t69s49"
        ],
        [
         "hzblfgy",
         "good meme",
         "2022-03-04 14:48:27",
         "t69s49"
        ],
        [
         "hzeoop4",
         "True heuristic is copying ur lect notes onto ur cheatsheet and learning the concepts during the exam",
         "2022-03-05 03:28:01",
         "t69s49"
        ],
        [
         "hzdvnnn",
         "The true big brain is studying after the finals",
         "2022-03-04 23:50:12",
         "t69s49"
        ],
        [
         "iwjkbl4",
         "🤣🤣🤣dammm",
         "2022-11-16 02:35:29",
         "yvzmt3"
        ],
        [
         "is1bd55",
         "Im stealing this",
         "2022-10-12 16:08:35",
         "y1yqfq"
        ],
        [
         "isrgs86",
         "This looks like a dnd meme, I approve",
         "2022-10-18 03:49:57",
         "y6aolr"
        ],
        [
         "iss4xyl",
         "You are S.P.E.C.I.A.L.L.L.L.L.L.L.L.L.L.",
         "2022-10-18 08:56:56",
         "y6aolr"
        ],
        [
         "isrhoyi",
         "Fallout*",
         "2022-10-18 03:58:28",
         "y6aolr"
        ],
        [
         "iss6ffg",
         "New vegas?",
         "2022-10-18 09:19:42",
         "y6aolr"
        ],
        [
         "j9clhv3",
         "Oh no",
         "2023-02-20 22:56:55",
         "116x3aq"
        ],
        [
         "i0qofgy",
         "not much selection ngl :/",
         "2022-03-15 12:21:06",
         "ten8qg"
        ],
        [
         "i0remqi",
         "DES is the easiest ngl, DDW a lot harder than u might think",
         "2022-03-15 15:39:59",
         "ten8qg"
        ],
        [
         "i0tq283",
         "thats just for u\n\ncome on man give DDW some credit\n\nbut yea DES is easy lol",
         "2022-03-16 00:53:05",
         "ten8qg"
        ],
        [
         "i0tx6w0",
         "ur making fun of my mental disability :D",
         "2022-03-16 01:45:18",
         "ten8qg"
        ]
       ],
       "shape": {
        "columns": 3,
        "rows": 3904
       }
      },
      "text/html": [
       "<div>\n",
       "<style scoped>\n",
       "    .dataframe tbody tr th:only-of-type {\n",
       "        vertical-align: middle;\n",
       "    }\n",
       "\n",
       "    .dataframe tbody tr th {\n",
       "        vertical-align: top;\n",
       "    }\n",
       "\n",
       "    .dataframe thead th {\n",
       "        text-align: right;\n",
       "    }\n",
       "</style>\n",
       "<table border=\"1\" class=\"dataframe\">\n",
       "  <thead>\n",
       "    <tr style=\"text-align: right;\">\n",
       "      <th></th>\n",
       "      <th>Comment</th>\n",
       "      <th>CommentCreated</th>\n",
       "      <th>Id</th>\n",
       "    </tr>\n",
       "    <tr>\n",
       "      <th>CommentId</th>\n",
       "      <th></th>\n",
       "      <th></th>\n",
       "      <th></th>\n",
       "    </tr>\n",
       "  </thead>\n",
       "  <tbody>\n",
       "    <tr>\n",
       "      <th>iqps23l</th>\n",
       "      <td>HAHA Issa mood boiii</td>\n",
       "      <td>2022-10-02 05:25:29</td>\n",
       "      <td>xtdia0</td>\n",
       "    </tr>\n",
       "    <tr>\n",
       "      <th>iqrmg9d</th>\n",
       "      <td>Me everyday on a school day</td>\n",
       "      <td>2022-10-02 16:26:59</td>\n",
       "      <td>xtdia0</td>\n",
       "    </tr>\n",
       "    <tr>\n",
       "      <th>iqso6tt</th>\n",
       "      <td>Nothing a Vid test can't fix</td>\n",
       "      <td>2022-10-02 20:19:01</td>\n",
       "      <td>xtdia0</td>\n",
       "    </tr>\n",
       "    <tr>\n",
       "      <th>iqpmt6t</th>\n",
       "      <td>I thought the earliest lecture we can get is 8...</td>\n",
       "      <td>2022-10-02 04:26:53</td>\n",
       "      <td>xtdia0</td>\n",
       "    </tr>\n",
       "    <tr>\n",
       "      <th>j2gyvln</th>\n",
       "      <td>jan 3rd is when my secondary school starts</td>\n",
       "      <td>2023-01-01 05:13:21</td>\n",
       "      <td>zzxqop</td>\n",
       "    </tr>\n",
       "    <tr>\n",
       "      <th>...</th>\n",
       "      <td>...</td>\n",
       "      <td>...</td>\n",
       "      <td>...</td>\n",
       "    </tr>\n",
       "    <tr>\n",
       "      <th>jkrjznb</th>\n",
       "      <td>hey! got my acceptance today</td>\n",
       "      <td>2023-05-19 12:45:12</td>\n",
       "      <td>13jqat4</td>\n",
       "    </tr>\n",
       "    <tr>\n",
       "      <th>johzqeu</th>\n",
       "      <td>hi y’allz, mine updated to unsuccessful, wishi...</td>\n",
       "      <td>2023-06-17 18:50:10</td>\n",
       "      <td>13jqat4</td>\n",
       "    </tr>\n",
       "    <tr>\n",
       "      <th>jo1hrsu</th>\n",
       "      <td>I’m an international student from china and I ...</td>\n",
       "      <td>2023-06-13 22:37:17</td>\n",
       "      <td>13jqat4</td>\n",
       "    </tr>\n",
       "    <tr>\n",
       "      <th>jklk6o3</th>\n",
       "      <td>Congratulation! Did you get any scholarship?</td>\n",
       "      <td>2023-05-18 05:02:25</td>\n",
       "      <td>13jqat4</td>\n",
       "    </tr>\n",
       "    <tr>\n",
       "      <th>jkrk1pl</th>\n",
       "      <td>that's so cool, will you be matriculating this...</td>\n",
       "      <td>2023-05-19 12:45:40</td>\n",
       "      <td>13jqat4</td>\n",
       "    </tr>\n",
       "  </tbody>\n",
       "</table>\n",
       "<p>3904 rows × 3 columns</p>\n",
       "</div>"
      ],
      "text/plain": [
       "                                                     Comment  \\\n",
       "CommentId                                                      \n",
       "iqps23l                                 HAHA Issa mood boiii   \n",
       "iqrmg9d                          Me everyday on a school day   \n",
       "iqso6tt                         Nothing a Vid test can't fix   \n",
       "iqpmt6t    I thought the earliest lecture we can get is 8...   \n",
       "j2gyvln           jan 3rd is when my secondary school starts   \n",
       "...                                                      ...   \n",
       "jkrjznb                         hey! got my acceptance today   \n",
       "johzqeu    hi y’allz, mine updated to unsuccessful, wishi...   \n",
       "jo1hrsu    I’m an international student from china and I ...   \n",
       "jklk6o3         Congratulation! Did you get any scholarship?   \n",
       "jkrk1pl    that's so cool, will you be matriculating this...   \n",
       "\n",
       "               CommentCreated       Id  \n",
       "CommentId                               \n",
       "iqps23l   2022-10-02 05:25:29   xtdia0  \n",
       "iqrmg9d   2022-10-02 16:26:59   xtdia0  \n",
       "iqso6tt   2022-10-02 20:19:01   xtdia0  \n",
       "iqpmt6t   2022-10-02 04:26:53   xtdia0  \n",
       "j2gyvln   2023-01-01 05:13:21   zzxqop  \n",
       "...                       ...      ...  \n",
       "jkrjznb   2023-05-19 12:45:12  13jqat4  \n",
       "johzqeu   2023-06-17 18:50:10  13jqat4  \n",
       "jo1hrsu   2023-06-13 22:37:17  13jqat4  \n",
       "jklk6o3   2023-05-18 05:02:25  13jqat4  \n",
       "jkrk1pl   2023-05-19 12:45:40  13jqat4  \n",
       "\n",
       "[3904 rows x 3 columns]"
      ]
     },
     "execution_count": 15,
     "metadata": {},
     "output_type": "execute_result"
    }
   ],
   "source": [
    "df_comments"
   ]
  },
  {
   "cell_type": "markdown",
   "id": "06f3ab42-155a-4efb-ab9a-9d65f2b6e4fb",
   "metadata": {},
   "source": [
    "You can read the SUTD reddit submissions in your web browser by navigating to \n",
    "https://www.reddit.com/r/sutd/comments/{Id}\n",
    "\n",
    "\n",
    "### QUESTION: \n",
    "How easy is it to make sense of the submissions and comments? Is it easier to understand the posts when you read them in the browser? \n",
    "Explain why or why not (max 100 words)\n",
    "\n",
    "**--- ADD YOUR SOLUTION HERE (5 points)---**\n",
    "\n",
    "It is pretty challenging to make sense of the submission and comments as we only have an id that ties the comment back to the original post to determine the context of the original post. The comments seen from the database also does not show the relation of comments being in the same thread and help us determine if a comment is replying to another comment under the post, or to the post itself. The data also only shows the title of the post, and not the rest of the post's content. \n",
    "\n",
    "------------------------------\n"
   ]
  },
  {
   "cell_type": "code",
   "execution_count": 16,
   "id": "025bf3cf-4dae-4d27-85f7-f3172464838c",
   "metadata": {},
   "outputs": [],
   "source": [
    "# QUESTION: Join the data frames into a joined data_frame 'df_reddit' which  contains both submissions and comments. \n",
    "# Each row should contain a submission paired with one associated comment. Comments that do not have a matching submission shall be dropped. The joined data frame should have the following schema.\n",
    "\n",
    "# Submissions\n",
    "# Id - unique id for submission\n",
    "# Title - text of the submission title\n",
    "# Upvotes - upvotes on this submission\n",
    "# Created - date time of submission creation date and time\n",
    "# CommentId - unique id for comment, comment is posted for this submission\n",
    "# Comment - text content of the comment\n",
    "# CommentCreated - date time of comment creation date and time\n",
    "#--- ADD YOUR SOLUTION HERE (5 points)---\n",
    "\n",
    "# adding commentId in df_comments as a column \n",
    "df = df_comments.reset_index()\n",
    "\n",
    "# merging both df on Id\n",
    "df_reddit = pd.merge(df_submissions, df, on=\"Id\", how=\"inner\")\n",
    "#------------------------------"
   ]
  },
  {
   "cell_type": "code",
   "execution_count": 17,
   "id": "54938b4a-6b0d-4f59-a652-f037eb222564",
   "metadata": {},
   "outputs": [
    {
     "data": {
      "application/vnd.microsoft.datawrangler.viewer.v0+json": {
       "columns": [
        {
         "name": "index",
         "rawType": "int64",
         "type": "integer"
        },
        {
         "name": "Id",
         "rawType": "object",
         "type": "string"
        },
        {
         "name": "Title",
         "rawType": "object",
         "type": "string"
        },
        {
         "name": "Upvotes",
         "rawType": "int64",
         "type": "integer"
        },
        {
         "name": "Created",
         "rawType": "datetime64[ns]",
         "type": "datetime"
        },
        {
         "name": "CommentId",
         "rawType": "object",
         "type": "string"
        },
        {
         "name": "Comment",
         "rawType": "object",
         "type": "string"
        },
        {
         "name": "CommentCreated",
         "rawType": "datetime64[ns]",
         "type": "datetime"
        }
       ],
       "conversionMethod": "pd.DataFrame",
       "ref": "0f63516a-2019-465b-af38-db7e6661efb6",
       "rows": [
        [
         "0",
         "xtdia0",
         "Oh boy, 8am lectures. My favorite",
         "627",
         "2022-10-02 02:49:01",
         "iqps23l",
         "HAHA Issa mood boiii",
         "2022-10-02 05:25:29"
        ],
        [
         "1",
         "xtdia0",
         "Oh boy, 8am lectures. My favorite",
         "627",
         "2022-10-02 02:49:01",
         "iqrmg9d",
         "Me everyday on a school day",
         "2022-10-02 16:26:59"
        ],
        [
         "2",
         "xtdia0",
         "Oh boy, 8am lectures. My favorite",
         "627",
         "2022-10-02 02:49:01",
         "iqso6tt",
         "Nothing a Vid test can't fix",
         "2022-10-02 20:19:01"
        ],
        [
         "3",
         "xtdia0",
         "Oh boy, 8am lectures. My favorite",
         "627",
         "2022-10-02 02:49:01",
         "iqpmt6t",
         "I thought the earliest lecture we can get is 8:30?",
         "2022-10-02 04:26:53"
        ],
        [
         "4",
         "zzxqop",
         "Happy New Year!",
         "339",
         "2022-12-31 16:26:57",
         "j2gyvln",
         "jan 3rd is when my secondary school starts",
         "2023-01-01 05:13:21"
        ],
        [
         "5",
         "zzxqop",
         "Happy New Year!",
         "339",
         "2022-12-31 16:26:57",
         "j54ub3e",
         "HEY, FUCK YOU",
         "2023-01-20 12:15:41"
        ],
        [
         "6",
         "zzxqop",
         "Happy New Year!",
         "339",
         "2022-12-31 16:26:57",
         "j2hjzse",
         "Meanwhile me who has work on christmas eve, christmas day, new years eve and new year :)).",
         "2023-01-01 09:44:48"
        ],
        [
         "7",
         "zzxqop",
         "Happy New Year!",
         "339",
         "2022-12-31 16:26:57",
         "j2i7d80",
         "hahahaaha same",
         "2023-01-01 14:48:55"
        ],
        [
         "8",
         "zzxqop",
         "Happy New Year!",
         "339",
         "2022-12-31 16:26:57",
         "j2m5mdr",
         "f school man",
         "2023-01-02 09:54:47"
        ],
        [
         "9",
         "zzxqop",
         "Happy New Year!",
         "339",
         "2022-12-31 16:26:57",
         "j4fvc93",
         "Same",
         "2023-01-15 12:41:33"
        ]
       ],
       "shape": {
        "columns": 7,
        "rows": 10
       }
      },
      "text/html": [
       "<div>\n",
       "<style scoped>\n",
       "    .dataframe tbody tr th:only-of-type {\n",
       "        vertical-align: middle;\n",
       "    }\n",
       "\n",
       "    .dataframe tbody tr th {\n",
       "        vertical-align: top;\n",
       "    }\n",
       "\n",
       "    .dataframe thead th {\n",
       "        text-align: right;\n",
       "    }\n",
       "</style>\n",
       "<table border=\"1\" class=\"dataframe\">\n",
       "  <thead>\n",
       "    <tr style=\"text-align: right;\">\n",
       "      <th></th>\n",
       "      <th>Id</th>\n",
       "      <th>Title</th>\n",
       "      <th>Upvotes</th>\n",
       "      <th>Created</th>\n",
       "      <th>CommentId</th>\n",
       "      <th>Comment</th>\n",
       "      <th>CommentCreated</th>\n",
       "    </tr>\n",
       "  </thead>\n",
       "  <tbody>\n",
       "    <tr>\n",
       "      <th>0</th>\n",
       "      <td>xtdia0</td>\n",
       "      <td>Oh boy, 8am lectures. My favorite</td>\n",
       "      <td>627</td>\n",
       "      <td>2022-10-02 02:49:01</td>\n",
       "      <td>iqps23l</td>\n",
       "      <td>HAHA Issa mood boiii</td>\n",
       "      <td>2022-10-02 05:25:29</td>\n",
       "    </tr>\n",
       "    <tr>\n",
       "      <th>1</th>\n",
       "      <td>xtdia0</td>\n",
       "      <td>Oh boy, 8am lectures. My favorite</td>\n",
       "      <td>627</td>\n",
       "      <td>2022-10-02 02:49:01</td>\n",
       "      <td>iqrmg9d</td>\n",
       "      <td>Me everyday on a school day</td>\n",
       "      <td>2022-10-02 16:26:59</td>\n",
       "    </tr>\n",
       "    <tr>\n",
       "      <th>2</th>\n",
       "      <td>xtdia0</td>\n",
       "      <td>Oh boy, 8am lectures. My favorite</td>\n",
       "      <td>627</td>\n",
       "      <td>2022-10-02 02:49:01</td>\n",
       "      <td>iqso6tt</td>\n",
       "      <td>Nothing a Vid test can't fix</td>\n",
       "      <td>2022-10-02 20:19:01</td>\n",
       "    </tr>\n",
       "    <tr>\n",
       "      <th>3</th>\n",
       "      <td>xtdia0</td>\n",
       "      <td>Oh boy, 8am lectures. My favorite</td>\n",
       "      <td>627</td>\n",
       "      <td>2022-10-02 02:49:01</td>\n",
       "      <td>iqpmt6t</td>\n",
       "      <td>I thought the earliest lecture we can get is 8...</td>\n",
       "      <td>2022-10-02 04:26:53</td>\n",
       "    </tr>\n",
       "    <tr>\n",
       "      <th>4</th>\n",
       "      <td>zzxqop</td>\n",
       "      <td>Happy New Year!</td>\n",
       "      <td>339</td>\n",
       "      <td>2022-12-31 16:26:57</td>\n",
       "      <td>j2gyvln</td>\n",
       "      <td>jan 3rd is when my secondary school starts</td>\n",
       "      <td>2023-01-01 05:13:21</td>\n",
       "    </tr>\n",
       "    <tr>\n",
       "      <th>5</th>\n",
       "      <td>zzxqop</td>\n",
       "      <td>Happy New Year!</td>\n",
       "      <td>339</td>\n",
       "      <td>2022-12-31 16:26:57</td>\n",
       "      <td>j54ub3e</td>\n",
       "      <td>HEY, FUCK YOU</td>\n",
       "      <td>2023-01-20 12:15:41</td>\n",
       "    </tr>\n",
       "    <tr>\n",
       "      <th>6</th>\n",
       "      <td>zzxqop</td>\n",
       "      <td>Happy New Year!</td>\n",
       "      <td>339</td>\n",
       "      <td>2022-12-31 16:26:57</td>\n",
       "      <td>j2hjzse</td>\n",
       "      <td>Meanwhile me who has work on christmas eve, ch...</td>\n",
       "      <td>2023-01-01 09:44:48</td>\n",
       "    </tr>\n",
       "    <tr>\n",
       "      <th>7</th>\n",
       "      <td>zzxqop</td>\n",
       "      <td>Happy New Year!</td>\n",
       "      <td>339</td>\n",
       "      <td>2022-12-31 16:26:57</td>\n",
       "      <td>j2i7d80</td>\n",
       "      <td>hahahaaha same</td>\n",
       "      <td>2023-01-01 14:48:55</td>\n",
       "    </tr>\n",
       "    <tr>\n",
       "      <th>8</th>\n",
       "      <td>zzxqop</td>\n",
       "      <td>Happy New Year!</td>\n",
       "      <td>339</td>\n",
       "      <td>2022-12-31 16:26:57</td>\n",
       "      <td>j2m5mdr</td>\n",
       "      <td>f school man</td>\n",
       "      <td>2023-01-02 09:54:47</td>\n",
       "    </tr>\n",
       "    <tr>\n",
       "      <th>9</th>\n",
       "      <td>zzxqop</td>\n",
       "      <td>Happy New Year!</td>\n",
       "      <td>339</td>\n",
       "      <td>2022-12-31 16:26:57</td>\n",
       "      <td>j4fvc93</td>\n",
       "      <td>Same</td>\n",
       "      <td>2023-01-15 12:41:33</td>\n",
       "    </tr>\n",
       "  </tbody>\n",
       "</table>\n",
       "</div>"
      ],
      "text/plain": [
       "       Id                              Title  Upvotes             Created  \\\n",
       "0  xtdia0  Oh boy, 8am lectures. My favorite      627 2022-10-02 02:49:01   \n",
       "1  xtdia0  Oh boy, 8am lectures. My favorite      627 2022-10-02 02:49:01   \n",
       "2  xtdia0  Oh boy, 8am lectures. My favorite      627 2022-10-02 02:49:01   \n",
       "3  xtdia0  Oh boy, 8am lectures. My favorite      627 2022-10-02 02:49:01   \n",
       "4  zzxqop                    Happy New Year!      339 2022-12-31 16:26:57   \n",
       "5  zzxqop                    Happy New Year!      339 2022-12-31 16:26:57   \n",
       "6  zzxqop                    Happy New Year!      339 2022-12-31 16:26:57   \n",
       "7  zzxqop                    Happy New Year!      339 2022-12-31 16:26:57   \n",
       "8  zzxqop                    Happy New Year!      339 2022-12-31 16:26:57   \n",
       "9  zzxqop                    Happy New Year!      339 2022-12-31 16:26:57   \n",
       "\n",
       "  CommentId                                            Comment  \\\n",
       "0   iqps23l                               HAHA Issa mood boiii   \n",
       "1   iqrmg9d                        Me everyday on a school day   \n",
       "2   iqso6tt                       Nothing a Vid test can't fix   \n",
       "3   iqpmt6t  I thought the earliest lecture we can get is 8...   \n",
       "4   j2gyvln         jan 3rd is when my secondary school starts   \n",
       "5   j54ub3e                                      HEY, FUCK YOU   \n",
       "6   j2hjzse  Meanwhile me who has work on christmas eve, ch...   \n",
       "7   j2i7d80                                     hahahaaha same   \n",
       "8   j2m5mdr                                       f school man   \n",
       "9   j4fvc93                                               Same   \n",
       "\n",
       "       CommentCreated  \n",
       "0 2022-10-02 05:25:29  \n",
       "1 2022-10-02 16:26:59  \n",
       "2 2022-10-02 20:19:01  \n",
       "3 2022-10-02 04:26:53  \n",
       "4 2023-01-01 05:13:21  \n",
       "5 2023-01-20 12:15:41  \n",
       "6 2023-01-01 09:44:48  \n",
       "7 2023-01-01 14:48:55  \n",
       "8 2023-01-02 09:54:47  \n",
       "9 2023-01-15 12:41:33  "
      ]
     },
     "execution_count": 17,
     "metadata": {},
     "output_type": "execute_result"
    }
   ],
   "source": [
    "# Print the first 10 rows of the joined data frame\n",
    "df_reddit.head(10)\n",
    "\n",
    "# Hint: submission will be duplicated as many times as there are comments"
   ]
  },
  {
   "cell_type": "code",
   "execution_count": 18,
   "id": "a135b330-daeb-4557-8de8-45fa20bc26fb",
   "metadata": {},
   "outputs": [
    {
     "name": "stderr",
     "output_type": "stream",
     "text": [
      "No model was supplied, defaulted to distilbert/distilbert-base-uncased-finetuned-sst-2-english and revision 714eb0f (https://huggingface.co/distilbert/distilbert-base-uncased-finetuned-sst-2-english).\n",
      "Using a pipeline without specifying a model name and revision in production is not recommended.\n",
      "Device set to use mps:0\n"
     ]
    },
    {
     "name": "stdout",
     "output_type": "stream",
     "text": [
      "[{'label': 'POSITIVE', 'score': 0.9927398562431335}, {'label': 'NEGATIVE', 'score': 0.7195630073547363}, {'label': 'POSITIVE', 'score': 0.999868631362915}, {'label': 'POSITIVE', 'score': 0.9998632669448853}, {'label': 'POSITIVE', 'score': 0.9992561936378479}, {'label': 'POSITIVE', 'score': 0.5723460912704468}, {'label': 'NEGATIVE', 'score': 0.9995667338371277}, {'label': 'POSITIVE', 'score': 0.9972499012947083}, {'label': 'NEGATIVE', 'score': 0.9956018924713135}, {'label': 'NEGATIVE', 'score': 0.9826338887214661}]\n"
     ]
    }
   ],
   "source": [
    "# Now let's run a pre-trained sentiment analysis model on the submissions and comments\n",
    "# A convenient way to execute pre-trained models for standard tasks are Huggingface pipelines\n",
    "# Here we run a standard sentiment analysis pipeline on the first ten submission titles \n",
    "sentiment_pipeline = pipeline(\"sentiment-analysis\", device=0)\n",
    "print(sentiment_pipeline(list(df_submissions['Title'][:10])))"
   ]
  },
  {
   "cell_type": "code",
   "execution_count": 19,
   "id": "514b7c9c-fce9-4a5d-ae9d-0ba3ebb92685",
   "metadata": {},
   "outputs": [],
   "source": [
    "# QUESTION: Complete the function 'analyse_sentiment' which takes a data frame, a Huggingface sentiment pipeline object \n",
    "# and a target column name and adds two columns 'Label' and 'Score' to the data frame in place.\n",
    "# pass the provided tokenizer arguments to the pipeline\n",
    "# The new columns should contain the sentiment labels and scores, respectively.\n",
    "\n",
    "\n",
    "def analyse_sentiment(df, sentiment_pipeline, column):\n",
    "    tokenizer_kwargs = {'padding':True, 'truncation':True, 'max_length':128,}\n",
    "#--- ADD YOUR SOLUTION HERE (10 points)---\n",
    "    res = sentiment_pipeline(list(df[column]), **tokenizer_kwargs)\n",
    "    labels, scores = [], []\n",
    "    for result in res:\n",
    "        labels.append(result[\"label\"])\n",
    "        scores.append(result[\"score\"])\n",
    "    df[\"Labels\"] = labels\n",
    "    df[\"Scores\"] = scores\n",
    "\n",
    "#------------------------------"
   ]
  },
  {
   "cell_type": "code",
   "execution_count": 20,
   "id": "9f8915fe-1ed9-4b4a-82ed-fa34de18427f",
   "metadata": {},
   "outputs": [],
   "source": [
    "# add sentiment labels and scores to the submissions and comments dataframes\n",
    "analyse_sentiment(df_submissions, sentiment_pipeline, 'Title')\n",
    "analyse_sentiment(df_comments, sentiment_pipeline, 'Comment')\n"
   ]
  },
  {
   "cell_type": "code",
   "execution_count": 21,
   "id": "2d7b1a32-9c90-4f05-aa29-4bdd22ad5e31",
   "metadata": {},
   "outputs": [
    {
     "data": {
      "application/vnd.microsoft.datawrangler.viewer.v0+json": {
       "columns": [
        {
         "name": "Id",
         "rawType": "object",
         "type": "string"
        },
        {
         "name": "Title",
         "rawType": "object",
         "type": "string"
        },
        {
         "name": "Upvotes",
         "rawType": "int64",
         "type": "integer"
        },
        {
         "name": "Created",
         "rawType": "datetime64[ns]",
         "type": "datetime"
        },
        {
         "name": "Labels",
         "rawType": "object",
         "type": "string"
        },
        {
         "name": "Scores",
         "rawType": "float64",
         "type": "float"
        }
       ],
       "conversionMethod": "pd.DataFrame",
       "ref": "6483591b-4043-48ac-806c-b8b4c733c445",
       "rows": [
        [
         "xtdia0",
         "Oh boy, 8am lectures. My favorite",
         "627",
         "2022-10-02 02:49:01",
         "POSITIVE",
         "0.9927398562431335"
        ],
        [
         "scyaig",
         "IF I get my engineering degree",
         "413",
         "2022-01-26 05:24:35",
         "NEGATIVE",
         "0.7195630073547363"
        ],
        [
         "zzxqop",
         "Happy New Year!",
         "339",
         "2022-12-31 16:26:57",
         "POSITIVE",
         "0.999868631362915"
        ],
        [
         "rbe5cz",
         "Happy finals!",
         "319",
         "2021-12-08 00:45:22",
         "POSITIVE",
         "0.9998632669448853"
        ],
        [
         "zlci46",
         "You know who you are",
         "266",
         "2022-12-14 00:46:23",
         "POSITIVE",
         "0.9992561936378479"
        ],
        [
         "twvwmf",
         "))))",
         "258",
         "2022-04-05 14:13:21",
         "POSITIVE",
         "0.5723460912704468"
        ],
        [
         "u4qwja",
         "Not very much studying is gonna get done this weekend...",
         "227",
         "2022-04-16 05:31:30",
         "NEGATIVE",
         "0.9995667338371277"
        ],
        [
         "ri6w8v",
         "Last paper today freshie bois! Let's go!",
         "214",
         "2021-12-17 02:35:22",
         "POSITIVE",
         "0.9972499012947083"
        ],
        [
         "qxd05z",
         ">You are T1 Freshie doing the 2D projects",
         "205",
         "2021-11-19 09:57:40",
         "NEGATIVE",
         "0.9956018924713135"
        ],
        [
         "z5uai3",
         "Data_Driven_World.png",
         "205",
         "2022-11-27 06:57:46",
         "NEGATIVE",
         "0.9826338887214661"
        ],
        [
         "10jy8xp",
         "=(",
         "201",
         "2023-01-24 05:34:32",
         "NEGATIVE",
         "0.8018022775650024"
        ],
        [
         "10gjapi",
         "Welcome back",
         "183",
         "2023-01-20 01:18:38",
         "POSITIVE",
         "0.9997938275337219"
        ],
        [
         "zuu357",
         "Merry Christmas/Xmas!",
         "178",
         "2022-12-25 08:33:30",
         "POSITIVE",
         "0.9998226761817932"
        ],
        [
         "xelo31",
         "A warm welcome to all the new freshies joining us. Hope y'all have a wonderful time here X_X",
         "163",
         "2022-09-15 03:17:20",
         "POSITIVE",
         "0.9998766183853149"
        ],
        [
         "t69s49",
         "technOlOgical wOrld",
         "165",
         "2022-03-04 03:46:28",
         "POSITIVE",
         "0.9978943467140198"
        ],
        [
         "yvzmt3",
         "PSA for all students currently bogged down with projects",
         "153",
         "2022-11-15 15:00:47",
         "NEGATIVE",
         "0.9957173466682434"
        ],
        [
         "y1yqfq",
         "\"I think I did fine for my statistics midterm. I studied hard enough.\"",
         "149",
         "2022-10-12 08:58:33",
         "NEGATIVE",
         "0.6952894926071167"
        ],
        [
         "y6aolr",
         "Me getting my statistics midterm back",
         "143",
         "2022-10-17 13:00:58",
         "NEGATIVE",
         "0.9941439032554626"
        ],
        [
         "116x3aq",
         "Fun",
         "137",
         "2023-02-20 03:59:47",
         "POSITIVE",
         "0.9998756647109985"
        ],
        [
         "ten8qg",
         "Choosing T3 electives be like:",
         "129",
         "2022-03-15 11:54:12",
         "NEGATIVE",
         "0.9406153559684753"
        ],
        [
         "ztm6m8",
         "Tragedy",
         "133",
         "2022-12-23 16:51:42",
         "NEGATIVE",
         "0.9992683529853821"
        ],
        [
         "reh3rq",
         "Happy Finals! (part 2)",
         "123",
         "2021-12-12 04:34:24",
         "POSITIVE",
         "0.9998602867126465"
        ],
        [
         "sv9enp",
         "Please, stop making my paper harder than it needs to be",
         "116",
         "2022-02-18 04:56:57",
         "NEGATIVE",
         "0.9988734126091003"
        ],
        [
         "ru7nnp",
         "Term 2, let's go! (soon)",
         "111",
         "2022-01-02 11:15:47",
         "POSITIVE",
         "0.9333671927452087"
        ],
        [
         "j9nw0u",
         "Best place to sleep during class?",
         "69",
         "2020-10-12 09:39:05",
         "NEGATIVE",
         "0.9977350234985352"
        ],
        [
         "slwikv",
         "Ngl, I don't really like navigating the SUTD Portal either",
         "61",
         "2022-02-06 13:20:49",
         "NEGATIVE",
         "0.9990524649620056"
        ],
        [
         "rfvlrc",
         "10.013",
         "59",
         "2021-12-14 01:25:17",
         "POSITIVE",
         "0.9759989976882935"
        ],
        [
         "11x2ebo",
         "Imagine attending lectures",
         "58",
         "2023-03-21 01:10:11",
         "POSITIVE",
         "0.6228188276290894"
        ],
        [
         "n3a6eq",
         "Reflections about SUTD after 1 year (for incoming students)",
         "62",
         "2021-05-02 16:34:35",
         "POSITIVE",
         "0.9801034927368164"
        ],
        [
         "110uoh7",
         "Stayed up till dawn",
         "57",
         "2023-02-13 00:25:08",
         "POSITIVE",
         "0.9602591395378113"
        ],
        [
         "wur3a6",
         "I’m an Air Traffic Controller. AMA",
         "60",
         "2022-08-22 11:29:36",
         "POSITIVE",
         "0.9236609935760498"
        ],
        [
         "10qkicn",
         "Bamboozled",
         "54",
         "2023-02-01 04:29:10",
         "NEGATIVE",
         "0.9352090358734131"
        ],
        [
         "yvppyt",
         ">attends class",
         "53",
         "2022-11-15 07:09:39",
         "POSITIVE",
         "0.9962738752365112"
        ],
        [
         "yae75m",
         "DES. DES. DES. 😀😀😀😀😀😀",
         "44",
         "2022-10-22 04:38:02",
         "NEGATIVE",
         "0.9799039363861084"
        ],
        [
         "12pb2vy",
         "30.007 / 3.007 Moment",
         "41",
         "2023-04-17 10:31:59",
         "NEGATIVE",
         "0.702337920665741"
        ],
        [
         "th1zyo",
         "This week does not spark joy",
         "39",
         "2022-03-18 14:00:18",
         "NEGATIVE",
         "0.9997784495353699"
        ],
        [
         "ulpf28",
         "*grabs popcorn",
         "40",
         "2022-05-09 11:49:49",
         "POSITIVE",
         "0.9984531402587891"
        ],
        [
         "mkrw43",
         "1 year in Uni so far and here’s my reflection",
         "34",
         "2021-04-05 18:51:31",
         "POSITIVE",
         "0.9097096920013428"
        ],
        [
         "118x9a2",
         "I have had it with the marketing of this school",
         "31",
         "2023-02-22 12:43:58",
         "NEGATIVE",
         "0.9740003347396851"
        ],
        [
         "1267gr5",
         "Engineering magic oil",
         "29",
         "2023-03-30 01:35:54",
         "POSITIVE",
         "0.9934258460998535"
        ],
        [
         "jbzbj6",
         "Shitty gym staff",
         "27",
         "2020-10-16 00:04:23",
         "NEGATIVE",
         "0.999777615070343"
        ],
        [
         "t0cctn",
         "An interesting module",
         "26",
         "2022-02-24 14:30:15",
         "POSITIVE",
         "0.9997921586036682"
        ],
        [
         "eqj3x0",
         "10 Lies to Join SUTD",
         "25",
         "2020-01-18 17:12:06",
         "NEGATIVE",
         "0.8960855603218079"
        ],
        [
         "raq9s8",
         "Failed to turn up for finals",
         "24",
         "2021-12-07 04:07:05",
         "NEGATIVE",
         "0.9994916915893555"
        ],
        [
         "i140cf",
         "Join the /r/sutd Discord server!",
         "23",
         "2020-07-31 08:34:20",
         "NEGATIVE",
         "0.9981426000595093"
        ],
        [
         "g0kl3x",
         "From the SUTD Website: Message to Incoming Freshmen on Start of Term in May 2020",
         "21",
         "2020-04-13 15:01:18",
         "POSITIVE",
         "0.8832798600196838"
        ],
        [
         "nd2vuu",
         "Is the ISTD faculty good?",
         "20",
         "2021-05-15 16:37:38",
         "NEGATIVE",
         "0.7347357869148254"
        ],
        [
         "ncpepl",
         "uncertain & need some advice",
         "20",
         "2021-05-15 03:00:13",
         "NEGATIVE",
         "0.9985029697418213"
        ],
        [
         "13cidye",
         "Application timeline",
         "18",
         "2023-05-09 07:13:03",
         "POSITIVE",
         "0.8406817317008972"
        ],
        [
         "gd9ius",
         "/r/sutd Updates - 4 May 2020",
         "19",
         "2020-05-04 11:00:02",
         "POSITIVE",
         "0.6384133696556091"
        ]
       ],
       "shape": {
        "columns": 5,
        "rows": 594
       }
      },
      "text/html": [
       "<div>\n",
       "<style scoped>\n",
       "    .dataframe tbody tr th:only-of-type {\n",
       "        vertical-align: middle;\n",
       "    }\n",
       "\n",
       "    .dataframe tbody tr th {\n",
       "        vertical-align: top;\n",
       "    }\n",
       "\n",
       "    .dataframe thead th {\n",
       "        text-align: right;\n",
       "    }\n",
       "</style>\n",
       "<table border=\"1\" class=\"dataframe\">\n",
       "  <thead>\n",
       "    <tr style=\"text-align: right;\">\n",
       "      <th></th>\n",
       "      <th>Title</th>\n",
       "      <th>Upvotes</th>\n",
       "      <th>Created</th>\n",
       "      <th>Labels</th>\n",
       "      <th>Scores</th>\n",
       "    </tr>\n",
       "    <tr>\n",
       "      <th>Id</th>\n",
       "      <th></th>\n",
       "      <th></th>\n",
       "      <th></th>\n",
       "      <th></th>\n",
       "      <th></th>\n",
       "    </tr>\n",
       "  </thead>\n",
       "  <tbody>\n",
       "    <tr>\n",
       "      <th>xtdia0</th>\n",
       "      <td>Oh boy, 8am lectures. My favorite</td>\n",
       "      <td>627</td>\n",
       "      <td>2022-10-02 02:49:01</td>\n",
       "      <td>POSITIVE</td>\n",
       "      <td>0.992740</td>\n",
       "    </tr>\n",
       "    <tr>\n",
       "      <th>scyaig</th>\n",
       "      <td>IF I get my engineering degree</td>\n",
       "      <td>413</td>\n",
       "      <td>2022-01-26 05:24:35</td>\n",
       "      <td>NEGATIVE</td>\n",
       "      <td>0.719563</td>\n",
       "    </tr>\n",
       "    <tr>\n",
       "      <th>zzxqop</th>\n",
       "      <td>Happy New Year!</td>\n",
       "      <td>339</td>\n",
       "      <td>2022-12-31 16:26:57</td>\n",
       "      <td>POSITIVE</td>\n",
       "      <td>0.999869</td>\n",
       "    </tr>\n",
       "    <tr>\n",
       "      <th>rbe5cz</th>\n",
       "      <td>Happy finals!</td>\n",
       "      <td>319</td>\n",
       "      <td>2021-12-08 00:45:22</td>\n",
       "      <td>POSITIVE</td>\n",
       "      <td>0.999863</td>\n",
       "    </tr>\n",
       "    <tr>\n",
       "      <th>zlci46</th>\n",
       "      <td>You know who you are</td>\n",
       "      <td>266</td>\n",
       "      <td>2022-12-14 00:46:23</td>\n",
       "      <td>POSITIVE</td>\n",
       "      <td>0.999256</td>\n",
       "    </tr>\n",
       "    <tr>\n",
       "      <th>...</th>\n",
       "      <td>...</td>\n",
       "      <td>...</td>\n",
       "      <td>...</td>\n",
       "      <td>...</td>\n",
       "      <td>...</td>\n",
       "    </tr>\n",
       "    <tr>\n",
       "      <th>b7nv4i</th>\n",
       "      <td>SUTD started sending rejection letter already?</td>\n",
       "      <td>3</td>\n",
       "      <td>2019-03-31 13:41:25</td>\n",
       "      <td>NEGATIVE</td>\n",
       "      <td>0.998578</td>\n",
       "    </tr>\n",
       "    <tr>\n",
       "      <th>b579t4</th>\n",
       "      <td>upcoming SUTD interviews</td>\n",
       "      <td>3</td>\n",
       "      <td>2019-03-25 06:47:32</td>\n",
       "      <td>POSITIVE</td>\n",
       "      <td>0.845063</td>\n",
       "    </tr>\n",
       "    <tr>\n",
       "      <th>b41vpw</th>\n",
       "      <td>Another new (prospective) undergraduate!</td>\n",
       "      <td>3</td>\n",
       "      <td>2019-03-22 07:04:34</td>\n",
       "      <td>POSITIVE</td>\n",
       "      <td>0.967637</td>\n",
       "    </tr>\n",
       "    <tr>\n",
       "      <th>axezas</th>\n",
       "      <td>How is the SUTD skype interview like?</td>\n",
       "      <td>3</td>\n",
       "      <td>2019-03-05 01:02:11</td>\n",
       "      <td>NEGATIVE</td>\n",
       "      <td>0.997661</td>\n",
       "    </tr>\n",
       "    <tr>\n",
       "      <th>atijac</th>\n",
       "      <td>Open house starts tomorrow. Ask an ESD Senior ...</td>\n",
       "      <td>3</td>\n",
       "      <td>2019-02-22 14:59:05</td>\n",
       "      <td>NEGATIVE</td>\n",
       "      <td>0.601493</td>\n",
       "    </tr>\n",
       "  </tbody>\n",
       "</table>\n",
       "<p>594 rows × 5 columns</p>\n",
       "</div>"
      ],
      "text/plain": [
       "                                                    Title  Upvotes  \\\n",
       "Id                                                                   \n",
       "xtdia0                  Oh boy, 8am lectures. My favorite      627   \n",
       "scyaig                     IF I get my engineering degree      413   \n",
       "zzxqop                                    Happy New Year!      339   \n",
       "rbe5cz                                      Happy finals!      319   \n",
       "zlci46                               You know who you are      266   \n",
       "...                                                   ...      ...   \n",
       "b7nv4i     SUTD started sending rejection letter already?        3   \n",
       "b579t4                           upcoming SUTD interviews        3   \n",
       "b41vpw           Another new (prospective) undergraduate!        3   \n",
       "axezas              How is the SUTD skype interview like?        3   \n",
       "atijac  Open house starts tomorrow. Ask an ESD Senior ...        3   \n",
       "\n",
       "                   Created    Labels    Scores  \n",
       "Id                                              \n",
       "xtdia0 2022-10-02 02:49:01  POSITIVE  0.992740  \n",
       "scyaig 2022-01-26 05:24:35  NEGATIVE  0.719563  \n",
       "zzxqop 2022-12-31 16:26:57  POSITIVE  0.999869  \n",
       "rbe5cz 2021-12-08 00:45:22  POSITIVE  0.999863  \n",
       "zlci46 2022-12-14 00:46:23  POSITIVE  0.999256  \n",
       "...                    ...       ...       ...  \n",
       "b7nv4i 2019-03-31 13:41:25  NEGATIVE  0.998578  \n",
       "b579t4 2019-03-25 06:47:32  POSITIVE  0.845063  \n",
       "b41vpw 2019-03-22 07:04:34  POSITIVE  0.967637  \n",
       "axezas 2019-03-05 01:02:11  NEGATIVE  0.997661  \n",
       "atijac 2019-02-22 14:59:05  NEGATIVE  0.601493  \n",
       "\n",
       "[594 rows x 5 columns]"
      ]
     },
     "execution_count": 21,
     "metadata": {},
     "output_type": "execute_result"
    }
   ],
   "source": [
    "# display dataframe \n",
    "df_submissions"
   ]
  },
  {
   "cell_type": "code",
   "execution_count": 22,
   "id": "6dd22ae4-a562-4be6-bf48-8c13272f0fa9",
   "metadata": {},
   "outputs": [
    {
     "data": {
      "application/vnd.microsoft.datawrangler.viewer.v0+json": {
       "columns": [
        {
         "name": "CommentId",
         "rawType": "object",
         "type": "string"
        },
        {
         "name": "Comment",
         "rawType": "object",
         "type": "string"
        },
        {
         "name": "CommentCreated",
         "rawType": "datetime64[ns]",
         "type": "datetime"
        },
        {
         "name": "Id",
         "rawType": "object",
         "type": "string"
        },
        {
         "name": "Labels",
         "rawType": "object",
         "type": "string"
        },
        {
         "name": "Scores",
         "rawType": "float64",
         "type": "float"
        }
       ],
       "conversionMethod": "pd.DataFrame",
       "ref": "4d0550fd-51f5-478d-af67-96d2f6d17520",
       "rows": [
        [
         "iqps23l",
         "HAHA Issa mood boiii",
         "2022-10-02 05:25:29",
         "xtdia0",
         "NEGATIVE",
         "0.8813447952270508"
        ],
        [
         "iqrmg9d",
         "Me everyday on a school day",
         "2022-10-02 16:26:59",
         "xtdia0",
         "POSITIVE",
         "0.9879023432731628"
        ],
        [
         "iqso6tt",
         "Nothing a Vid test can't fix",
         "2022-10-02 20:19:01",
         "xtdia0",
         "NEGATIVE",
         "0.9996721744537354"
        ],
        [
         "iqpmt6t",
         "I thought the earliest lecture we can get is 8:30?",
         "2022-10-02 04:26:53",
         "xtdia0",
         "NEGATIVE",
         "0.9923403263092041"
        ],
        [
         "j2gyvln",
         "jan 3rd is when my secondary school starts",
         "2023-01-01 05:13:21",
         "zzxqop",
         "NEGATIVE",
         "0.6963607668876648"
        ],
        [
         "j54ub3e",
         "HEY, FUCK YOU",
         "2023-01-20 12:15:41",
         "zzxqop",
         "POSITIVE",
         "0.8765620589256287"
        ],
        [
         "j2hjzse",
         "Meanwhile me who has work on christmas eve, christmas day, new years eve and new year :)).",
         "2023-01-01 09:44:48",
         "zzxqop",
         "POSITIVE",
         "0.9771468043327332"
        ],
        [
         "j2i7d80",
         "hahahaaha same",
         "2023-01-01 14:48:55",
         "zzxqop",
         "NEGATIVE",
         "0.8958965539932251"
        ],
        [
         "j2m5mdr",
         "f school man",
         "2023-01-02 09:54:47",
         "zzxqop",
         "NEGATIVE",
         "0.8711312413215637"
        ],
        [
         "j4fvc93",
         "Same",
         "2023-01-15 12:41:33",
         "zzxqop",
         "NEGATIVE",
         "0.984588086605072"
        ],
        [
         "j2h3dy4",
         "Same",
         "2023-01-01 06:00:09",
         "zzxqop",
         "NEGATIVE",
         "0.984588086605072"
        ],
        [
         "j2hpvlm",
         "My condolences",
         "2023-01-01 11:16:12",
         "zzxqop",
         "POSITIVE",
         "0.9925643801689148"
        ],
        [
         "j2hem88",
         "Same",
         "2023-01-01 08:23:51",
         "zzxqop",
         "NEGATIVE",
         "0.984588086605072"
        ],
        [
         "j2hpv3z",
         "F ^^",
         "2023-01-01 11:15:59",
         "zzxqop",
         "POSITIVE",
         "0.6556858420372009"
        ],
        [
         "hnovlgx",
         "Yea, even worse, my group project teammates are downright useless.",
         "2021-12-08 06:46:14",
         "rbe5cz",
         "NEGATIVE",
         "0.9998223185539246"
        ],
        [
         "hnouij1",
         "sauce?",
         "2021-12-08 06:32:13",
         "rbe5cz",
         "NEGATIVE",
         "0.984789252281189"
        ],
        [
         "hnovm3o",
         "Yea, coequal worse, mine own group project teammates art downright hilding\n\n***\n\n\n\n^(I am a bot and I swapp'd some of thy words with Shakespeare words.)\n\nCommands: `!ShakespeareInsult`, `!fordo`, `!optout`",
         "2021-12-08 06:46:28",
         "rbe5cz",
         "NEGATIVE",
         "0.9924877882003784"
        ],
        [
         "hnovoml",
         "Stolen from another meme site. Anime is Zombieland Saga",
         "2021-12-08 06:47:23",
         "rbe5cz",
         "NEGATIVE",
         "0.9963776469230652"
        ],
        [
         "hnovk7s",
         "Zombieland saga",
         "2021-12-08 06:45:46",
         "rbe5cz",
         "NEGATIVE",
         "0.9917953610420227"
        ],
        [
         "hnovmqh",
         "Shakespeare-Bot, thou hast been voted most annoying bot on Reddit. I am exhorting all mods to ban thee and thy useless rhetoric so that we shall not be blotted with thy presence any longer.",
         "2021-12-08 06:46:42",
         "rbe5cz",
         "NEGATIVE",
         "0.9982923865318298"
        ],
        [
         "hnp0zlg",
         "Bad bot",
         "2021-12-08 07:59:20",
         "rbe5cz",
         "NEGATIVE",
         "0.9997825026512146"
        ],
        [
         "hnp102v",
         "Thank you, Gamillie, for voting on bot-killer-001.\n\nThis bot wants to find the best and worst bots on Reddit. [You can view results here](https://botrank.pastimes.eu/).\n\n***\n\n^(Even if I don't reply to your comment, I'm still listening for votes. Check the webpage to see if your vote registered!)",
         "2021-12-08 07:59:32",
         "rbe5cz",
         "NEGATIVE",
         "0.9631710052490234"
        ],
        [
         "j1h8odb",
         "study from home everyday",
         "2022-12-24 09:14:27",
         "zlci46",
         "POSITIVE",
         "0.9984524250030518"
        ],
        [
         "i3hryvp",
         "Day after day\n\nAs time flies away\n\nI think and I ponder\n\nSanity with me no longer",
         "2022-04-05 14:23:04",
         "twvwmf",
         "NEGATIVE",
         "0.9878984093666077"
        ],
        [
         "i3je0tc",
         "Amen to that",
         "2022-04-05 20:40:53",
         "twvwmf",
         "NEGATIVE",
         "0.5753312706947327"
        ],
        [
         "i51q66v",
         "Lol",
         "2022-04-17 05:01:22",
         "u4qwja",
         "NEGATIVE",
         "0.943817675113678"
        ],
        [
         "hovpo4m",
         "Very true happened to me once",
         "2021-12-17 05:11:34",
         "ri6w8v",
         "POSITIVE",
         "0.9988014698028564"
        ],
        [
         "hox9bo6",
         "Tears of joy",
         "2021-12-17 14:50:47",
         "ri6w8v",
         "POSITIVE",
         "0.9997950196266174"
        ],
        [
         "ixyfptk",
         "HAHAHAHAHA",
         "2022-11-27 10:26:15",
         "z5uai3",
         "NEGATIVE",
         "0.5392103791236877"
        ],
        [
         "j2eah5b",
         "This is coding on another level 😦",
         "2022-12-31 16:57:57",
         "z5uai3",
         "NEGATIVE",
         "0.9885827302932739"
        ],
        [
         "j5y4t32",
         "Me who mains outlook:😐",
         "2023-01-26 11:02:03",
         "10jy8xp",
         "NEGATIVE",
         "0.8732188940048218"
        ],
        [
         "j53xno6",
         "u/savevideo",
         "2023-01-20 05:33:19",
         "10gjapi",
         "NEGATIVE",
         "0.9826974272727966"
        ],
        [
         "j53xnub",
         "###[View link](https://redditsave.com/r/sutd/comments/10gjapi/welcome_back/)\n\n\n --- \n [**Info**](https://np.reddit.com/user/SaveVideo/comments/jv323v/info/)&#32;|&#32; [**Feedback**](https://np.reddit.com/message/compose/?to=Kryptonh&subject=Feedback for savevideo)&#32;|&#32;[**Donate**](https://ko-fi.com/getvideo) &#32;|&#32; [**DMCA**](https://np.reddit.com/message/compose/?to=Kryptonh&subject=Content removal request for savevideo&message=https://np.reddit.com//r/sutd/comments/10gjapi/welcome_back/) &#32;|&#32; \n [^(reddit video downloader)](https://redditsave.com) &#32;|&#32; [^(download video tiktok)](https://taksave.com)",
         "2023-01-20 05:33:22",
         "10gjapi",
         "NEGATIVE",
         "0.9545677900314331"
        ],
        [
         "j1lfeab",
         "weed? Hello polis this post right here",
         "2022-12-25 09:14:13",
         "zuu357",
         "NEGATIVE",
         "0.9928058981895447"
        ],
        [
         "j1oe5uc",
         "\"So anyways, that's how I lost my license\"",
         "2022-12-26 02:08:29",
         "zuu357",
         "NEGATIVE",
         "0.9997913241386414"
        ],
        [
         "hzdst0y",
         "\"I shall study 2 hours before finals\"",
         "2022-03-04 23:30:03",
         "t69s49",
         "NEGATIVE",
         "0.9149598479270935"
        ],
        [
         "hzblfgy",
         "good meme",
         "2022-03-04 14:48:27",
         "t69s49",
         "POSITIVE",
         "0.999835729598999"
        ],
        [
         "hzeoop4",
         "True heuristic is copying ur lect notes onto ur cheatsheet and learning the concepts during the exam",
         "2022-03-05 03:28:01",
         "t69s49",
         "POSITIVE",
         "0.9604606032371521"
        ],
        [
         "hzdvnnn",
         "The true big brain is studying after the finals",
         "2022-03-04 23:50:12",
         "t69s49",
         "POSITIVE",
         "0.9899423122406006"
        ],
        [
         "iwjkbl4",
         "🤣🤣🤣dammm",
         "2022-11-16 02:35:29",
         "yvzmt3",
         "NEGATIVE",
         "0.6970556378364563"
        ],
        [
         "is1bd55",
         "Im stealing this",
         "2022-10-12 16:08:35",
         "y1yqfq",
         "NEGATIVE",
         "0.9971394538879395"
        ],
        [
         "isrgs86",
         "This looks like a dnd meme, I approve",
         "2022-10-18 03:49:57",
         "y6aolr",
         "POSITIVE",
         "0.9984887838363647"
        ],
        [
         "iss4xyl",
         "You are S.P.E.C.I.A.L.L.L.L.L.L.L.L.L.L.",
         "2022-10-18 08:56:56",
         "y6aolr",
         "POSITIVE",
         "0.8710178136825562"
        ],
        [
         "isrhoyi",
         "Fallout*",
         "2022-10-18 03:58:28",
         "y6aolr",
         "NEGATIVE",
         "0.9582991600036621"
        ],
        [
         "iss6ffg",
         "New vegas?",
         "2022-10-18 09:19:42",
         "y6aolr",
         "POSITIVE",
         "0.5111160278320312"
        ],
        [
         "j9clhv3",
         "Oh no",
         "2023-02-20 22:56:55",
         "116x3aq",
         "NEGATIVE",
         "0.995171844959259"
        ],
        [
         "i0qofgy",
         "not much selection ngl :/",
         "2022-03-15 12:21:06",
         "ten8qg",
         "NEGATIVE",
         "0.999715268611908"
        ],
        [
         "i0remqi",
         "DES is the easiest ngl, DDW a lot harder than u might think",
         "2022-03-15 15:39:59",
         "ten8qg",
         "NEGATIVE",
         "0.997380793094635"
        ],
        [
         "i0tq283",
         "thats just for u\n\ncome on man give DDW some credit\n\nbut yea DES is easy lol",
         "2022-03-16 00:53:05",
         "ten8qg",
         "NEGATIVE",
         "0.9381476044654846"
        ],
        [
         "i0tx6w0",
         "ur making fun of my mental disability :D",
         "2022-03-16 01:45:18",
         "ten8qg",
         "NEGATIVE",
         "0.9913952946662903"
        ]
       ],
       "shape": {
        "columns": 5,
        "rows": 3904
       }
      },
      "text/html": [
       "<div>\n",
       "<style scoped>\n",
       "    .dataframe tbody tr th:only-of-type {\n",
       "        vertical-align: middle;\n",
       "    }\n",
       "\n",
       "    .dataframe tbody tr th {\n",
       "        vertical-align: top;\n",
       "    }\n",
       "\n",
       "    .dataframe thead th {\n",
       "        text-align: right;\n",
       "    }\n",
       "</style>\n",
       "<table border=\"1\" class=\"dataframe\">\n",
       "  <thead>\n",
       "    <tr style=\"text-align: right;\">\n",
       "      <th></th>\n",
       "      <th>Comment</th>\n",
       "      <th>CommentCreated</th>\n",
       "      <th>Id</th>\n",
       "      <th>Labels</th>\n",
       "      <th>Scores</th>\n",
       "    </tr>\n",
       "    <tr>\n",
       "      <th>CommentId</th>\n",
       "      <th></th>\n",
       "      <th></th>\n",
       "      <th></th>\n",
       "      <th></th>\n",
       "      <th></th>\n",
       "    </tr>\n",
       "  </thead>\n",
       "  <tbody>\n",
       "    <tr>\n",
       "      <th>iqps23l</th>\n",
       "      <td>HAHA Issa mood boiii</td>\n",
       "      <td>2022-10-02 05:25:29</td>\n",
       "      <td>xtdia0</td>\n",
       "      <td>NEGATIVE</td>\n",
       "      <td>0.881345</td>\n",
       "    </tr>\n",
       "    <tr>\n",
       "      <th>iqrmg9d</th>\n",
       "      <td>Me everyday on a school day</td>\n",
       "      <td>2022-10-02 16:26:59</td>\n",
       "      <td>xtdia0</td>\n",
       "      <td>POSITIVE</td>\n",
       "      <td>0.987902</td>\n",
       "    </tr>\n",
       "    <tr>\n",
       "      <th>iqso6tt</th>\n",
       "      <td>Nothing a Vid test can't fix</td>\n",
       "      <td>2022-10-02 20:19:01</td>\n",
       "      <td>xtdia0</td>\n",
       "      <td>NEGATIVE</td>\n",
       "      <td>0.999672</td>\n",
       "    </tr>\n",
       "    <tr>\n",
       "      <th>iqpmt6t</th>\n",
       "      <td>I thought the earliest lecture we can get is 8...</td>\n",
       "      <td>2022-10-02 04:26:53</td>\n",
       "      <td>xtdia0</td>\n",
       "      <td>NEGATIVE</td>\n",
       "      <td>0.992340</td>\n",
       "    </tr>\n",
       "    <tr>\n",
       "      <th>j2gyvln</th>\n",
       "      <td>jan 3rd is when my secondary school starts</td>\n",
       "      <td>2023-01-01 05:13:21</td>\n",
       "      <td>zzxqop</td>\n",
       "      <td>NEGATIVE</td>\n",
       "      <td>0.696361</td>\n",
       "    </tr>\n",
       "    <tr>\n",
       "      <th>...</th>\n",
       "      <td>...</td>\n",
       "      <td>...</td>\n",
       "      <td>...</td>\n",
       "      <td>...</td>\n",
       "      <td>...</td>\n",
       "    </tr>\n",
       "    <tr>\n",
       "      <th>jkrjznb</th>\n",
       "      <td>hey! got my acceptance today</td>\n",
       "      <td>2023-05-19 12:45:12</td>\n",
       "      <td>13jqat4</td>\n",
       "      <td>POSITIVE</td>\n",
       "      <td>0.999398</td>\n",
       "    </tr>\n",
       "    <tr>\n",
       "      <th>johzqeu</th>\n",
       "      <td>hi y’allz, mine updated to unsuccessful, wishi...</td>\n",
       "      <td>2023-06-17 18:50:10</td>\n",
       "      <td>13jqat4</td>\n",
       "      <td>POSITIVE</td>\n",
       "      <td>0.619020</td>\n",
       "    </tr>\n",
       "    <tr>\n",
       "      <th>jo1hrsu</th>\n",
       "      <td>I’m an international student from china and I ...</td>\n",
       "      <td>2023-06-13 22:37:17</td>\n",
       "      <td>13jqat4</td>\n",
       "      <td>POSITIVE</td>\n",
       "      <td>0.651068</td>\n",
       "    </tr>\n",
       "    <tr>\n",
       "      <th>jklk6o3</th>\n",
       "      <td>Congratulation! Did you get any scholarship?</td>\n",
       "      <td>2023-05-18 05:02:25</td>\n",
       "      <td>13jqat4</td>\n",
       "      <td>NEGATIVE</td>\n",
       "      <td>0.922409</td>\n",
       "    </tr>\n",
       "    <tr>\n",
       "      <th>jkrk1pl</th>\n",
       "      <td>that's so cool, will you be matriculating this...</td>\n",
       "      <td>2023-05-19 12:45:40</td>\n",
       "      <td>13jqat4</td>\n",
       "      <td>POSITIVE</td>\n",
       "      <td>0.999650</td>\n",
       "    </tr>\n",
       "  </tbody>\n",
       "</table>\n",
       "<p>3904 rows × 5 columns</p>\n",
       "</div>"
      ],
      "text/plain": [
       "                                                     Comment  \\\n",
       "CommentId                                                      \n",
       "iqps23l                                 HAHA Issa mood boiii   \n",
       "iqrmg9d                          Me everyday on a school day   \n",
       "iqso6tt                         Nothing a Vid test can't fix   \n",
       "iqpmt6t    I thought the earliest lecture we can get is 8...   \n",
       "j2gyvln           jan 3rd is when my secondary school starts   \n",
       "...                                                      ...   \n",
       "jkrjznb                         hey! got my acceptance today   \n",
       "johzqeu    hi y’allz, mine updated to unsuccessful, wishi...   \n",
       "jo1hrsu    I’m an international student from china and I ...   \n",
       "jklk6o3         Congratulation! Did you get any scholarship?   \n",
       "jkrk1pl    that's so cool, will you be matriculating this...   \n",
       "\n",
       "               CommentCreated       Id    Labels    Scores  \n",
       "CommentId                                                   \n",
       "iqps23l   2022-10-02 05:25:29   xtdia0  NEGATIVE  0.881345  \n",
       "iqrmg9d   2022-10-02 16:26:59   xtdia0  POSITIVE  0.987902  \n",
       "iqso6tt   2022-10-02 20:19:01   xtdia0  NEGATIVE  0.999672  \n",
       "iqpmt6t   2022-10-02 04:26:53   xtdia0  NEGATIVE  0.992340  \n",
       "j2gyvln   2023-01-01 05:13:21   zzxqop  NEGATIVE  0.696361  \n",
       "...                       ...      ...       ...       ...  \n",
       "jkrjznb   2023-05-19 12:45:12  13jqat4  POSITIVE  0.999398  \n",
       "johzqeu   2023-06-17 18:50:10  13jqat4  POSITIVE  0.619020  \n",
       "jo1hrsu   2023-06-13 22:37:17  13jqat4  POSITIVE  0.651068  \n",
       "jklk6o3   2023-05-18 05:02:25  13jqat4  NEGATIVE  0.922409  \n",
       "jkrk1pl   2023-05-19 12:45:40  13jqat4  POSITIVE  0.999650  \n",
       "\n",
       "[3904 rows x 5 columns]"
      ]
     },
     "execution_count": 22,
     "metadata": {},
     "output_type": "execute_result"
    }
   ],
   "source": [
    "# display dataframe \n",
    "df_comments"
   ]
  },
  {
   "cell_type": "markdown",
   "id": "c840e3c2-6c18-45c0-b9b7-16291dcf5bf4",
   "metadata": {},
   "source": [
    "### QUESTION: \n",
    "From a first inspection of the results, what problems can you see with our current sentiment analysis?\n",
    "What model is used for the sentiment analysis and how was is trained?\n",
    "\n",
    "**--- ADD YOUR SOLUTION HERE (5 points) ---**\n",
    "\n",
    "The sentiment analysis is not very acurate as it miscategorised some comments and title as Negative when they carry positive sentiments and vice versa. The data also lacks a \"Neutral\" label for comments and titles that do not carry positive nor negative sentiments, hence these comments and titles are miscategorised as well. The model also categorises the comments based on the Title, without taking into account the context of the post's title. \n",
    "\n",
    "The model used was distilbert/distilbert-base-uncased-finetuned-sst-2-english which used stanfordnlp/sst2 dataset that consists of data that are carry binary labels \"Positive\" or \"Negative\".\n",
    "\n",
    "------------------------------\n"
   ]
  },
  {
   "cell_type": "code",
   "execution_count": 23,
   "id": "8f73f29c-9728-4a19-8d5a-9e7440d56f8d",
   "metadata": {},
   "outputs": [
    {
     "name": "stderr",
     "output_type": "stream",
     "text": [
      "Device set to use mps:0\n"
     ]
    },
    {
     "name": "stdout",
     "output_type": "stream",
     "text": [
      "[{'label': 'POS', 'score': 0.9874617457389832}, {'label': 'NEU', 'score': 0.846713662147522}, {'label': 'POS', 'score': 0.9924977421760559}, {'label': 'POS', 'score': 0.992440938949585}, {'label': 'NEU', 'score': 0.6117529273033142}, {'label': 'POS', 'score': 0.6473573446273804}, {'label': 'NEG', 'score': 0.8963016271591187}, {'label': 'POS', 'score': 0.9389117956161499}, {'label': 'NEU', 'score': 0.97343510389328}, {'label': 'NEU', 'score': 0.9616515636444092}]\n"
     ]
    }
   ],
   "source": [
    "# QUESTION: Update the sentiment pipeline to use the model \"finiteautomata/bertweet-base-sentiment-analysis\" from Huggingface\n",
    "# The model should output three classes: 'POS', 'NEG', 'NEU'\n",
    "# Store the model name in separate variable \"model_name\"\n",
    "\n",
    "#--- ADD YOUR SOLUTION HERE (5 points) ---\n",
    "model_name = \"finiteautomata/bertweet-base-sentiment-analysis\"\n",
    "sentiment_pipeline = pipeline(task = \"sentiment-analysis\", model = model_name, device=0)\n",
    "print(sentiment_pipeline(list(df_submissions['Title'][:10])))\n",
    "#------------------------------\n"
   ]
  },
  {
   "cell_type": "markdown",
   "id": "72f89112",
   "metadata": {},
   "source": [
    "### QUESTION: \n",
    "\n",
    "Explain why this model is better suited for the task (max 100 words).\n",
    "\n",
    "**--- ADD YOUR SOLUTION HERE (5 points) ---**\n",
    "\n",
    "This model is able to more appropriately categorise the comments as there are comments that carry a neutral sentiment which this model is able to categorise. Comments that are simply stating some facts or have no tone overall can now be categorised as neutral.\n",
    "\n",
    "------------------------------\n"
   ]
  },
  {
   "cell_type": "code",
   "execution_count": 24,
   "id": "24e71586-a9b8-4e62-ad0a-df55c2999c85",
   "metadata": {},
   "outputs": [],
   "source": [
    "# re-run the sentiment analysis of submissions and comments\n",
    "analyse_sentiment(df_submissions, sentiment_pipeline, 'Title')\n",
    "analyse_sentiment(df_comments, sentiment_pipeline, 'Comment')\n"
   ]
  },
  {
   "cell_type": "code",
   "execution_count": 25,
   "id": "33d66588-1b79-4d05-a00d-3c09f5012bf9",
   "metadata": {},
   "outputs": [
    {
     "data": {
      "application/vnd.microsoft.datawrangler.viewer.v0+json": {
       "columns": [
        {
         "name": "Id",
         "rawType": "object",
         "type": "string"
        },
        {
         "name": "Title",
         "rawType": "object",
         "type": "string"
        },
        {
         "name": "Upvotes",
         "rawType": "int64",
         "type": "integer"
        },
        {
         "name": "Created",
         "rawType": "datetime64[ns]",
         "type": "datetime"
        },
        {
         "name": "Labels",
         "rawType": "object",
         "type": "string"
        },
        {
         "name": "Scores",
         "rawType": "float64",
         "type": "float"
        }
       ],
       "conversionMethod": "pd.DataFrame",
       "ref": "e485b0fd-d93e-424f-8b6d-b0bdec66216e",
       "rows": [
        [
         "xtdia0",
         "Oh boy, 8am lectures. My favorite",
         "627",
         "2022-10-02 02:49:01",
         "POS",
         "0.9874617457389832"
        ],
        [
         "scyaig",
         "IF I get my engineering degree",
         "413",
         "2022-01-26 05:24:35",
         "NEU",
         "0.846713662147522"
        ],
        [
         "zzxqop",
         "Happy New Year!",
         "339",
         "2022-12-31 16:26:57",
         "POS",
         "0.9924977421760559"
        ],
        [
         "rbe5cz",
         "Happy finals!",
         "319",
         "2021-12-08 00:45:22",
         "POS",
         "0.992440938949585"
        ],
        [
         "zlci46",
         "You know who you are",
         "266",
         "2022-12-14 00:46:23",
         "NEU",
         "0.6117529273033142"
        ],
        [
         "twvwmf",
         "))))",
         "258",
         "2022-04-05 14:13:21",
         "POS",
         "0.6473573446273804"
        ],
        [
         "u4qwja",
         "Not very much studying is gonna get done this weekend...",
         "227",
         "2022-04-16 05:31:30",
         "NEG",
         "0.8963016271591187"
        ],
        [
         "ri6w8v",
         "Last paper today freshie bois! Let's go!",
         "214",
         "2021-12-17 02:35:22",
         "POS",
         "0.9389117956161499"
        ],
        [
         "qxd05z",
         ">You are T1 Freshie doing the 2D projects",
         "205",
         "2021-11-19 09:57:40",
         "NEU",
         "0.97343510389328"
        ],
        [
         "z5uai3",
         "Data_Driven_World.png",
         "205",
         "2022-11-27 06:57:46",
         "NEU",
         "0.9616515636444092"
        ],
        [
         "10jy8xp",
         "=(",
         "201",
         "2023-01-24 05:34:32",
         "NEG",
         "0.8269003629684448"
        ],
        [
         "10gjapi",
         "Welcome back",
         "183",
         "2023-01-20 01:18:38",
         "POS",
         "0.973871648311615"
        ],
        [
         "zuu357",
         "Merry Christmas/Xmas!",
         "178",
         "2022-12-25 08:33:30",
         "POS",
         "0.9924026727676392"
        ],
        [
         "xelo31",
         "A warm welcome to all the new freshies joining us. Hope y'all have a wonderful time here X_X",
         "163",
         "2022-09-15 03:17:20",
         "POS",
         "0.9927934408187866"
        ],
        [
         "t69s49",
         "technOlOgical wOrld",
         "165",
         "2022-03-04 03:46:28",
         "NEU",
         "0.9463086724281311"
        ],
        [
         "yvzmt3",
         "PSA for all students currently bogged down with projects",
         "153",
         "2022-11-15 15:00:47",
         "NEU",
         "0.9187085032463074"
        ],
        [
         "y1yqfq",
         "\"I think I did fine for my statistics midterm. I studied hard enough.\"",
         "149",
         "2022-10-12 08:58:33",
         "POS",
         "0.9844494462013245"
        ],
        [
         "y6aolr",
         "Me getting my statistics midterm back",
         "143",
         "2022-10-17 13:00:58",
         "NEU",
         "0.9585989117622375"
        ],
        [
         "116x3aq",
         "Fun",
         "137",
         "2023-02-20 03:59:47",
         "POS",
         "0.903180718421936"
        ],
        [
         "ten8qg",
         "Choosing T3 electives be like:",
         "129",
         "2022-03-15 11:54:12",
         "NEU",
         "0.9709737300872803"
        ],
        [
         "ztm6m8",
         "Tragedy",
         "133",
         "2022-12-23 16:51:42",
         "NEG",
         "0.6539223790168762"
        ],
        [
         "reh3rq",
         "Happy Finals! (part 2)",
         "123",
         "2021-12-12 04:34:24",
         "POS",
         "0.9924169778823853"
        ],
        [
         "sv9enp",
         "Please, stop making my paper harder than it needs to be",
         "116",
         "2022-02-18 04:56:57",
         "NEG",
         "0.9628876447677612"
        ],
        [
         "ru7nnp",
         "Term 2, let's go! (soon)",
         "111",
         "2022-01-02 11:15:47",
         "POS",
         "0.9261652827262878"
        ],
        [
         "j9nw0u",
         "Best place to sleep during class?",
         "69",
         "2020-10-12 09:39:05",
         "NEU",
         "0.9563174247741699"
        ],
        [
         "slwikv",
         "Ngl, I don't really like navigating the SUTD Portal either",
         "61",
         "2022-02-06 13:20:49",
         "NEG",
         "0.9736142754554749"
        ],
        [
         "rfvlrc",
         "10.013",
         "59",
         "2021-12-14 01:25:17",
         "NEU",
         "0.9337337613105774"
        ],
        [
         "11x2ebo",
         "Imagine attending lectures",
         "58",
         "2023-03-21 01:10:11",
         "NEU",
         "0.9077857136726379"
        ],
        [
         "n3a6eq",
         "Reflections about SUTD after 1 year (for incoming students)",
         "62",
         "2021-05-02 16:34:35",
         "NEU",
         "0.9624135494232178"
        ],
        [
         "110uoh7",
         "Stayed up till dawn",
         "57",
         "2023-02-13 00:25:08",
         "NEU",
         "0.866604745388031"
        ],
        [
         "wur3a6",
         "I’m an Air Traffic Controller. AMA",
         "60",
         "2022-08-22 11:29:36",
         "NEU",
         "0.9719407558441162"
        ],
        [
         "10qkicn",
         "Bamboozled",
         "54",
         "2023-02-01 04:29:10",
         "NEU",
         "0.609140932559967"
        ],
        [
         "yvppyt",
         ">attends class",
         "53",
         "2022-11-15 07:09:39",
         "NEU",
         "0.9572650194168091"
        ],
        [
         "yae75m",
         "DES. DES. DES. 😀😀😀😀😀😀",
         "44",
         "2022-10-22 04:38:02",
         "NEU",
         "0.7226362228393555"
        ],
        [
         "12pb2vy",
         "30.007 / 3.007 Moment",
         "41",
         "2023-04-17 10:31:59",
         "NEU",
         "0.9543187618255615"
        ],
        [
         "th1zyo",
         "This week does not spark joy",
         "39",
         "2022-03-18 14:00:18",
         "NEG",
         "0.9756922721862793"
        ],
        [
         "ulpf28",
         "*grabs popcorn",
         "40",
         "2022-05-09 11:49:49",
         "NEU",
         "0.7900221347808838"
        ],
        [
         "mkrw43",
         "1 year in Uni so far and here’s my reflection",
         "34",
         "2021-04-05 18:51:31",
         "NEU",
         "0.9748100638389587"
        ],
        [
         "118x9a2",
         "I have had it with the marketing of this school",
         "31",
         "2023-02-22 12:43:58",
         "NEG",
         "0.9723818302154541"
        ],
        [
         "1267gr5",
         "Engineering magic oil",
         "29",
         "2023-03-30 01:35:54",
         "NEU",
         "0.9187324643135071"
        ],
        [
         "jbzbj6",
         "Shitty gym staff",
         "27",
         "2020-10-16 00:04:23",
         "NEG",
         "0.9768500328063965"
        ],
        [
         "t0cctn",
         "An interesting module",
         "26",
         "2022-02-24 14:30:15",
         "POS",
         "0.9695545434951782"
        ],
        [
         "eqj3x0",
         "10 Lies to Join SUTD",
         "25",
         "2020-01-18 17:12:06",
         "NEU",
         "0.6339495778083801"
        ],
        [
         "raq9s8",
         "Failed to turn up for finals",
         "24",
         "2021-12-07 04:07:05",
         "NEG",
         "0.9637478590011597"
        ],
        [
         "i140cf",
         "Join the /r/sutd Discord server!",
         "23",
         "2020-07-31 08:34:20",
         "NEU",
         "0.7426884174346924"
        ],
        [
         "g0kl3x",
         "From the SUTD Website: Message to Incoming Freshmen on Start of Term in May 2020",
         "21",
         "2020-04-13 15:01:18",
         "NEU",
         "0.972499668598175"
        ],
        [
         "nd2vuu",
         "Is the ISTD faculty good?",
         "20",
         "2021-05-15 16:37:38",
         "NEU",
         "0.897213339805603"
        ],
        [
         "ncpepl",
         "uncertain & need some advice",
         "20",
         "2021-05-15 03:00:13",
         "NEU",
         "0.9389441609382629"
        ],
        [
         "13cidye",
         "Application timeline",
         "18",
         "2023-05-09 07:13:03",
         "NEU",
         "0.9293696880340576"
        ],
        [
         "gd9ius",
         "/r/sutd Updates - 4 May 2020",
         "19",
         "2020-05-04 11:00:02",
         "NEU",
         "0.9769062399864197"
        ]
       ],
       "shape": {
        "columns": 5,
        "rows": 594
       }
      },
      "text/html": [
       "<div>\n",
       "<style scoped>\n",
       "    .dataframe tbody tr th:only-of-type {\n",
       "        vertical-align: middle;\n",
       "    }\n",
       "\n",
       "    .dataframe tbody tr th {\n",
       "        vertical-align: top;\n",
       "    }\n",
       "\n",
       "    .dataframe thead th {\n",
       "        text-align: right;\n",
       "    }\n",
       "</style>\n",
       "<table border=\"1\" class=\"dataframe\">\n",
       "  <thead>\n",
       "    <tr style=\"text-align: right;\">\n",
       "      <th></th>\n",
       "      <th>Title</th>\n",
       "      <th>Upvotes</th>\n",
       "      <th>Created</th>\n",
       "      <th>Labels</th>\n",
       "      <th>Scores</th>\n",
       "    </tr>\n",
       "    <tr>\n",
       "      <th>Id</th>\n",
       "      <th></th>\n",
       "      <th></th>\n",
       "      <th></th>\n",
       "      <th></th>\n",
       "      <th></th>\n",
       "    </tr>\n",
       "  </thead>\n",
       "  <tbody>\n",
       "    <tr>\n",
       "      <th>xtdia0</th>\n",
       "      <td>Oh boy, 8am lectures. My favorite</td>\n",
       "      <td>627</td>\n",
       "      <td>2022-10-02 02:49:01</td>\n",
       "      <td>POS</td>\n",
       "      <td>0.987462</td>\n",
       "    </tr>\n",
       "    <tr>\n",
       "      <th>scyaig</th>\n",
       "      <td>IF I get my engineering degree</td>\n",
       "      <td>413</td>\n",
       "      <td>2022-01-26 05:24:35</td>\n",
       "      <td>NEU</td>\n",
       "      <td>0.846714</td>\n",
       "    </tr>\n",
       "    <tr>\n",
       "      <th>zzxqop</th>\n",
       "      <td>Happy New Year!</td>\n",
       "      <td>339</td>\n",
       "      <td>2022-12-31 16:26:57</td>\n",
       "      <td>POS</td>\n",
       "      <td>0.992498</td>\n",
       "    </tr>\n",
       "    <tr>\n",
       "      <th>rbe5cz</th>\n",
       "      <td>Happy finals!</td>\n",
       "      <td>319</td>\n",
       "      <td>2021-12-08 00:45:22</td>\n",
       "      <td>POS</td>\n",
       "      <td>0.992441</td>\n",
       "    </tr>\n",
       "    <tr>\n",
       "      <th>zlci46</th>\n",
       "      <td>You know who you are</td>\n",
       "      <td>266</td>\n",
       "      <td>2022-12-14 00:46:23</td>\n",
       "      <td>NEU</td>\n",
       "      <td>0.611753</td>\n",
       "    </tr>\n",
       "    <tr>\n",
       "      <th>...</th>\n",
       "      <td>...</td>\n",
       "      <td>...</td>\n",
       "      <td>...</td>\n",
       "      <td>...</td>\n",
       "      <td>...</td>\n",
       "    </tr>\n",
       "    <tr>\n",
       "      <th>b7nv4i</th>\n",
       "      <td>SUTD started sending rejection letter already?</td>\n",
       "      <td>3</td>\n",
       "      <td>2019-03-31 13:41:25</td>\n",
       "      <td>NEG</td>\n",
       "      <td>0.825060</td>\n",
       "    </tr>\n",
       "    <tr>\n",
       "      <th>b579t4</th>\n",
       "      <td>upcoming SUTD interviews</td>\n",
       "      <td>3</td>\n",
       "      <td>2019-03-25 06:47:32</td>\n",
       "      <td>NEU</td>\n",
       "      <td>0.963418</td>\n",
       "    </tr>\n",
       "    <tr>\n",
       "      <th>b41vpw</th>\n",
       "      <td>Another new (prospective) undergraduate!</td>\n",
       "      <td>3</td>\n",
       "      <td>2019-03-22 07:04:34</td>\n",
       "      <td>POS</td>\n",
       "      <td>0.675288</td>\n",
       "    </tr>\n",
       "    <tr>\n",
       "      <th>axezas</th>\n",
       "      <td>How is the SUTD skype interview like?</td>\n",
       "      <td>3</td>\n",
       "      <td>2019-03-05 01:02:11</td>\n",
       "      <td>NEU</td>\n",
       "      <td>0.973041</td>\n",
       "    </tr>\n",
       "    <tr>\n",
       "      <th>atijac</th>\n",
       "      <td>Open house starts tomorrow. Ask an ESD Senior ...</td>\n",
       "      <td>3</td>\n",
       "      <td>2019-02-22 14:59:05</td>\n",
       "      <td>NEU</td>\n",
       "      <td>0.938415</td>\n",
       "    </tr>\n",
       "  </tbody>\n",
       "</table>\n",
       "<p>594 rows × 5 columns</p>\n",
       "</div>"
      ],
      "text/plain": [
       "                                                    Title  Upvotes  \\\n",
       "Id                                                                   \n",
       "xtdia0                  Oh boy, 8am lectures. My favorite      627   \n",
       "scyaig                     IF I get my engineering degree      413   \n",
       "zzxqop                                    Happy New Year!      339   \n",
       "rbe5cz                                      Happy finals!      319   \n",
       "zlci46                               You know who you are      266   \n",
       "...                                                   ...      ...   \n",
       "b7nv4i     SUTD started sending rejection letter already?        3   \n",
       "b579t4                           upcoming SUTD interviews        3   \n",
       "b41vpw           Another new (prospective) undergraduate!        3   \n",
       "axezas              How is the SUTD skype interview like?        3   \n",
       "atijac  Open house starts tomorrow. Ask an ESD Senior ...        3   \n",
       "\n",
       "                   Created Labels    Scores  \n",
       "Id                                           \n",
       "xtdia0 2022-10-02 02:49:01    POS  0.987462  \n",
       "scyaig 2022-01-26 05:24:35    NEU  0.846714  \n",
       "zzxqop 2022-12-31 16:26:57    POS  0.992498  \n",
       "rbe5cz 2021-12-08 00:45:22    POS  0.992441  \n",
       "zlci46 2022-12-14 00:46:23    NEU  0.611753  \n",
       "...                    ...    ...       ...  \n",
       "b7nv4i 2019-03-31 13:41:25    NEG  0.825060  \n",
       "b579t4 2019-03-25 06:47:32    NEU  0.963418  \n",
       "b41vpw 2019-03-22 07:04:34    POS  0.675288  \n",
       "axezas 2019-03-05 01:02:11    NEU  0.973041  \n",
       "atijac 2019-02-22 14:59:05    NEU  0.938415  \n",
       "\n",
       "[594 rows x 5 columns]"
      ]
     },
     "execution_count": 25,
     "metadata": {},
     "output_type": "execute_result"
    }
   ],
   "source": [
    "# display dataframe \n",
    "df_submissions"
   ]
  },
  {
   "cell_type": "code",
   "execution_count": 26,
   "id": "aa37daf3-c654-47f0-8390-7787ef41ac18",
   "metadata": {},
   "outputs": [
    {
     "data": {
      "application/vnd.microsoft.datawrangler.viewer.v0+json": {
       "columns": [
        {
         "name": "CommentId",
         "rawType": "object",
         "type": "string"
        },
        {
         "name": "Comment",
         "rawType": "object",
         "type": "string"
        },
        {
         "name": "CommentCreated",
         "rawType": "datetime64[ns]",
         "type": "datetime"
        },
        {
         "name": "Id",
         "rawType": "object",
         "type": "string"
        },
        {
         "name": "Labels",
         "rawType": "object",
         "type": "string"
        },
        {
         "name": "Scores",
         "rawType": "float64",
         "type": "float"
        }
       ],
       "conversionMethod": "pd.DataFrame",
       "ref": "f8298e72-374f-48b2-a4c4-5bcb7db2c366",
       "rows": [
        [
         "iqps23l",
         "HAHA Issa mood boiii",
         "2022-10-02 05:25:29",
         "xtdia0",
         "POS",
         "0.7648599743843079"
        ],
        [
         "iqrmg9d",
         "Me everyday on a school day",
         "2022-10-02 16:26:59",
         "xtdia0",
         "NEU",
         "0.9324305057525635"
        ],
        [
         "iqso6tt",
         "Nothing a Vid test can't fix",
         "2022-10-02 20:19:01",
         "xtdia0",
         "POS",
         "0.8089311718940735"
        ],
        [
         "iqpmt6t",
         "I thought the earliest lecture we can get is 8:30?",
         "2022-10-02 04:26:53",
         "xtdia0",
         "NEU",
         "0.9620692729949951"
        ],
        [
         "j2gyvln",
         "jan 3rd is when my secondary school starts",
         "2023-01-01 05:13:21",
         "zzxqop",
         "NEU",
         "0.9726544618606567"
        ],
        [
         "j54ub3e",
         "HEY, FUCK YOU",
         "2023-01-20 12:15:41",
         "zzxqop",
         "NEG",
         "0.9816288948059082"
        ],
        [
         "j2hjzse",
         "Meanwhile me who has work on christmas eve, christmas day, new years eve and new year :)).",
         "2023-01-01 09:44:48",
         "zzxqop",
         "NEU",
         "0.6611053943634033"
        ],
        [
         "j2i7d80",
         "hahahaaha same",
         "2023-01-01 14:48:55",
         "zzxqop",
         "NEU",
         "0.5451354384422302"
        ],
        [
         "j2m5mdr",
         "f school man",
         "2023-01-02 09:54:47",
         "zzxqop",
         "NEG",
         "0.9349085092544556"
        ],
        [
         "j4fvc93",
         "Same",
         "2023-01-15 12:41:33",
         "zzxqop",
         "NEU",
         "0.8817616105079651"
        ],
        [
         "j2h3dy4",
         "Same",
         "2023-01-01 06:00:09",
         "zzxqop",
         "NEU",
         "0.8817616105079651"
        ],
        [
         "j2hpvlm",
         "My condolences",
         "2023-01-01 11:16:12",
         "zzxqop",
         "NEU",
         "0.8007758855819702"
        ],
        [
         "j2hem88",
         "Same",
         "2023-01-01 08:23:51",
         "zzxqop",
         "NEU",
         "0.8817616105079651"
        ],
        [
         "j2hpv3z",
         "F ^^",
         "2023-01-01 11:15:59",
         "zzxqop",
         "NEU",
         "0.948982298374176"
        ],
        [
         "hnovlgx",
         "Yea, even worse, my group project teammates are downright useless.",
         "2021-12-08 06:46:14",
         "rbe5cz",
         "NEG",
         "0.9826735854148865"
        ],
        [
         "hnouij1",
         "sauce?",
         "2021-12-08 06:32:13",
         "rbe5cz",
         "NEU",
         "0.9268919825553894"
        ],
        [
         "hnovm3o",
         "Yea, coequal worse, mine own group project teammates art downright hilding\n\n***\n\n\n\n^(I am a bot and I swapp'd some of thy words with Shakespeare words.)\n\nCommands: `!ShakespeareInsult`, `!fordo`, `!optout`",
         "2021-12-08 06:46:28",
         "rbe5cz",
         "NEG",
         "0.9797815084457397"
        ],
        [
         "hnovoml",
         "Stolen from another meme site. Anime is Zombieland Saga",
         "2021-12-08 06:47:23",
         "rbe5cz",
         "NEU",
         "0.9637832045555115"
        ],
        [
         "hnovk7s",
         "Zombieland saga",
         "2021-12-08 06:45:46",
         "rbe5cz",
         "NEU",
         "0.9173322319984436"
        ],
        [
         "hnovmqh",
         "Shakespeare-Bot, thou hast been voted most annoying bot on Reddit. I am exhorting all mods to ban thee and thy useless rhetoric so that we shall not be blotted with thy presence any longer.",
         "2021-12-08 06:46:42",
         "rbe5cz",
         "NEG",
         "0.9792658686637878"
        ],
        [
         "hnp0zlg",
         "Bad bot",
         "2021-12-08 07:59:20",
         "rbe5cz",
         "NEG",
         "0.9381022453308105"
        ],
        [
         "hnp102v",
         "Thank you, Gamillie, for voting on bot-killer-001.\n\nThis bot wants to find the best and worst bots on Reddit. [You can view results here](https://botrank.pastimes.eu/).\n\n***\n\n^(Even if I don't reply to your comment, I'm still listening for votes. Check the webpage to see if your vote registered!)",
         "2021-12-08 07:59:32",
         "rbe5cz",
         "POS",
         "0.7679398655891418"
        ],
        [
         "j1h8odb",
         "study from home everyday",
         "2022-12-24 09:14:27",
         "zlci46",
         "NEU",
         "0.9489747881889343"
        ],
        [
         "i3hryvp",
         "Day after day\n\nAs time flies away\n\nI think and I ponder\n\nSanity with me no longer",
         "2022-04-05 14:23:04",
         "twvwmf",
         "NEG",
         "0.6725524663925171"
        ],
        [
         "i3je0tc",
         "Amen to that",
         "2022-04-05 20:40:53",
         "twvwmf",
         "POS",
         "0.9111567139625549"
        ],
        [
         "i51q66v",
         "Lol",
         "2022-04-17 05:01:22",
         "u4qwja",
         "POS",
         "0.6863205432891846"
        ],
        [
         "hovpo4m",
         "Very true happened to me once",
         "2021-12-17 05:11:34",
         "ri6w8v",
         "POS",
         "0.7554460763931274"
        ],
        [
         "hox9bo6",
         "Tears of joy",
         "2021-12-17 14:50:47",
         "ri6w8v",
         "POS",
         "0.9864082336425781"
        ],
        [
         "ixyfptk",
         "HAHAHAHAHA",
         "2022-11-27 10:26:15",
         "z5uai3",
         "POS",
         "0.623393177986145"
        ],
        [
         "j2eah5b",
         "This is coding on another level 😦",
         "2022-12-31 16:57:57",
         "z5uai3",
         "POS",
         "0.7244203090667725"
        ],
        [
         "j5y4t32",
         "Me who mains outlook:😐",
         "2023-01-26 11:02:03",
         "10jy8xp",
         "NEU",
         "0.9714610576629639"
        ],
        [
         "j53xno6",
         "u/savevideo",
         "2023-01-20 05:33:19",
         "10gjapi",
         "NEU",
         "0.9160680174827576"
        ],
        [
         "j53xnub",
         "###[View link](https://redditsave.com/r/sutd/comments/10gjapi/welcome_back/)\n\n\n --- \n [**Info**](https://np.reddit.com/user/SaveVideo/comments/jv323v/info/)&#32;|&#32; [**Feedback**](https://np.reddit.com/message/compose/?to=Kryptonh&subject=Feedback for savevideo)&#32;|&#32;[**Donate**](https://ko-fi.com/getvideo) &#32;|&#32; [**DMCA**](https://np.reddit.com/message/compose/?to=Kryptonh&subject=Content removal request for savevideo&message=https://np.reddit.com//r/sutd/comments/10gjapi/welcome_back/) &#32;|&#32; \n [^(reddit video downloader)](https://redditsave.com) &#32;|&#32; [^(download video tiktok)](https://taksave.com)",
         "2023-01-20 05:33:22",
         "10gjapi",
         "NEU",
         "0.7095780372619629"
        ],
        [
         "j1lfeab",
         "weed? Hello polis this post right here",
         "2022-12-25 09:14:13",
         "zuu357",
         "NEU",
         "0.9346932172775269"
        ],
        [
         "j1oe5uc",
         "\"So anyways, that's how I lost my license\"",
         "2022-12-26 02:08:29",
         "zuu357",
         "NEG",
         "0.9610598683357239"
        ],
        [
         "hzdst0y",
         "\"I shall study 2 hours before finals\"",
         "2022-03-04 23:30:03",
         "t69s49",
         "NEU",
         "0.9689543843269348"
        ],
        [
         "hzblfgy",
         "good meme",
         "2022-03-04 14:48:27",
         "t69s49",
         "POS",
         "0.9269858002662659"
        ],
        [
         "hzeoop4",
         "True heuristic is copying ur lect notes onto ur cheatsheet and learning the concepts during the exam",
         "2022-03-05 03:28:01",
         "t69s49",
         "NEU",
         "0.6723189353942871"
        ],
        [
         "hzdvnnn",
         "The true big brain is studying after the finals",
         "2022-03-04 23:50:12",
         "t69s49",
         "NEU",
         "0.5520272254943848"
        ],
        [
         "iwjkbl4",
         "🤣🤣🤣dammm",
         "2022-11-16 02:35:29",
         "yvzmt3",
         "NEG",
         "0.9463065266609192"
        ],
        [
         "is1bd55",
         "Im stealing this",
         "2022-10-12 16:08:35",
         "y1yqfq",
         "NEU",
         "0.8479722738265991"
        ],
        [
         "isrgs86",
         "This looks like a dnd meme, I approve",
         "2022-10-18 03:49:57",
         "y6aolr",
         "POS",
         "0.95196932554245"
        ],
        [
         "iss4xyl",
         "You are S.P.E.C.I.A.L.L.L.L.L.L.L.L.L.L.",
         "2022-10-18 08:56:56",
         "y6aolr",
         "NEU",
         "0.8569675087928772"
        ],
        [
         "isrhoyi",
         "Fallout*",
         "2022-10-18 03:58:28",
         "y6aolr",
         "NEU",
         "0.9377835392951965"
        ],
        [
         "iss6ffg",
         "New vegas?",
         "2022-10-18 09:19:42",
         "y6aolr",
         "NEU",
         "0.9413102865219116"
        ],
        [
         "j9clhv3",
         "Oh no",
         "2023-02-20 22:56:55",
         "116x3aq",
         "NEG",
         "0.7648923993110657"
        ],
        [
         "i0qofgy",
         "not much selection ngl :/",
         "2022-03-15 12:21:06",
         "ten8qg",
         "NEG",
         "0.6844239830970764"
        ],
        [
         "i0remqi",
         "DES is the easiest ngl, DDW a lot harder than u might think",
         "2022-03-15 15:39:59",
         "ten8qg",
         "NEU",
         "0.6312687397003174"
        ],
        [
         "i0tq283",
         "thats just for u\n\ncome on man give DDW some credit\n\nbut yea DES is easy lol",
         "2022-03-16 00:53:05",
         "ten8qg",
         "NEU",
         "0.5131168961524963"
        ],
        [
         "i0tx6w0",
         "ur making fun of my mental disability :D",
         "2022-03-16 01:45:18",
         "ten8qg",
         "NEG",
         "0.495868057012558"
        ]
       ],
       "shape": {
        "columns": 5,
        "rows": 3904
       }
      },
      "text/html": [
       "<div>\n",
       "<style scoped>\n",
       "    .dataframe tbody tr th:only-of-type {\n",
       "        vertical-align: middle;\n",
       "    }\n",
       "\n",
       "    .dataframe tbody tr th {\n",
       "        vertical-align: top;\n",
       "    }\n",
       "\n",
       "    .dataframe thead th {\n",
       "        text-align: right;\n",
       "    }\n",
       "</style>\n",
       "<table border=\"1\" class=\"dataframe\">\n",
       "  <thead>\n",
       "    <tr style=\"text-align: right;\">\n",
       "      <th></th>\n",
       "      <th>Comment</th>\n",
       "      <th>CommentCreated</th>\n",
       "      <th>Id</th>\n",
       "      <th>Labels</th>\n",
       "      <th>Scores</th>\n",
       "    </tr>\n",
       "    <tr>\n",
       "      <th>CommentId</th>\n",
       "      <th></th>\n",
       "      <th></th>\n",
       "      <th></th>\n",
       "      <th></th>\n",
       "      <th></th>\n",
       "    </tr>\n",
       "  </thead>\n",
       "  <tbody>\n",
       "    <tr>\n",
       "      <th>iqps23l</th>\n",
       "      <td>HAHA Issa mood boiii</td>\n",
       "      <td>2022-10-02 05:25:29</td>\n",
       "      <td>xtdia0</td>\n",
       "      <td>POS</td>\n",
       "      <td>0.764860</td>\n",
       "    </tr>\n",
       "    <tr>\n",
       "      <th>iqrmg9d</th>\n",
       "      <td>Me everyday on a school day</td>\n",
       "      <td>2022-10-02 16:26:59</td>\n",
       "      <td>xtdia0</td>\n",
       "      <td>NEU</td>\n",
       "      <td>0.932431</td>\n",
       "    </tr>\n",
       "    <tr>\n",
       "      <th>iqso6tt</th>\n",
       "      <td>Nothing a Vid test can't fix</td>\n",
       "      <td>2022-10-02 20:19:01</td>\n",
       "      <td>xtdia0</td>\n",
       "      <td>POS</td>\n",
       "      <td>0.808931</td>\n",
       "    </tr>\n",
       "    <tr>\n",
       "      <th>iqpmt6t</th>\n",
       "      <td>I thought the earliest lecture we can get is 8...</td>\n",
       "      <td>2022-10-02 04:26:53</td>\n",
       "      <td>xtdia0</td>\n",
       "      <td>NEU</td>\n",
       "      <td>0.962069</td>\n",
       "    </tr>\n",
       "    <tr>\n",
       "      <th>j2gyvln</th>\n",
       "      <td>jan 3rd is when my secondary school starts</td>\n",
       "      <td>2023-01-01 05:13:21</td>\n",
       "      <td>zzxqop</td>\n",
       "      <td>NEU</td>\n",
       "      <td>0.972654</td>\n",
       "    </tr>\n",
       "    <tr>\n",
       "      <th>...</th>\n",
       "      <td>...</td>\n",
       "      <td>...</td>\n",
       "      <td>...</td>\n",
       "      <td>...</td>\n",
       "      <td>...</td>\n",
       "    </tr>\n",
       "    <tr>\n",
       "      <th>jkrjznb</th>\n",
       "      <td>hey! got my acceptance today</td>\n",
       "      <td>2023-05-19 12:45:12</td>\n",
       "      <td>13jqat4</td>\n",
       "      <td>POS</td>\n",
       "      <td>0.968053</td>\n",
       "    </tr>\n",
       "    <tr>\n",
       "      <th>johzqeu</th>\n",
       "      <td>hi y’allz, mine updated to unsuccessful, wishi...</td>\n",
       "      <td>2023-06-17 18:50:10</td>\n",
       "      <td>13jqat4</td>\n",
       "      <td>NEG</td>\n",
       "      <td>0.874083</td>\n",
       "    </tr>\n",
       "    <tr>\n",
       "      <th>jo1hrsu</th>\n",
       "      <td>I’m an international student from china and I ...</td>\n",
       "      <td>2023-06-13 22:37:17</td>\n",
       "      <td>13jqat4</td>\n",
       "      <td>NEG</td>\n",
       "      <td>0.901180</td>\n",
       "    </tr>\n",
       "    <tr>\n",
       "      <th>jklk6o3</th>\n",
       "      <td>Congratulation! Did you get any scholarship?</td>\n",
       "      <td>2023-05-18 05:02:25</td>\n",
       "      <td>13jqat4</td>\n",
       "      <td>POS</td>\n",
       "      <td>0.983739</td>\n",
       "    </tr>\n",
       "    <tr>\n",
       "      <th>jkrk1pl</th>\n",
       "      <td>that's so cool, will you be matriculating this...</td>\n",
       "      <td>2023-05-19 12:45:40</td>\n",
       "      <td>13jqat4</td>\n",
       "      <td>POS</td>\n",
       "      <td>0.983521</td>\n",
       "    </tr>\n",
       "  </tbody>\n",
       "</table>\n",
       "<p>3904 rows × 5 columns</p>\n",
       "</div>"
      ],
      "text/plain": [
       "                                                     Comment  \\\n",
       "CommentId                                                      \n",
       "iqps23l                                 HAHA Issa mood boiii   \n",
       "iqrmg9d                          Me everyday on a school day   \n",
       "iqso6tt                         Nothing a Vid test can't fix   \n",
       "iqpmt6t    I thought the earliest lecture we can get is 8...   \n",
       "j2gyvln           jan 3rd is when my secondary school starts   \n",
       "...                                                      ...   \n",
       "jkrjznb                         hey! got my acceptance today   \n",
       "johzqeu    hi y’allz, mine updated to unsuccessful, wishi...   \n",
       "jo1hrsu    I’m an international student from china and I ...   \n",
       "jklk6o3         Congratulation! Did you get any scholarship?   \n",
       "jkrk1pl    that's so cool, will you be matriculating this...   \n",
       "\n",
       "               CommentCreated       Id Labels    Scores  \n",
       "CommentId                                                \n",
       "iqps23l   2022-10-02 05:25:29   xtdia0    POS  0.764860  \n",
       "iqrmg9d   2022-10-02 16:26:59   xtdia0    NEU  0.932431  \n",
       "iqso6tt   2022-10-02 20:19:01   xtdia0    POS  0.808931  \n",
       "iqpmt6t   2022-10-02 04:26:53   xtdia0    NEU  0.962069  \n",
       "j2gyvln   2023-01-01 05:13:21   zzxqop    NEU  0.972654  \n",
       "...                       ...      ...    ...       ...  \n",
       "jkrjznb   2023-05-19 12:45:12  13jqat4    POS  0.968053  \n",
       "johzqeu   2023-06-17 18:50:10  13jqat4    NEG  0.874083  \n",
       "jo1hrsu   2023-06-13 22:37:17  13jqat4    NEG  0.901180  \n",
       "jklk6o3   2023-05-18 05:02:25  13jqat4    POS  0.983739  \n",
       "jkrk1pl   2023-05-19 12:45:40  13jqat4    POS  0.983521  \n",
       "\n",
       "[3904 rows x 5 columns]"
      ]
     },
     "execution_count": 26,
     "metadata": {},
     "output_type": "execute_result"
    }
   ],
   "source": [
    "# display dataframe \n",
    "df_comments"
   ]
  },
  {
   "cell_type": "code",
   "execution_count": 27,
   "id": "665eb864-d07e-465d-8fbd-566c5653f11f",
   "metadata": {},
   "outputs": [
    {
     "name": "stdout",
     "output_type": "stream",
     "text": [
      "Earliest timestamp: 2017-11-12 17:06:27\n",
      "Latest timestamp: 2024-01-24 03:39:32\n"
     ]
    }
   ],
   "source": [
    "# QUESTION: What is the time frame covered by the data set, i.e. what is the earliest time of a submission or comment and what is the most recent time?\n",
    "# Find the earliest and latest timestamp and print them\n",
    "#--- ADD YOUR SOLUTION HERE (8 points)---\n",
    "earliest_post_timestamp = min(df_submissions[\"Created\"])\n",
    "latest_post_timestamp = max(df_submissions[\"Created\"])\n",
    "\n",
    "earliest_comment_timestamp = min(df_comments[\"CommentCreated\"])\n",
    "latest_comment_timestamp = max(df_comments[\"CommentCreated\"])\n",
    "\n",
    "print(f\"Earliest timestamp: {earliest_comment_timestamp if earliest_comment_timestamp < earliest_post_timestamp else earliest_post_timestamp}\")\n",
    "print(f\"Latest timestamp: {latest_comment_timestamp if latest_comment_timestamp > latest_post_timestamp else latest_post_timestamp}\")\n",
    "#------------------------------"
   ]
  },
  {
   "cell_type": "code",
   "execution_count": 28,
   "id": "3216faae-504f-4fb3-bb0c-6af37db26a0c",
   "metadata": {},
   "outputs": [
    {
     "data": {
      "image/png": "[encoded data removed]",
      "text/plain": [
       "<Figure size 640x480 with 1 Axes>"
      ]
     },
     "metadata": {},
     "output_type": "display_data"
    }
   ],
   "source": [
    "# QUESTION: How did the volume of posts on the SUTD subreddit change over the years?\n",
    "# Create a bar chart diagram that plots the number of submissions per year on the y-axis and the year on the x-axis.\n",
    "\n",
    "#--- ADD YOUR SOLUTION HERE (8 points) ---\n",
    "years = {}\n",
    "\n",
    "for entry in df_submissions[\"Created\"]:\n",
    "    submission_year = entry.year\n",
    "    years[submission_year] = years.get(submission_year, 0) + 1\n",
    "\n",
    "plt.bar(years.keys(), years.values())\n",
    "plt.title(\"Number of Reddit post submissions per year\")\n",
    "plt.xlabel(\"Year\")\n",
    "plt.ylabel(\"Number of posts\")\n",
    "plt.show()\n",
    "#------------------------------"
   ]
  },
  {
   "cell_type": "code",
   "execution_count": 29,
   "id": "e12eebc2-6953-4d7a-952a-d185d4dccf70",
   "metadata": {},
   "outputs": [
    {
     "data": {
      "image/png": "[encoded data removed]",
      "text/plain": [
       "<Figure size 640x480 with 1 Axes>"
      ]
     },
     "metadata": {},
     "output_type": "display_data"
    }
   ],
   "source": [
    "# QUESTION: What is the distribution of positive, neutral and negative sentiment?\n",
    "# Create a bar chart diagram that plots the number of submissions on the y-axis and the sentiment label on the x-axis.\n",
    "\n",
    "#--- ADD YOUR SOLUTION HERE (5 points)---\n",
    "labels = {}\n",
    "\n",
    "for label in df_submissions[\"Labels\"]:\n",
    "    labels[label] = labels.get(label, 0) + 1\n",
    "\n",
    "plt.bar(labels.keys(), labels.values())\n",
    "plt.title(\"Distribution of reddit post sentiments\")\n",
    "plt.xlabel(\"Sentiment type\")\n",
    "plt.ylabel(\"Number of posts\")\n",
    "plt.show()\n",
    "#------------------------------"
   ]
  },
  {
   "cell_type": "code",
   "execution_count": 30,
   "id": "aac2cd28-c567-4d97-abca-d62f43f633ab",
   "metadata": {},
   "outputs": [
    {
     "data": {
      "image/png": "[encoded data removed]",
      "text/plain": [
       "<Figure size 640x480 with 1 Axes>"
      ]
     },
     "metadata": {},
     "output_type": "display_data"
    }
   ],
   "source": [
    "# QUESTION: What is the distribution of positive, neutral and negative sentiment for comments?\n",
    "# Create a bar chart diagram that plots the number of comments on the y-axis and the sentiment label on the x-axis.\n",
    "\n",
    "#--- ADD YOUR SOLUTION HERE (5 points)---\n",
    "comment_labels = {}\n",
    "\n",
    "for label in df_comments[\"Labels\"]:\n",
    "    comment_labels[label] = comment_labels.get(label, 0) + 1\n",
    "\n",
    "plt.bar(comment_labels.keys(), comment_labels.values())\n",
    "plt.title(\"Distribution of reddit comment sentiments\")\n",
    "plt.xlabel(\"Sentiment type\")\n",
    "plt.ylabel(\"Number of comments\")\n",
    "plt.show()\n",
    "#------------------------------"
   ]
  },
  {
   "cell_type": "code",
   "execution_count": 31,
   "id": "61f96c87-cfec-4d0e-96da-102a30db0168",
   "metadata": {},
   "outputs": [],
   "source": [
    "# QUESTION: combine submission titles and comments for the time period from 2021 until today into one data frame.\n",
    "# The resulting data frame 'df_text' should have the following schema\n",
    "\n",
    "# Id - unique id of the comment or the submissions, this column is the index of the data frame \n",
    "# Text - text content of the comment or the submission title\n",
    "# Created - date time when submission or comment was created\n",
    "# Label - sentiment label as predicted by ML\n",
    "\n",
    "#--- ADD YOUR SOLUTION HERE (10 points)---\n",
    "df_comments_timeframe = df_comments[df_comments[\"CommentCreated\"].dt.year >= 2021].reset_index().loc[:, [\"CommentId\", \"Comment\", \"CommentCreated\", \"Labels\"]]\n",
    "df_comments_timeframe = df_comments_timeframe.rename(columns={\"CommentId\": \"Id\", \"Comment\": \"Text\", \"CommentCreated\": \"Created\", \"Labels\": \"Label\"})\n",
    "df_submissions_timeframe = df_submissions[df_submissions[\"Created\"].dt.year >= 2021].reset_index().loc[:, [\"Id\", \"Title\", \"Created\", \"Labels\"]]\n",
    "df_submissions_timeframe = df_submissions_timeframe.rename(columns={\"Title\": \"Text\", \"Created\": \"Created\", \"Labels\": \"Label\"})\n",
    "\n",
    "df_text = pd.concat([df_comments_timeframe, df_submissions_timeframe], axis=0, ignore_index=True)\n",
    "#------------------------------"
   ]
  },
  {
   "cell_type": "code",
   "execution_count": 32,
   "id": "80b7ec71-6c9d-40e9-bc24-cbe0acba0d7e",
   "metadata": {},
   "outputs": [
    {
     "data": {
      "application/vnd.microsoft.datawrangler.viewer.v0+json": {
       "columns": [
        {
         "name": "index",
         "rawType": "int64",
         "type": "integer"
        },
        {
         "name": "Id",
         "rawType": "object",
         "type": "string"
        },
        {
         "name": "Text",
         "rawType": "object",
         "type": "string"
        },
        {
         "name": "Created",
         "rawType": "datetime64[ns]",
         "type": "datetime"
        },
        {
         "name": "Label",
         "rawType": "object",
         "type": "string"
        }
       ],
       "conversionMethod": "pd.DataFrame",
       "ref": "37bbb247-b448-422d-93dd-2c6bddab4fba",
       "rows": [
        [
         "0",
         "iqps23l",
         "HAHA Issa mood boiii",
         "2022-10-02 05:25:29",
         "POS"
        ],
        [
         "1",
         "iqrmg9d",
         "Me everyday on a school day",
         "2022-10-02 16:26:59",
         "NEU"
        ],
        [
         "2",
         "iqso6tt",
         "Nothing a Vid test can't fix",
         "2022-10-02 20:19:01",
         "POS"
        ],
        [
         "3",
         "iqpmt6t",
         "I thought the earliest lecture we can get is 8:30?",
         "2022-10-02 04:26:53",
         "NEU"
        ],
        [
         "4",
         "j2gyvln",
         "jan 3rd is when my secondary school starts",
         "2023-01-01 05:13:21",
         "NEU"
        ],
        [
         "5",
         "j54ub3e",
         "HEY, FUCK YOU",
         "2023-01-20 12:15:41",
         "NEG"
        ],
        [
         "6",
         "j2hjzse",
         "Meanwhile me who has work on christmas eve, christmas day, new years eve and new year :)).",
         "2023-01-01 09:44:48",
         "NEU"
        ],
        [
         "7",
         "j2i7d80",
         "hahahaaha same",
         "2023-01-01 14:48:55",
         "NEU"
        ],
        [
         "8",
         "j2m5mdr",
         "f school man",
         "2023-01-02 09:54:47",
         "NEG"
        ],
        [
         "9",
         "j4fvc93",
         "Same",
         "2023-01-15 12:41:33",
         "NEU"
        ],
        [
         "10",
         "j2h3dy4",
         "Same",
         "2023-01-01 06:00:09",
         "NEU"
        ],
        [
         "11",
         "j2hpvlm",
         "My condolences",
         "2023-01-01 11:16:12",
         "NEU"
        ],
        [
         "12",
         "j2hem88",
         "Same",
         "2023-01-01 08:23:51",
         "NEU"
        ],
        [
         "13",
         "j2hpv3z",
         "F ^^",
         "2023-01-01 11:15:59",
         "NEU"
        ],
        [
         "14",
         "hnovlgx",
         "Yea, even worse, my group project teammates are downright useless.",
         "2021-12-08 06:46:14",
         "NEG"
        ],
        [
         "15",
         "hnouij1",
         "sauce?",
         "2021-12-08 06:32:13",
         "NEU"
        ],
        [
         "16",
         "hnovm3o",
         "Yea, coequal worse, mine own group project teammates art downright hilding\n\n***\n\n\n\n^(I am a bot and I swapp'd some of thy words with Shakespeare words.)\n\nCommands: `!ShakespeareInsult`, `!fordo`, `!optout`",
         "2021-12-08 06:46:28",
         "NEG"
        ],
        [
         "17",
         "hnovoml",
         "Stolen from another meme site. Anime is Zombieland Saga",
         "2021-12-08 06:47:23",
         "NEU"
        ],
        [
         "18",
         "hnovk7s",
         "Zombieland saga",
         "2021-12-08 06:45:46",
         "NEU"
        ],
        [
         "19",
         "hnovmqh",
         "Shakespeare-Bot, thou hast been voted most annoying bot on Reddit. I am exhorting all mods to ban thee and thy useless rhetoric so that we shall not be blotted with thy presence any longer.",
         "2021-12-08 06:46:42",
         "NEG"
        ],
        [
         "20",
         "hnp0zlg",
         "Bad bot",
         "2021-12-08 07:59:20",
         "NEG"
        ],
        [
         "21",
         "hnp102v",
         "Thank you, Gamillie, for voting on bot-killer-001.\n\nThis bot wants to find the best and worst bots on Reddit. [You can view results here](https://botrank.pastimes.eu/).\n\n***\n\n^(Even if I don't reply to your comment, I'm still listening for votes. Check the webpage to see if your vote registered!)",
         "2021-12-08 07:59:32",
         "POS"
        ],
        [
         "22",
         "j1h8odb",
         "study from home everyday",
         "2022-12-24 09:14:27",
         "NEU"
        ],
        [
         "23",
         "i3hryvp",
         "Day after day\n\nAs time flies away\n\nI think and I ponder\n\nSanity with me no longer",
         "2022-04-05 14:23:04",
         "NEG"
        ],
        [
         "24",
         "i3je0tc",
         "Amen to that",
         "2022-04-05 20:40:53",
         "POS"
        ],
        [
         "25",
         "i51q66v",
         "Lol",
         "2022-04-17 05:01:22",
         "POS"
        ],
        [
         "26",
         "hovpo4m",
         "Very true happened to me once",
         "2021-12-17 05:11:34",
         "POS"
        ],
        [
         "27",
         "hox9bo6",
         "Tears of joy",
         "2021-12-17 14:50:47",
         "POS"
        ],
        [
         "28",
         "ixyfptk",
         "HAHAHAHAHA",
         "2022-11-27 10:26:15",
         "POS"
        ],
        [
         "29",
         "j2eah5b",
         "This is coding on another level 😦",
         "2022-12-31 16:57:57",
         "POS"
        ],
        [
         "30",
         "j5y4t32",
         "Me who mains outlook:😐",
         "2023-01-26 11:02:03",
         "NEU"
        ],
        [
         "31",
         "j53xno6",
         "u/savevideo",
         "2023-01-20 05:33:19",
         "NEU"
        ],
        [
         "32",
         "j53xnub",
         "###[View link](https://redditsave.com/r/sutd/comments/10gjapi/welcome_back/)\n\n\n --- \n [**Info**](https://np.reddit.com/user/SaveVideo/comments/jv323v/info/)&#32;|&#32; [**Feedback**](https://np.reddit.com/message/compose/?to=Kryptonh&subject=Feedback for savevideo)&#32;|&#32;[**Donate**](https://ko-fi.com/getvideo) &#32;|&#32; [**DMCA**](https://np.reddit.com/message/compose/?to=Kryptonh&subject=Content removal request for savevideo&message=https://np.reddit.com//r/sutd/comments/10gjapi/welcome_back/) &#32;|&#32; \n [^(reddit video downloader)](https://redditsave.com) &#32;|&#32; [^(download video tiktok)](https://taksave.com)",
         "2023-01-20 05:33:22",
         "NEU"
        ],
        [
         "33",
         "j1lfeab",
         "weed? Hello polis this post right here",
         "2022-12-25 09:14:13",
         "NEU"
        ],
        [
         "34",
         "j1oe5uc",
         "\"So anyways, that's how I lost my license\"",
         "2022-12-26 02:08:29",
         "NEG"
        ],
        [
         "35",
         "hzdst0y",
         "\"I shall study 2 hours before finals\"",
         "2022-03-04 23:30:03",
         "NEU"
        ],
        [
         "36",
         "hzblfgy",
         "good meme",
         "2022-03-04 14:48:27",
         "POS"
        ],
        [
         "37",
         "hzeoop4",
         "True heuristic is copying ur lect notes onto ur cheatsheet and learning the concepts during the exam",
         "2022-03-05 03:28:01",
         "NEU"
        ],
        [
         "38",
         "hzdvnnn",
         "The true big brain is studying after the finals",
         "2022-03-04 23:50:12",
         "NEU"
        ],
        [
         "39",
         "iwjkbl4",
         "🤣🤣🤣dammm",
         "2022-11-16 02:35:29",
         "NEG"
        ],
        [
         "40",
         "is1bd55",
         "Im stealing this",
         "2022-10-12 16:08:35",
         "NEU"
        ],
        [
         "41",
         "isrgs86",
         "This looks like a dnd meme, I approve",
         "2022-10-18 03:49:57",
         "POS"
        ],
        [
         "42",
         "iss4xyl",
         "You are S.P.E.C.I.A.L.L.L.L.L.L.L.L.L.L.",
         "2022-10-18 08:56:56",
         "NEU"
        ],
        [
         "43",
         "isrhoyi",
         "Fallout*",
         "2022-10-18 03:58:28",
         "NEU"
        ],
        [
         "44",
         "iss6ffg",
         "New vegas?",
         "2022-10-18 09:19:42",
         "NEU"
        ],
        [
         "45",
         "j9clhv3",
         "Oh no",
         "2023-02-20 22:56:55",
         "NEG"
        ],
        [
         "46",
         "i0qofgy",
         "not much selection ngl :/",
         "2022-03-15 12:21:06",
         "NEG"
        ],
        [
         "47",
         "i0remqi",
         "DES is the easiest ngl, DDW a lot harder than u might think",
         "2022-03-15 15:39:59",
         "NEU"
        ],
        [
         "48",
         "i0tq283",
         "thats just for u\n\ncome on man give DDW some credit\n\nbut yea DES is easy lol",
         "2022-03-16 00:53:05",
         "NEU"
        ],
        [
         "49",
         "i0tx6w0",
         "ur making fun of my mental disability :D",
         "2022-03-16 01:45:18",
         "NEG"
        ]
       ],
       "shape": {
        "columns": 4,
        "rows": 2916
       }
      },
      "text/html": [
       "<div>\n",
       "<style scoped>\n",
       "    .dataframe tbody tr th:only-of-type {\n",
       "        vertical-align: middle;\n",
       "    }\n",
       "\n",
       "    .dataframe tbody tr th {\n",
       "        vertical-align: top;\n",
       "    }\n",
       "\n",
       "    .dataframe thead th {\n",
       "        text-align: right;\n",
       "    }\n",
       "</style>\n",
       "<table border=\"1\" class=\"dataframe\">\n",
       "  <thead>\n",
       "    <tr style=\"text-align: right;\">\n",
       "      <th></th>\n",
       "      <th>Id</th>\n",
       "      <th>Text</th>\n",
       "      <th>Created</th>\n",
       "      <th>Label</th>\n",
       "    </tr>\n",
       "  </thead>\n",
       "  <tbody>\n",
       "    <tr>\n",
       "      <th>0</th>\n",
       "      <td>iqps23l</td>\n",
       "      <td>HAHA Issa mood boiii</td>\n",
       "      <td>2022-10-02 05:25:29</td>\n",
       "      <td>POS</td>\n",
       "    </tr>\n",
       "    <tr>\n",
       "      <th>1</th>\n",
       "      <td>iqrmg9d</td>\n",
       "      <td>Me everyday on a school day</td>\n",
       "      <td>2022-10-02 16:26:59</td>\n",
       "      <td>NEU</td>\n",
       "    </tr>\n",
       "    <tr>\n",
       "      <th>2</th>\n",
       "      <td>iqso6tt</td>\n",
       "      <td>Nothing a Vid test can't fix</td>\n",
       "      <td>2022-10-02 20:19:01</td>\n",
       "      <td>POS</td>\n",
       "    </tr>\n",
       "    <tr>\n",
       "      <th>3</th>\n",
       "      <td>iqpmt6t</td>\n",
       "      <td>I thought the earliest lecture we can get is 8...</td>\n",
       "      <td>2022-10-02 04:26:53</td>\n",
       "      <td>NEU</td>\n",
       "    </tr>\n",
       "    <tr>\n",
       "      <th>4</th>\n",
       "      <td>j2gyvln</td>\n",
       "      <td>jan 3rd is when my secondary school starts</td>\n",
       "      <td>2023-01-01 05:13:21</td>\n",
       "      <td>NEU</td>\n",
       "    </tr>\n",
       "    <tr>\n",
       "      <th>...</th>\n",
       "      <td>...</td>\n",
       "      <td>...</td>\n",
       "      <td>...</td>\n",
       "      <td>...</td>\n",
       "    </tr>\n",
       "    <tr>\n",
       "      <th>2911</th>\n",
       "      <td>lkegot</td>\n",
       "      <td>Work/Study balance</td>\n",
       "      <td>2021-02-15 14:13:52</td>\n",
       "      <td>NEU</td>\n",
       "    </tr>\n",
       "    <tr>\n",
       "      <th>2912</th>\n",
       "      <td>l94o87</td>\n",
       "      <td>Poly to SUTD cross course admission: is it pos...</td>\n",
       "      <td>2021-01-31 04:38:39</td>\n",
       "      <td>NEU</td>\n",
       "    </tr>\n",
       "    <tr>\n",
       "      <th>2913</th>\n",
       "      <td>l8mdqm</td>\n",
       "      <td>[Uni] Thinking of cancelling placing in SUTD a...</td>\n",
       "      <td>2021-01-30 14:05:56</td>\n",
       "      <td>NEU</td>\n",
       "    </tr>\n",
       "    <tr>\n",
       "      <th>2914</th>\n",
       "      <td>kp0zuf</td>\n",
       "      <td>HASS mod recommendation</td>\n",
       "      <td>2021-01-02 17:02:09</td>\n",
       "      <td>NEU</td>\n",
       "    </tr>\n",
       "    <tr>\n",
       "      <th>2915</th>\n",
       "      <td>kovm76</td>\n",
       "      <td>I am currently still in highschool (indo) and ...</td>\n",
       "      <td>2021-01-02 10:52:03</td>\n",
       "      <td>NEU</td>\n",
       "    </tr>\n",
       "  </tbody>\n",
       "</table>\n",
       "<p>2916 rows × 4 columns</p>\n",
       "</div>"
      ],
      "text/plain": [
       "           Id                                               Text  \\\n",
       "0     iqps23l                               HAHA Issa mood boiii   \n",
       "1     iqrmg9d                        Me everyday on a school day   \n",
       "2     iqso6tt                       Nothing a Vid test can't fix   \n",
       "3     iqpmt6t  I thought the earliest lecture we can get is 8...   \n",
       "4     j2gyvln         jan 3rd is when my secondary school starts   \n",
       "...       ...                                                ...   \n",
       "2911   lkegot                                 Work/Study balance   \n",
       "2912   l94o87  Poly to SUTD cross course admission: is it pos...   \n",
       "2913   l8mdqm  [Uni] Thinking of cancelling placing in SUTD a...   \n",
       "2914   kp0zuf                            HASS mod recommendation   \n",
       "2915   kovm76  I am currently still in highschool (indo) and ...   \n",
       "\n",
       "                 Created Label  \n",
       "0    2022-10-02 05:25:29   POS  \n",
       "1    2022-10-02 16:26:59   NEU  \n",
       "2    2022-10-02 20:19:01   POS  \n",
       "3    2022-10-02 04:26:53   NEU  \n",
       "4    2023-01-01 05:13:21   NEU  \n",
       "...                  ...   ...  \n",
       "2911 2021-02-15 14:13:52   NEU  \n",
       "2912 2021-01-31 04:38:39   NEU  \n",
       "2913 2021-01-30 14:05:56   NEU  \n",
       "2914 2021-01-02 17:02:09   NEU  \n",
       "2915 2021-01-02 10:52:03   NEU  \n",
       "\n",
       "[2916 rows x 4 columns]"
      ]
     },
     "execution_count": 32,
     "metadata": {},
     "output_type": "execute_result"
    }
   ],
   "source": [
    "# inspect the resulting data frame\n",
    "df_text"
   ]
  },
  {
   "cell_type": "code",
   "execution_count": 33,
   "id": "8f8ef9b0-dd98-4d16-8676-e280122f62c6",
   "metadata": {},
   "outputs": [],
   "source": [
    "# QUESTION: sort the data frame by date time descending and save it in the same variable\n",
    "\n",
    "#--- ADD YOUR SOLUTION HERE (3 points)---\n",
    "df_text = df_text.sort_values(by = \"Created\", ascending = True)\n",
    "#------------------------------"
   ]
  },
  {
   "cell_type": "code",
   "execution_count": 34,
   "id": "6c5cba6c-5d42-4606-8a35-ef4a7253ce6e",
   "metadata": {},
   "outputs": [
    {
     "data": {
      "application/vnd.microsoft.datawrangler.viewer.v0+json": {
       "columns": [
        {
         "name": "index",
         "rawType": "int64",
         "type": "integer"
        },
        {
         "name": "Id",
         "rawType": "object",
         "type": "string"
        },
        {
         "name": "Text",
         "rawType": "object",
         "type": "string"
        },
        {
         "name": "Created",
         "rawType": "datetime64[ns]",
         "type": "datetime"
        },
        {
         "name": "Label",
         "rawType": "object",
         "type": "string"
        }
       ],
       "conversionMethod": "pd.DataFrame",
       "ref": "f8ece838-4f63-485e-a6c3-fee0a5b36e00",
       "rows": [
        [
         "1028",
         "ghq4jty",
         "woww thank you so much for taking the time to answer my questions hahaha i understand ESD better now. Happy new year btw!:)",
         "2021-01-01 16:06:17",
         "POS"
        ],
        [
         "2915",
         "kovm76",
         "I am currently still in highschool (indo) and I don't have any former A level education. Is it possible that I still can enroll to SUTD and study there?",
         "2021-01-02 10:52:03",
         "NEU"
        ],
        [
         "2914",
         "kp0zuf",
         "HASS mod recommendation",
         "2021-01-02 17:02:09",
         "NEU"
        ],
        [
         "2590",
         "kpde9d",
         "Subjects in Year 1",
         "2021-01-03 04:13:53",
         "NEU"
        ],
        [
         "1917",
         "ghwf0at",
         "Yes. I am indoneisan myself. In fact we have a lot of indonesian direct students here. Feel free to DM my ig for more information @raymond_harrison",
         "2021-01-03 04:32:08",
         "NEU"
        ],
        [
         "389",
         "ghx23r6",
         "I've only made it past term 1 buy only putting this here because there are no other responses.\n\nIn term 1 we had:\n- a physics module that encompass kinematics, linear and angular (circular and rotational) motion, conservation of energy and linear/angular momentum, and thermodynamics \n- a math module that encompass functions, differential calculus and applications, and integral calculus and applications \n- a programming module which is split into architecture (visual programming for cad) and  computer science (python)\n- a HASS module (either sociology or philosophy)\n\nin term 2 i think there's a design module, a physics module that covers circuits and quantum mechanics, a math module that covers multivariable calculus, and some science module that i have no idea about lol \n\nin term 3 theres a math module that covers statistics i think, a HASS module (either philosophy or sociology depending on which one you didn't take in term 1), and you get to choose two out of 4 electives which i think give you a sneak peek of each of the 4 pillars in sutd (architecture, systems design, product  development, and computer science)\n\nyou can check it out here in more detail https://sutd.edu.sg/Education/Unique-Academic-Structure/Freshmore-Subjects",
         "2021-01-03 07:42:15",
         "NEU"
        ],
        [
         "1643",
         "ghyxyl1",
         "the scholarships do not include the first year compulsory hostel staying-in costs?",
         "2021-01-03 17:10:35",
         "NEU"
        ],
        [
         "1644",
         "gi0fq2h",
         "iirc none of the scholarships includes hostel fees. It used to at some point, I believe. No longer the case though. (If you have scholarships that grant you allowance, you can channel the funds there to deduce the cost bah)",
         "2021-01-04 00:01:58",
         "NEU"
        ],
        [
         "1027",
         "gigmfcp",
         "esd is my favorite pillar",
         "2021-01-07 20:05:49",
         "POS"
        ],
        [
         "1639",
         "givl5ct",
         "thanks for your advice on using the planner. I just looked into it and found out that I cannot use the \" **Search for Classes\"** to add classes because there isn't the option for the upcoming acad term (2021 Jan). I could found all the modules in \" **Browse Course Catalog** \" and add modules to the planner from there. But the class time displayed in the planner is in year 2015/2016 -- is this expected?",
         "2021-01-11 13:17:51",
         "NEG"
        ],
        [
         "2218",
         "gj04qb0",
         "It should be provided. At least it was when i stayed in hostel",
         "2021-01-12 14:43:36",
         "NEU"
        ],
        [
         "1640",
         "gj09hhu",
         "Do you mean in the Typically Offered column? Mine just says the Terms the mods are offered.\n\nBut if you mean after you enter into the course details and clicked \"view class sections\", they'll show all past classes too. When enrollment opens, the drop down box(\"Terms Offered\") will add Jan 2021.",
         "2021-01-12 15:23:44",
         "NEU"
        ],
        [
         "2217",
         "gj0j8n5",
         "It’s provided, they probably want you to bring your own to clean up spills and such in your own room, maybe to deter people from taking an entire roll from the toilet for that purpose???",
         "2021-01-12 16:44:27",
         "NEG"
        ],
        [
         "2219",
         "gj2e7qi",
         "ahh I see, thanks alot",
         "2021-01-13 01:35:25",
         "POS"
        ],
        [
         "391",
         "gj8lksr",
         "A little late, but I would like to assure you that most people (my prof said about 75%) have not taken Bio in their previous few years of school, and the profs are well aware of that. As such, they have designed the curriculum to build more from the ground up, than from H2 Bio for example. The new chem/bio mod in Term 2 will have a drastically different focus than in previous years, but I'm certain that the profs took/will still take the 75% statistic into consideration.",
         "2021-01-14 15:58:40",
         "NEU"
        ],
        [
         "1641",
         "gjcx6g5",
         "Alright I think I understand now. Thanks!",
         "2021-01-15 16:44:42",
         "POS"
        ],
        [
         "1029",
         "gjf599n",
         "[deleted]",
         "2021-01-16 04:02:09",
         "NEU"
        ],
        [
         "1030",
         "gjf5n15",
         "The curriculum was restructured to make it 4 years instead of 3.5, that’s the main difference. I don’t know how the modules were shifted around or what changes were needed to fix that so i wanted to add that caveat. You’ll have to ask existing, more engaged students to find out about that.",
         "2021-01-16 04:06:03",
         "NEU"
        ],
        [
         "2832",
         "kztrtc",
         "SUTD SHARP INTERVIEW",
         "2021-01-18 12:30:08",
         "NEU"
        ],
        [
         "1636",
         "gjqth7y",
         "SHARP was not offered for my batch, and I don’t know anyone who applied for it so I can’t say anything about it. However, I would suppose knowing what the problem statement will be about beforehand kinda defeats the entire purpose of the interview.\n\nWhat I can say is that it seems like an opportunity for the interviewers to understand your thought process, since this is an interview for SHARP as opposed to maybe design thinking. Perhaps it might help to maybe explain concepts to yourself or work out problems in the mirror, which would help you get used to verbalising your thought process. Maybe something like the ways you could approach the problem, and then how you’d select an approach from there. There might not be a right answer, or at least not one that you can feasibly come up with in an interview, so I would suggest being comfortable with thinking aloud.\n\nOr I could be completely off and it could be some kind of Physics question to solve because they want to know your aptitude in academics, idk",
         "2021-01-18 18:39:38",
         "NEG"
        ],
        [
         "2209",
         "gjsytjr",
         "You just take your pick, let them know and show up to class. Simple as that!",
         "2021-01-19 06:10:45",
         "NEU"
        ],
        [
         "2213",
         "gjsyyri",
         "Ahhh thanks for clarifying. May i know when would we be able to choose ?",
         "2021-01-19 06:12:35",
         "POS"
        ],
        [
         "2210",
         "gjsz0jw",
         "You study the first 3 terms without choosing pillar, from these classes you kinda know which pillar is more suitable for you. After that you select your pillar online, they will try to give you what you want. You can still change your pillar within one week of starting classes in your pillar if you find it is not suitable for you",
         "2021-01-19 06:13:11",
         "NEU"
        ],
        [
         "2214",
         "gjsz46p",
         "I see. Thank you for clarifying ! :)",
         "2021-01-19 06:14:27",
         "POS"
        ],
        [
         "2215",
         "gjsz59y",
         "See this post: https://www.reddit.com/r/sutd/comments/fwg2ij/choosing_a_pillar_after_freshmore/",
         "2021-01-19 06:14:49",
         "NEU"
        ],
        [
         "2216",
         "gjuormo",
         "You can find the when you can pick electives in the acad calendar. Just google SUTD calendar and the first one popped up",
         "2021-01-19 17:48:57",
         "NEU"
        ],
        [
         "1638",
         "gjweko5",
         "Thank you so much!!",
         "2021-01-20 02:02:48",
         "POS"
        ],
        [
         "2212",
         "gjws1bv",
         "There’s time to decide over your freshmore. And even after deciding, i have seen some of my peers who changed pillar after a year. \n\nDon’t be too concerned about it",
         "2021-01-20 04:07:35",
         "NEU"
        ],
        [
         "2211",
         "gjx3hvo",
         "There will be a ceremony where the sorting hat chooses your pillar.",
         "2021-01-20 06:15:38",
         "NEU"
        ],
        [
         "2635",
         "l17ydj",
         "Will failed internship application affect full-time application in the same company?",
         "2021-01-20 12:09:07",
         "NEG"
        ],
        [
         "672",
         "gjy6dxx",
         "You should drop an email to the HR manager that recruits interns.",
         "2021-01-20 14:54:54",
         "NEU"
        ],
        [
         "673",
         "gjyvnoa",
         "Companies would typically state it clearly during your application. If it's not stated anywhere, chances are, they don't practice it.",
         "2021-01-20 18:06:32",
         "NEG"
        ],
        [
         "390",
         "gkhcji5",
         "Hi. I'm a 2020 Freshmore here so I'm in an honoured position to advise you on the new curriculum, that was brought forward from the planned 2022 implementation to 2020 due to the coronavirus pandemic.\n\n**Term 1 (all modules enjoy Pass/Fail status meaning they aren't factored into GPA)**\n\n* **Single Variable Calculus Math (Modelling and Analysis)**\n* **Mechanical and Thermodynamic Physics (Physical World)**\n* **Rhinoceros Software Archi Design + Python Coding Computing (Computational Thinking for Design)**\n* **Humanities (either the economics-based Theorising Self, Society and Culture, or the literature-based World Texts and Interpretations – the economics one is arguably easier than the literature one, so pray you get the literature one in Term 1)**\n\n***Personal Evaluation: The easiest mod by far would be the computing mod, as it's designed to pass everyone regardless (based on my batch's experience). Next would be Humanities (if you get the literature one) as it's comprised only of 3 important assignments and there's plenty of time to complete (we're talking 3 to 4 weeks of lead time). Physics is easier than Math in terms of visualising and conceptualising I'd say, but that's just my viewpoint. Your perspective may differ from mine depending on your academic strength.***\n\nIn Terms 2 and 3 collectively, students may choose 2 of 8 modules to be set to Pass/Fail status. In Term 3, students will be able to choose 2 modules from a selection of 4 electives, as part of a pilot programme to give students greater flexibility and freedom of choice to pursue their diverse interests.\n\n**Term 2**\n\n* **Multivariable Calculus and Linear Algebra** **(Modelling Space and Systems)**\n* **Electricity, Electromagnetism, Quantum Physics (Technological World)**\n* **Chemistry and Biology (Science for a Sustainable World)**\n* **Term-long Design (Introduction to Design)**\n\n**Term 3**\n\n* **Humanities (if you got the literature one in Term 1, you'll get the economics one here; vice versa)**\n* **Probability and Statistics Math (Modelling Uncertainty)**\n* 2 Electives (choose from 4 electives)\n\n&#x200B;\n\nPersonally, I cannot advise on Terms 2 and 3 as I've yet to experience for myself the stress and challenges that will come my path going into AY2021. That's all I can share at the moment. Hope this helps somewhat!",
         "2021-01-24 02:06:56",
         "NEU"
        ],
        [
         "1031",
         "gkheekv",
         "Simple response for you.\n\n1. Nope but you can influence the type of roommate you want to get as there's a survey on your living preferences to better pair two of you up. SUTD Housing definitely has a way of doing a good (but not too great) pairing. Of course there's a chance you do not get the luck of the draw, as with some of my classmates who gripe about their roommate.\n2. Very common, unless you choose not to go home. The workload is manageable enough to accommodate fam time on weekends, just have to be super diligent and efficient in your work ethic to avoid slipping behind or en route to failing your important tests, quizzes and assignments.\n3. Depends on your classmates and level mates. Some, myself included, can't be bothered to cook, and just rely on canteen food, or SUTD's restaurants, or head out to Changi City Point / Tampines Mall / Tampines1 for some good food (if time permits). But I know of many who have the time to cook at the communal kitchen (found in all 3 hostel blocks, 55, 57, 59, at the first level just opposite the Laundry Room). They've got ovens, actual stoves, basins, vending machines selling snacks, and then lockers to keep your possessions safe.\n4. Toilet is cleaned up to 6 times a day on weekdays, and zero times on weekends (from my block's experience). For floor 12 at least, it's 8am 10am 1pm 5pm 7pm. So for other floors, I'd reckon give it a plus minus 45 minutes from the said timings. It's clean for floors occupied with less residents (basically Floor 12), but I cannot say the same for the other floors as there's easily 50 over people using the toilet. Each floor's toilet has 6 toilet bowls, 6 shower cubicles, 4 basins, and no urinals (yep no urinals cause the gender occupying the floors can change with each year).\n5. Quite easy. Laundry used to be activated by ezlink tapping. However, the provider has since switched to PayNow QR. It's just a dollar per wash (regardless of washer or dryer machine). There's 8 washers and 8 dryers in each laundry room. As for drying clothes, you can just use the drying cabinet located in your hostel room (it's hidden behind the whiteboard which is actually a door in itself). For larger laundry items like bedsheets, I recommend putting it through the dryer, or hanging at level 12 (but the hanging area is not protected from rain so just keep that in mind).",
         "2021-01-24 02:22:12",
         "NEU"
        ],
        [
         "1032",
         "gkid0kx",
         "Omg dude thanks so much for the detailed answer",
         "2021-01-24 07:39:05",
         "POS"
        ],
        [
         "1033",
         "gkx1bqg",
         ">do yall cook alot?\n\nalso just curious, for the drying cabinet behind the hostel whiteboard. is it just an empty cabinet or are there actual dryings fans inside",
         "2021-01-27 05:40:30",
         "NEU"
        ],
        [
         "2913",
         "l8mdqm",
         "[Uni] Thinking of cancelling placing in SUTD and some questions regarding NUS, SMU and SUTD",
         "2021-01-30 14:05:56",
         "NEU"
        ],
        [
         "2778",
         "l931wp",
         "questions on SUTD SSA and hostel",
         "2021-01-31 03:09:42",
         "NEU"
        ],
        [
         "2912",
         "l94o87",
         "Poly to SUTD cross course admission: is it possible?",
         "2021-01-31 04:38:39",
         "NEU"
        ],
        [
         "1911",
         "glgjeyb",
         "You could just try it out. SUTD does have entrepreneurship centre and has a start-up culture. Sutd is very interdisciplinary. I guess you just go in there and show what you are as a person and find out how sutd is related to you as a business person or maybe a design person if you consistently draw or solve an engineering problem. In the end, it is up to the interviewer to judge whether you are fit to be part of sutd..",
         "2021-01-31 07:19:13",
         "NEU"
        ],
        [
         "1913",
         "glgjlan",
         "As stated above, im not actually looking to further business studies but rather to change subjects/ courses and was wondering if it was possible\n\nedit: im not looking to enter sutd as a business student rather as a tech or design student. Though was wondering what are the exact requirements as i dont take engineering but i think i can try building a design/art portfolio\n\nby no means did i expect to enter and have the tech students do the technical work. i want to be part of the work. Sorry if i did not phrase it properly in my original post. Sounds like biz students did not leave a good impact in sutd ey?",
         "2021-01-31 07:21:39",
         "NEU"
        ],
        [
         "1914",
         "glgjrku",
         "It is possible, people have done that. You just have buck up and put it more effort.\n\nIn terms of admission, do some research, be yourselves and show how you can contribute to sutd and let the interviewer decide you fit or not.\n\nEdit: Good to have portfolio but it is not compulsory. But it can bring better chances. \n\nEdit: just drawing can bring you a lot of places, be it in the Archi pillar or being an UI/UX designer.",
         "2021-01-31 07:24:05",
         "POS"
        ],
        [
         "1916",
         "glgk5sv",
         "Thanks for the input, i will take it into consideration. I will give it some thought",
         "2021-01-31 07:29:34",
         "POS"
        ],
        [
         "1915",
         "glgkhsy",
         "Some come in with the mindset to sorta hire tech student for start up, but they don't last long, when they realise their reputation goes down. But there are some v. good ones. This is just my opinion haha. Being in a start up is much more that that.",
         "2021-01-31 07:34:08",
         "NEU"
        ],
        [
         "1418",
         "glgw84z",
         "The drying cabinet is empty and harnesses solar energy to dry your clothes :))))))",
         "2021-01-31 10:38:07",
         "POS"
        ],
        [
         "1421",
         "glgzgrl",
         "Can the clothes even dry properly if u wash it with the washing machine? Or does everyone use the dryers?",
         "2021-01-31 11:31:21",
         "NEU"
        ],
        [
         "1912",
         "glhcist",
         "SUTD is more engineering than artistic design just to clarify. If you are into the artistic stuff go to NAFA instead, or leave Singapore because the scene here sucks. The design is mainly engineering focused compared to something like royal academy.\n\nThe design stuff are tied to the engineering modules. So if calculus and math stuff scares you I suggest avoiding SUTD and look for a different course. Architecture students who come here for architecture via poly usually got rekt in the first year. I'm not a shill 😅. If math is second nature the course material wouldn't be too bad. The only design course is introduction to design. \n\nYou will get rekt in the first year if you didn't take A level subjects because most of it is an extension of a level subject materials (Chem, Bio, Physics, Math).  The time frame is pretty short so unless you can learn quickly you'll likely get rekt if you came from poly because the material would be 100% new. It's forgiving in the 1st year as you can use the term breaks to take makeup exams and get a low pass \"C\". Past 1st year you'll need to retake the module in extra terms which will increase the total course fees.",
         "2021-01-31 14:23:53",
         "NEG"
        ],
        [
         "2831",
         "l9gome",
         "Early Admission Into SUTD",
         "2021-01-31 17:11:48",
         "NEU"
        ],
        [
         "1424",
         "gljjuoy",
         "Well there's a multitude of factors here, such as the material and quantity of your clothes, the weather, etc. Personally I use the dryer but in general it should be fine :)",
         "2021-02-01 00:58:06",
         "POS"
        ],
        [
         "1633",
         "gljxzu9",
         "Just make sure you don't fail your A levels. If A level gg then it's not guaranteed. So far there aren't any cases of people who failed. There are people who went in with ccdd grades. They use a holistic admission criteria. SUTD is basically budget MIT.\n\nThat being said try to get good grades for a levels, the science and math curriculum for a levels covers a bulk of materials in first year. So if you can't manage A levels you are going to have a hard time with course materials.",
         "2021-02-01 02:50:51",
         "NEU"
        ]
       ],
       "shape": {
        "columns": 4,
        "rows": 2916
       }
      },
      "text/html": [
       "<div>\n",
       "<style scoped>\n",
       "    .dataframe tbody tr th:only-of-type {\n",
       "        vertical-align: middle;\n",
       "    }\n",
       "\n",
       "    .dataframe tbody tr th {\n",
       "        vertical-align: top;\n",
       "    }\n",
       "\n",
       "    .dataframe thead th {\n",
       "        text-align: right;\n",
       "    }\n",
       "</style>\n",
       "<table border=\"1\" class=\"dataframe\">\n",
       "  <thead>\n",
       "    <tr style=\"text-align: right;\">\n",
       "      <th></th>\n",
       "      <th>Id</th>\n",
       "      <th>Text</th>\n",
       "      <th>Created</th>\n",
       "      <th>Label</th>\n",
       "    </tr>\n",
       "  </thead>\n",
       "  <tbody>\n",
       "    <tr>\n",
       "      <th>1028</th>\n",
       "      <td>ghq4jty</td>\n",
       "      <td>woww thank you so much for taking the time to ...</td>\n",
       "      <td>2021-01-01 16:06:17</td>\n",
       "      <td>POS</td>\n",
       "    </tr>\n",
       "    <tr>\n",
       "      <th>2915</th>\n",
       "      <td>kovm76</td>\n",
       "      <td>I am currently still in highschool (indo) and ...</td>\n",
       "      <td>2021-01-02 10:52:03</td>\n",
       "      <td>NEU</td>\n",
       "    </tr>\n",
       "    <tr>\n",
       "      <th>2914</th>\n",
       "      <td>kp0zuf</td>\n",
       "      <td>HASS mod recommendation</td>\n",
       "      <td>2021-01-02 17:02:09</td>\n",
       "      <td>NEU</td>\n",
       "    </tr>\n",
       "    <tr>\n",
       "      <th>2590</th>\n",
       "      <td>kpde9d</td>\n",
       "      <td>Subjects in Year 1</td>\n",
       "      <td>2021-01-03 04:13:53</td>\n",
       "      <td>NEU</td>\n",
       "    </tr>\n",
       "    <tr>\n",
       "      <th>1917</th>\n",
       "      <td>ghwf0at</td>\n",
       "      <td>Yes. I am indoneisan myself. In fact we have a...</td>\n",
       "      <td>2021-01-03 04:32:08</td>\n",
       "      <td>NEU</td>\n",
       "    </tr>\n",
       "    <tr>\n",
       "      <th>...</th>\n",
       "      <td>...</td>\n",
       "      <td>...</td>\n",
       "      <td>...</td>\n",
       "      <td>...</td>\n",
       "    </tr>\n",
       "    <tr>\n",
       "      <th>212</th>\n",
       "      <td>kj6x184</td>\n",
       "      <td>Haha yup, should be out by tmr. Yes, FEAST II ...</td>\n",
       "      <td>2024-01-23 13:34:29</td>\n",
       "      <td>POS</td>\n",
       "    </tr>\n",
       "    <tr>\n",
       "      <th>213</th>\n",
       "      <td>kj6z72l</td>\n",
       "      <td>I see, wishing you all the best for the result...</td>\n",
       "      <td>2024-01-23 13:50:05</td>\n",
       "      <td>POS</td>\n",
       "    </tr>\n",
       "    <tr>\n",
       "      <th>214</th>\n",
       "      <td>kj74anz</td>\n",
       "      <td>Thks! Hope you have a great FEAST II, all the ...</td>\n",
       "      <td>2024-01-23 14:25:22</td>\n",
       "      <td>POS</td>\n",
       "    </tr>\n",
       "    <tr>\n",
       "      <th>137</th>\n",
       "      <td>kjau765</td>\n",
       "      <td>Hi! I would like to ask if it is possible for ...</td>\n",
       "      <td>2024-01-24 03:38:13</td>\n",
       "      <td>NEU</td>\n",
       "    </tr>\n",
       "    <tr>\n",
       "      <th>168</th>\n",
       "      <td>kjaudx2</td>\n",
       "      <td>Unfortunately no and I don’t foresee it to cha...</td>\n",
       "      <td>2024-01-24 03:39:32</td>\n",
       "      <td>NEG</td>\n",
       "    </tr>\n",
       "  </tbody>\n",
       "</table>\n",
       "<p>2916 rows × 4 columns</p>\n",
       "</div>"
      ],
      "text/plain": [
       "           Id                                               Text  \\\n",
       "1028  ghq4jty  woww thank you so much for taking the time to ...   \n",
       "2915   kovm76  I am currently still in highschool (indo) and ...   \n",
       "2914   kp0zuf                            HASS mod recommendation   \n",
       "2590   kpde9d                                 Subjects in Year 1   \n",
       "1917  ghwf0at  Yes. I am indoneisan myself. In fact we have a...   \n",
       "...       ...                                                ...   \n",
       "212   kj6x184  Haha yup, should be out by tmr. Yes, FEAST II ...   \n",
       "213   kj6z72l  I see, wishing you all the best for the result...   \n",
       "214   kj74anz  Thks! Hope you have a great FEAST II, all the ...   \n",
       "137   kjau765  Hi! I would like to ask if it is possible for ...   \n",
       "168   kjaudx2  Unfortunately no and I don’t foresee it to cha...   \n",
       "\n",
       "                 Created Label  \n",
       "1028 2021-01-01 16:06:17   POS  \n",
       "2915 2021-01-02 10:52:03   NEU  \n",
       "2914 2021-01-02 17:02:09   NEU  \n",
       "2590 2021-01-03 04:13:53   NEU  \n",
       "1917 2021-01-03 04:32:08   NEU  \n",
       "...                  ...   ...  \n",
       "212  2024-01-23 13:34:29   POS  \n",
       "213  2024-01-23 13:50:05   POS  \n",
       "214  2024-01-23 14:25:22   POS  \n",
       "137  2024-01-24 03:38:13   NEU  \n",
       "168  2024-01-24 03:39:32   NEG  \n",
       "\n",
       "[2916 rows x 4 columns]"
      ]
     },
     "execution_count": 34,
     "metadata": {},
     "output_type": "execute_result"
    }
   ],
   "source": [
    "# inspect the resulting data frame\n",
    "df_text"
   ]
  },
  {
   "cell_type": "code",
   "execution_count": 35,
   "id": "0e6c1ef1-559f-4db8-8867-c8aca481d3ce",
   "metadata": {},
   "outputs": [],
   "source": [
    "# save data frame to csv\n",
    "df_text.to_csv(\"reddit.csv\")\n"
   ]
  },
  {
   "cell_type": "markdown",
   "id": "0f27bb73-f483-4364-9b9a-59493031cfcf",
   "metadata": {},
   "source": [
    "Download the csv file and open it in a spreadsheet application or text editor. \n",
    "\n",
    "Inspec the first 10-20 entries in the list to get a feeling for the data domain.\n",
    "\n",
    "### QUESTION: \n",
    "Write a short labeling guide for annotating the SUTD reddit data with sentiment labels. \n",
    "You can write the labeling guide in a bullet point format and should have 5-10 points.\n",
    "\n",
    "**--- ADD YOUR SOLUTION HERE (10 points)---**\n",
    "\n",
    "#### Positive Labeling Criteria\n",
    "- Text labelled as positive should have expressions of gratitute and appreciation\n",
    "- Sharing of positive experiences\n",
    "- Helpful and supportive responses with an overall positive an encouraging tone\n",
    "\n",
    "#### Negative Labeling Criteria\n",
    "- Text that show signs of frustrations or carry a generally negative tone\n",
    "- Sarcastic or critical comments\n",
    "- Complaints and rude behaviours\n",
    "\n",
    "#### Neutral Labeling Criteria\n",
    "- Text that are open ended or asking questions\n",
    "- General process descriptions without any opinions\n",
    "- Factual-based and balanced statements\n",
    "- Text that are gibberish or just contain a single link or have been deleted or removed\n",
    "\n",
    "------------------------------\n"
   ]
  },
  {
   "cell_type": "markdown",
   "id": "15e24d7a-ecbd-4da1-b642-7c28db4e06eb",
   "metadata": {},
   "source": [
    "## Label the data\n",
    "Add a new column 'HumanLabel' to the csv file and label the 500 most recent entries, including the first 10-20 you inspected to create the label guide, using a spreadsheet application (Excel, Google Docs, Numbers) or just a text editor. \n",
    "\n",
    "### QUESTION: \n",
    "What were some of the ambiguous cases or corner cases you encountered?\n",
    "List 3-5 issues\n",
    "\n",
    "**--- ADD YOUR SOLUTION HERE (30 points)---**\n",
    "\n",
    "Some corner cases include deleted posts and comments. Certain posts and comments have been deleted, either by the user or the system and the data entry is not cleared away. Instead, the text shows [deleted]. This is interpreted as a neutral text by the model, which is an approrpriate label. However, these data entries should be removed instead as they do not provide any value and can be imperative to the model's training. Some example would be text with ID \"gvhp9iw\" and \"gq7n0wp\"\n",
    "\n",
    "A similar corner case would be for posts and comments that are removed. Likewise, these text show [removed], when the data entry should be removed instead. An example case would be for ID \"gokbmfp\", \"gokbupc\" and \"gq7n0wp\"\n",
    "\n",
    "Some text also include some weird text, likely leftover code strings after data extraction. An example would be in the text with ID \"gwirxw8\" and \"k837l1p\". This text contained the following string \"&#x200B;\", which does not carry any inherent meaning. However, with some contextual clues, we can determine that the user was most likely replying to an earlier comment in the second half of the text. These information are not included in the text, hence the full context of the text could not be retrieved by the model\n",
    "\n",
    "There are also sarcastic comments that can be interpreted as both neutral, positive and negative. An example would be text with ID \"gjx3hvo\". In this comment, the user said \"There will be a ceremony where the sorting hat chooses your pillar.\". While the exact comment/post the user was replying to is not known, we can assume that it was likely another user asking for some clarification on the pillar selection process. This comment is very sarcastic and it does not help the user who asked the question at all, which makes it a negative comment. However, it is not a harmful comment and it could be argued that it was just the user's attempt at cracking a lighthearted joke, which then makes it a positive comment. Hence, these cases are ambigious and it's labelling depends on the degree of humour of the labeler. \n",
    "\n",
    "------------------------------\n",
    "\n",
    "\n",
    "Upload your 500 labeled instances as **reddit_labeled.csv** to JupyterLab."
   ]
  },
  {
   "cell_type": "markdown",
   "id": "0637838e-9741-4c6f-a889-e76dfbe25ead",
   "metadata": {},
   "source": [
    "## Evaluate\n",
    "Compare your human-corrected labels with the original predicted labels."
   ]
  },
  {
   "cell_type": "code",
   "execution_count": 36,
   "id": "f2c2a4a7-78ea-4942-afe3-cf20d177eca3",
   "metadata": {},
   "outputs": [],
   "source": [
    "# \n",
    "# QUESTION: Read the 500 labeled rows from the CSV file into a dataframe \"df_labeled\". \n",
    "# The data frame should have this schema.\n",
    "\n",
    "# Id - unique id of the comment or the submissions, Id is the index of the data frame \n",
    "# Text - text content of the comment or the submission title\n",
    "# Created - date time when submission or comment was created\n",
    "# Label - sentiment label as predicted by ML\n",
    "# HumanLabel - manually reviewed 'gold sentiment label'\n",
    "\n",
    "#--- ADD YOUR SOLUTION HERE (5 points)---\n",
    "\n",
    "df_labeled = pd.read_csv('reddit_labeled_jinchou_chua.csv')\n",
    "df_labeled = df_labeled.drop(\"Unnamed: 0\", axis = 1)\n",
    "#------------------------------\n"
   ]
  },
  {
   "cell_type": "code",
   "execution_count": 37,
   "id": "dbffcdc3-fa7d-442f-9250-0950e853d23e",
   "metadata": {},
   "outputs": [
    {
     "data": {
      "application/vnd.microsoft.datawrangler.viewer.v0+json": {
       "columns": [
        {
         "name": "index",
         "rawType": "int64",
         "type": "integer"
        },
        {
         "name": "Id",
         "rawType": "object",
         "type": "string"
        },
        {
         "name": "Text",
         "rawType": "object",
         "type": "string"
        },
        {
         "name": "Created",
         "rawType": "object",
         "type": "string"
        },
        {
         "name": "Label",
         "rawType": "object",
         "type": "string"
        },
        {
         "name": "HumanLabel",
         "rawType": "object",
         "type": "string"
        }
       ],
       "conversionMethod": "pd.DataFrame",
       "ref": "974c4cd2-3d0f-47f8-9dbb-0f2ce913e6cc",
       "rows": [
        [
         "0",
         "kjaudx2",
         "Unfortunately no and I don’t foresee it to change anytime soon",
         "24/1/24 3:39",
         "NEG",
         "NEU"
        ],
        [
         "1",
         "kjau765",
         "Hi! I would like to ask if it is possible for an area controller to switch to being a tower controller at some point in time during his/her career?",
         "24/1/24 3:38",
         "NEU",
         "NEU"
        ],
        [
         "2",
         "kj74anz",
         "Thks! Hope you have a great FEAST II, all the best 👍🏻",
         "23/1/24 14:25",
         "POS",
         "POS"
        ],
        [
         "3",
         "kj6z72l",
         "I see, wishing you all the best for the results. Hope you get it :)",
         "23/1/24 13:50",
         "POS",
         "POS"
        ],
        [
         "4",
         "kj6x184",
         "Haha yup, should be out by tmr. Yes, FEAST II demands higher ability in multi-tasking and concentration, basically it’s some games you are going to play (more to real ATC job). 👍🏻 In my opinion, less tiring than FEAST I.",
         "23/1/24 13:34",
         "POS",
         "NEU"
        ],
        [
         "5",
         "kj6wkno",
         "Ok my email should come soon then haha. How was feast II? Was it much harder?",
         "23/1/24 13:31",
         "NEU",
         "NEU"
        ],
        [
         "6",
         "kj6wfgz",
         "They told me verbally that I’ve passed, and I’ve received the email on the same day (late afternoon) for FEAST II scheduling.",
         "23/1/24 13:30",
         "NEU",
         "NEU"
        ],
        [
         "7",
         "kj6w8zi",
         "Haven’t took FEAST II yet. Btw, for FEAST I, did they inform you verbally that you passed or you had to wait for the email? I was told verbally after the test but I’m waiting for the email to arrange for the next test.",
         "23/1/24 13:28",
         "NEU",
         "NEU"
        ],
        [
         "8",
         "kj6vh0g",
         "Haha yes, I took my FEAST I last week, they informed me the same day that I passed. Waiting for my FEAST II results now, yet to come out. Btw has your’s out for FEAST II? (assuming you have done it)",
         "23/1/24 13:22",
         "POS",
         "NEU"
        ],
        [
         "9",
         "kj6s5fo",
         "The training is difficult as the learning curve is very steep. Trainers are very strict on how many mistakes you can make, thus margin of error is very low.",
         "23/1/24 12:56",
         "NEU",
         "NEU"
        ],
        [
         "10",
         "kj6k8dm",
         "I took FEAST I recently and they told me the next day I will proceed to FEAST II. I believe they should inform your outcome quite quickly.",
         "23/1/24 11:42",
         "NEU",
         "NEU"
        ],
        [
         "11",
         "kj0s8im",
         "Hi, did they reply already?",
         "22/1/24 10:01",
         "NEU",
         "NEU"
        ],
        [
         "12",
         "kj00a5w",
         "Hello! So, I've been studying Aerospace Engineering since polytechnic (now in NTU). I'm currently in the midst of the interview process and just submitted my Video Interview. I read that you mentioned that the training is very intense and challenging to pass so I was just wondering if you could shine a bit more light on that? Perhaps like what makes the training so difficult, and maybe also the estimated passing rate?\n\nThank you so much for doing this and thank you for your time in advance!",
         "22/1/24 4:52",
         "POS",
         "POS"
        ],
        [
         "13",
         "kilj1np",
         "Thanks for the info! Really cleared my doubts",
         "19/1/24 15:19",
         "POS",
         "POS"
        ],
        [
         "14",
         "kikvvfu",
         "Class 1-3 Medical assessments required by CAAS are all done at a local facility at Changi Airport. \n\nIt’s quite a comprehensive one including blood test, urine test, height and weight measurements, eyesight, and hearing",
         "19/1/24 12:37",
         "NEU",
         "NEU"
        ],
        [
         "15",
         "kikisuw",
         "Hi, thank you for such a comprehensive post! I have a question in mind, do you know how class 3 medical assessment is being carried out? Will they be assessing our physical and mental health within the time allocated (say in the office), or simply check our medical record?",
         "19/1/24 10:17",
         "POS",
         "POS"
        ],
        [
         "16",
         "kiitq9y",
         "1) starting salary is $3400++ depending on your bachelor honours\n\n2) first rating will provide you with a 12% shift allowance\n\n3) second rating will provide with 20% shift allowance\n\n4) yearly increment is dependent on past year individual performance ranking/grading. \n\nThere are works currently undergoing to revamp the rating system so things may change in the future",
         "19/1/24 1:10",
         "NEU",
         "NEU"
        ],
        [
         "17",
         "kih896r",
         "What's the salary like for ATCs? I know you mentioned briefly what comprises the salary but no number was given. What would the likely salary be for \n\n1. Still training\n2. First rating\n3. Second rating\n4. Yearly increments?\n5. How much are you roughly making now and how long have you been in?\n\nUnderstand that these may be sensitive information but would be very helpful to know as there's not much information online :(",
         "18/1/24 19:29",
         "NEU",
         "NEU"
        ],
        [
         "18",
         "kia4iv7",
         "They’ll inform you for sure. I believe over a phone call",
         "17/1/24 14:13",
         "NEU",
         "NEU"
        ],
        [
         "19",
         "kia2wke",
         "Hi! i just went for the exam, will they let us know if we pass or fail? or lets say we fail they wont tell us? Im feeling super duper nervous waiting for results 🥲",
         "17/1/24 14:02",
         "NEG",
         "NEU"
        ],
        [
         "20",
         "ki99k4o",
         "thanks boss",
         "17/1/24 9:08",
         "POS",
         "POS"
        ],
        [
         "21",
         "ki45mqz",
         "Albert Hong outside",
         "16/1/24 12:31",
         "NEU",
         "NEU"
        ],
        [
         "22",
         "ki3f9r9",
         "My two cents - there will be admissions interview for every prospective student.\n\n\nTBH, grades and SAT is not everything. If you can demonstrate that you are hands-on, self initiated (cos SUTD is super project based), have a portfolio such as hobbies you dabble in that are tech, design, or things that involve building stuff, eg python programming, Solidworks, robotics , your interviewers will love that.\n\n\nAll the best!",
         "16/1/24 7:26",
         "POS",
         "POS"
        ],
        [
         "23",
         "ki3ev2c",
         "Curriculum is one thing, but because SUTD is a very small school (per cohort less than 600 students) forging good relationships with your peers and profs will go a long way in terms of opportunities and help. \n\n\nOnce you split off into pillars in term4, that's when the cohort becomes even smaller, and everyone almost sorta knows everyone. When it comes to project work (hella alot), having friends that you know you can work well with will definitely go a long way too.",
         "16/1/24 7:21",
         "POS",
         "NEU"
        ],
        [
         "24",
         "ki3efb8",
         "Not sure if you need any update, but 30.103 runs in summer term, so we're looking at May - Aug that period. \n\n\nNew academic calendar and all",
         "16/1/24 7:16",
         "NEU",
         "NEU"
        ],
        [
         "25",
         "197qexl",
         "Best Study Spots?",
         "16/1/24 1:37",
         "NEU",
         "NEU"
        ],
        [
         "26",
         "khxewgs",
         "Hello!\n\nFor hall activity/commitment, you would have to participate in atleast 1 hostel event every term (if I rmbr correctly).. but this is only if you want to apply for hostel after term 2.. if you don't want to, then you can just not go for the hostel events..\n\nFor me, I usually hear plane sounds at night (very subtle) when I switch off my fan.. it is not really that prominent.. However, I do have to have admit that those living near the toilet would have problems such as hearing the toilet door getting slammed :( but other than that, not really any other sound issues..\n\nThere are quiet hours (don't really rmbr exactly when), but there is absolutely no curfew.. it is all up to you when you want to go to hostel and when not to..\n\nStudy areas are vastly available during normal periods, but during exam periods you might have some difficulty finding areas to study.. you can only book certain areas to study.. \n\nWifi coverage is pretty good, there are some rare instances when the wifi would be down, but other than that it is pretty good.\n\nCanteen food is pretty much okay, if you are vegetarian/muslim student tho, it is gonna be more difficult to find food in the canteen for yourself, but other than that you should be fine!",
         "15/1/24 5:18",
         "NEU",
         "POS"
        ],
        [
         "27",
         "khsmpfz",
         "- canteen food is alright but do note that we only have one canteen and the queues can be q long\n- for study areas there are q a few, a few levels in each block have study rooms/ meeting rooms u can use to study, library has study spots , near the albert hong lecture hall theres tables too. Plently of study areas. \n- for hall commitment i think u have to attend at least 2 hall events to ensure u have a chance to apply for dorm aft t2 if not ur chances r q low of getting accepted.\n- havent actually heard of any loud plane noises tbvh maybe its just me\n- wifi is q stable in most areas ? sometimes it might be down but they will send an email beforehand if its bc of some checks or maintenance \n- dont recall that theres any curfew, u do u as long u dont break dorm rules like bringing visitors in aft hours and making lots of noises",
         "14/1/24 9:25",
         "NEU",
         "NEU"
        ],
        [
         "28",
         "196avob",
         "Incoming student (CSD) here! How is life like living in the hostel?",
         "14/1/24 8:02",
         "NEU",
         "NEU"
        ],
        [
         "29",
         "khoeccd",
         "Avoid focusing on the curriculum and focus on building a portfolio, because out of Singapore no body understands the value of an SUTD degree. Like u say u r from SUTD, people r like what STD?HIV? AIDS?",
         "13/1/24 15:32",
         "NEG",
         "NEG"
        ],
        [
         "30",
         "khn640h",
         "As long as they've paid/provided monetary benefits in any form, you are liable to pay it back. If you break the scholarship after 2 years, you pay back 2 years of tuition fees and any amount of allowance given in those 2 years plus liquidated damages.",
         "13/1/24 8:15",
         "NEU",
         "NEU"
        ],
        [
         "31",
         "khlynjc",
         "The Curry Katsudon is simply amazing.",
         "13/1/24 1:51",
         "POS",
         "POS"
        ],
        [
         "32",
         "kheci0r",
         "Yo! I got in with 3.5 cgpa and got global merit scholarship. Didn't get any technical qns, the interview was super chill. Its 1 on 1, and they try to break the ice before they start asking further interview qns. Mainly things like why SUTD and Why SUTD and not NTU (yea got asked this lol). Oh another is they will try to scare you by listing out their very aggressive curriculum, how you needa learn fast and u have to convince them you will thrive not survive in the fast paced curriculum. Bonus points if u state something unique about urself that they don't alr know abt in your application they obviously have read up. For example \"most fun hackathon experience\" or \"can take apart and rebuild a car engine\" etc etc. Anyways this was for me, if u read last years sutd interview thread shd find more info. Atb!",
         "11/1/24 18:31",
         "NEU",
         "POS"
        ],
        [
         "33",
         "kh7qn0k",
         "Or take bus 5 or 20 to get to Simei area to eat and shop!",
         "10/1/24 15:08",
         "NEU",
         "NEU"
        ],
        [
         "34",
         "kh7qh3c",
         "Jewel Changi is also equally appealing if you're willing to take bus 24 there or hop on a friend's car to Jewel. :)\n\nGood news is that CCP now accepts Capitastar rewards programme so I think you can use capitavouchers too.",
         "10/1/24 15:07",
         "POS",
         "POS"
        ],
        [
         "35",
         "kh0c0cv",
         "If tuition fees was included in the benefits, do i have to pay back all the tuition fees covered before? or only the other additional monies that were given as part of the benefits?",
         "9/1/24 4:38",
         "NEU",
         "NEU"
        ],
        [
         "36",
         "1923kw2",
         "Advice?",
         "9/1/24 2:29",
         "NEU",
         "NEU"
        ],
        [
         "37",
         "kgwv7g6",
         "I dont know anyone, but for ASEAN, T&Cs state that you pay back the full amount that they have paid and provided for you at that point, plus something like +10% as liquidated damages.",
         "8/1/24 16:23",
         "NEU",
         "NEU"
        ],
        [
         "38",
         "kgukx8l",
         "U will probably get admitted plus a scholarship no problem.",
         "8/1/24 4:46",
         "POS",
         "POS"
        ],
        [
         "39",
         "kguiy05",
         "it wouldnt matter",
         "8/1/24 4:32",
         "NEU",
         "NEU"
        ],
        [
         "40",
         "kgufvu6",
         "what if you never took A math?",
         "8/1/24 4:13",
         "NEU",
         "NEU"
        ],
        [
         "41",
         "kgeai04",
         "i doubt so",
         "5/1/24 5:58",
         "NEG",
         "NEU"
        ],
        [
         "42",
         "kg9pmk2",
         "i see, would my chances be diminished because of this?",
         "4/1/24 12:23",
         "NEG",
         "NEU"
        ],
        [
         "43",
         "kg9o6bb",
         "u can still apply regardless and if u get the offer, u will have to go for the Special Summer Integrated Learning Programme (SS ILP) \n\n#",
         "4/1/24 12:09",
         "NEU",
         "NEU"
        ],
        [
         "44",
         "kg8xqyk",
         "ok thank u so much for ur input:)",
         "4/1/24 6:57",
         "POS",
         "POS"
        ],
        [
         "45",
         "kg8xmho",
         "The interview is actually quite general and if your records show sports/leadership roles, at least for me, they asked quite a lot of value related questions about that(teamwork, situations, etc). My interview went for around 20 minutes, fairly easy, they'll try to make you feel comfortable so don't worry about it. I wasn't asked any academic questions in the interview but I'm an international student so I had to go through a written test first, so that may be why my interview was a bit different. (Remember that the interview is to know you more as a person and whether you would fit in with the uni culture than your IQ). All the best :))",
         "4/1/24 6:56",
         "NEU",
         "NEU"
        ],
        [
         "46",
         "kg7xh3v",
         "They ask general qns like why sutd? why ur choice of pillar? Do you have any project or interest to show why u want to join this pillar? They may ask some physics/math qns. Afaik",
         "4/1/24 2:10",
         "NEU",
         "NEU"
        ],
        [
         "47",
         "18xokte",
         "Application and interview tips",
         "3/1/24 17:26",
         "NEU",
         "NEU"
        ],
        [
         "48",
         "kfubv9y",
         "https://www.reddit.com/r/sutd/s/71Bv8Bg6Xr",
         "1/1/24 15:40",
         "NEU",
         "NEU"
        ],
        [
         "49",
         "18vqvy4",
         "Seeking Scholarship Info and Funding Guidance",
         "1/1/24 6:36",
         "NEU",
         "NEU"
        ]
       ],
       "shape": {
        "columns": 5,
        "rows": 500
       }
      },
      "text/html": [
       "<div>\n",
       "<style scoped>\n",
       "    .dataframe tbody tr th:only-of-type {\n",
       "        vertical-align: middle;\n",
       "    }\n",
       "\n",
       "    .dataframe tbody tr th {\n",
       "        vertical-align: top;\n",
       "    }\n",
       "\n",
       "    .dataframe thead th {\n",
       "        text-align: right;\n",
       "    }\n",
       "</style>\n",
       "<table border=\"1\" class=\"dataframe\">\n",
       "  <thead>\n",
       "    <tr style=\"text-align: right;\">\n",
       "      <th></th>\n",
       "      <th>Id</th>\n",
       "      <th>Text</th>\n",
       "      <th>Created</th>\n",
       "      <th>Label</th>\n",
       "      <th>HumanLabel</th>\n",
       "    </tr>\n",
       "  </thead>\n",
       "  <tbody>\n",
       "    <tr>\n",
       "      <th>0</th>\n",
       "      <td>kjaudx2</td>\n",
       "      <td>Unfortunately no and I don’t foresee it to cha...</td>\n",
       "      <td>24/1/24 3:39</td>\n",
       "      <td>NEG</td>\n",
       "      <td>NEU</td>\n",
       "    </tr>\n",
       "    <tr>\n",
       "      <th>1</th>\n",
       "      <td>kjau765</td>\n",
       "      <td>Hi! I would like to ask if it is possible for ...</td>\n",
       "      <td>24/1/24 3:38</td>\n",
       "      <td>NEU</td>\n",
       "      <td>NEU</td>\n",
       "    </tr>\n",
       "    <tr>\n",
       "      <th>2</th>\n",
       "      <td>kj74anz</td>\n",
       "      <td>Thks! Hope you have a great FEAST II, all the ...</td>\n",
       "      <td>23/1/24 14:25</td>\n",
       "      <td>POS</td>\n",
       "      <td>POS</td>\n",
       "    </tr>\n",
       "    <tr>\n",
       "      <th>3</th>\n",
       "      <td>kj6z72l</td>\n",
       "      <td>I see, wishing you all the best for the result...</td>\n",
       "      <td>23/1/24 13:50</td>\n",
       "      <td>POS</td>\n",
       "      <td>POS</td>\n",
       "    </tr>\n",
       "    <tr>\n",
       "      <th>4</th>\n",
       "      <td>kj6x184</td>\n",
       "      <td>Haha yup, should be out by tmr. Yes, FEAST II ...</td>\n",
       "      <td>23/1/24 13:34</td>\n",
       "      <td>POS</td>\n",
       "      <td>NEU</td>\n",
       "    </tr>\n",
       "    <tr>\n",
       "      <th>...</th>\n",
       "      <td>...</td>\n",
       "      <td>...</td>\n",
       "      <td>...</td>\n",
       "      <td>...</td>\n",
       "      <td>...</td>\n",
       "    </tr>\n",
       "    <tr>\n",
       "      <th>495</th>\n",
       "      <td>jlsz8pd</td>\n",
       "      <td>Entered having not taken physics since sec 2 b...</td>\n",
       "      <td>27/5/23 9:33</td>\n",
       "      <td>NEU</td>\n",
       "      <td>NEU</td>\n",
       "    </tr>\n",
       "    <tr>\n",
       "      <th>496</th>\n",
       "      <td>jlsjszp</td>\n",
       "      <td>Fun if you join fifth rows that you like. Yeah...</td>\n",
       "      <td>27/5/23 5:57</td>\n",
       "      <td>POS</td>\n",
       "      <td>NEU</td>\n",
       "    </tr>\n",
       "    <tr>\n",
       "      <th>497</th>\n",
       "      <td>jls9yp6</td>\n",
       "      <td>If you have access to a gpu cloud, anything goes</td>\n",
       "      <td>27/5/23 4:04</td>\n",
       "      <td>POS</td>\n",
       "      <td>NEU</td>\n",
       "    </tr>\n",
       "    <tr>\n",
       "      <th>498</th>\n",
       "      <td>jls8deo</td>\n",
       "      <td>OOo i see!! Any medical examination requiremen...</td>\n",
       "      <td>27/5/23 3:48</td>\n",
       "      <td>NEU</td>\n",
       "      <td>NEU</td>\n",
       "    </tr>\n",
       "    <tr>\n",
       "      <th>499</th>\n",
       "      <td>jlpez8k</td>\n",
       "      <td>hey no worries, feel free to DM if you have an...</td>\n",
       "      <td>26/5/23 14:45</td>\n",
       "      <td>POS</td>\n",
       "      <td>POS</td>\n",
       "    </tr>\n",
       "  </tbody>\n",
       "</table>\n",
       "<p>500 rows × 5 columns</p>\n",
       "</div>"
      ],
      "text/plain": [
       "          Id                                               Text  \\\n",
       "0    kjaudx2  Unfortunately no and I don’t foresee it to cha...   \n",
       "1    kjau765  Hi! I would like to ask if it is possible for ...   \n",
       "2    kj74anz  Thks! Hope you have a great FEAST II, all the ...   \n",
       "3    kj6z72l  I see, wishing you all the best for the result...   \n",
       "4    kj6x184  Haha yup, should be out by tmr. Yes, FEAST II ...   \n",
       "..       ...                                                ...   \n",
       "495  jlsz8pd  Entered having not taken physics since sec 2 b...   \n",
       "496  jlsjszp  Fun if you join fifth rows that you like. Yeah...   \n",
       "497  jls9yp6   If you have access to a gpu cloud, anything goes   \n",
       "498  jls8deo  OOo i see!! Any medical examination requiremen...   \n",
       "499  jlpez8k  hey no worries, feel free to DM if you have an...   \n",
       "\n",
       "           Created Label HumanLabel  \n",
       "0     24/1/24 3:39   NEG        NEU  \n",
       "1     24/1/24 3:38   NEU        NEU  \n",
       "2    23/1/24 14:25   POS        POS  \n",
       "3    23/1/24 13:50   POS        POS  \n",
       "4    23/1/24 13:34   POS        NEU  \n",
       "..             ...   ...        ...  \n",
       "495   27/5/23 9:33   NEU        NEU  \n",
       "496   27/5/23 5:57   POS        NEU  \n",
       "497   27/5/23 4:04   POS        NEU  \n",
       "498   27/5/23 3:48   NEU        NEU  \n",
       "499  26/5/23 14:45   POS        POS  \n",
       "\n",
       "[500 rows x 5 columns]"
      ]
     },
     "execution_count": 37,
     "metadata": {},
     "output_type": "execute_result"
    }
   ],
   "source": [
    "# check the data was loaded correctly\n",
    "df_labeled"
   ]
  },
  {
   "cell_type": "code",
   "execution_count": 38,
   "id": "6480121a-ae2a-462b-9890-4b6f029a5180",
   "metadata": {},
   "outputs": [],
   "source": [
    "# split the labeled data into two chunks, ordered by time\n",
    "df_labeled.sort_values('Created', ascending=True, inplace=True)\n",
    "\n",
    "df_labeled1 = df_labeled[:250]\n",
    "df_labeled2 = df_labeled[250:]"
   ]
  },
  {
   "cell_type": "code",
   "execution_count": 39,
   "id": "f805392d-3dc0-46d3-83da-83070dba1a16",
   "metadata": {},
   "outputs": [
    {
     "data": {
      "application/vnd.microsoft.datawrangler.viewer.v0+json": {
       "columns": [
        {
         "name": "index",
         "rawType": "int64",
         "type": "integer"
        },
        {
         "name": "Id",
         "rawType": "object",
         "type": "string"
        },
        {
         "name": "Text",
         "rawType": "object",
         "type": "string"
        },
        {
         "name": "Created",
         "rawType": "object",
         "type": "string"
        },
        {
         "name": "Label",
         "rawType": "object",
         "type": "string"
        },
        {
         "name": "HumanLabel",
         "rawType": "object",
         "type": "string"
        }
       ],
       "conversionMethod": "pd.DataFrame",
       "ref": "87483633-95cc-4a72-916a-7a5f34ff68e0",
       "rows": [
        [
         "48",
         "kfubv9y",
         "https://www.reddit.com/r/sutd/s/71Bv8Bg6Xr",
         "1/1/24 15:40",
         "NEU",
         "NEU"
        ],
        [
         "49",
         "18vqvy4",
         "Seeking Scholarship Info and Funding Guidance",
         "1/1/24 6:36",
         "NEU",
         "NEU"
        ],
        [
         "452",
         "jmgqich",
         " let's be friends!! :)",
         "1/6/23 11:49",
         "POS",
         "POS"
        ],
        [
         "451",
         "13xltzi",
         "SS ILP Experience",
         "1/6/23 16:16",
         "NEU",
         "NEU"
        ],
        [
         "457",
         "jmffwnd",
         "count me in!!!!",
         "1/6/23 2:54",
         "POS",
         "NEU"
        ],
        [
         "456",
         "jmfhzvc",
         "HeLLO!! Would you be joining the early matriculation excercise?",
         "1/6/23 3:11",
         "NEU",
         "POS"
        ],
        [
         "455",
         "jmfi8uv",
         "hello :D nope sorry HAHA",
         "1/6/23 3:13",
         "NEU",
         "POS"
        ],
        [
         "454",
         "jmfoih1",
         "Me too:))",
         "1/6/23 4:09",
         "POS",
         "NEU"
        ],
        [
         "453",
         "jmfsmjl",
         "Hi! Im interested to join the group!",
         "1/6/23 4:49",
         "POS",
         "POS"
        ],
        [
         "230",
         "juccnqc",
         "Sorry for replying so late I lazy and this took way to long :(Please take what I say with a grain of salt and clarify anything you need to know as it will be a pain if something importent you forgot to bring\n\nAlot of thing I just say buy here like boxes and bag get a cheap one from diso\n\nBased on the packing list\n\nStuff they recomend (alot thing just buy in singapore) Also you can clarify stuff you want to know as this is just off my head\n\n\\-**Posters & other decorations that will not damage the walls** ( If you like to decorate the walls like the girls can bring blue tack to hang them or push pin to put them on the \"padded area?\" but I dont really boarder with it) (can bring)\n\n\\-**Calculator** (it is importent as some exams can use it) (can bring)\n\n\\- **Basic first aid kit** (good for if you have cut or have fever etc but normaly can borrow unless you keep on borrowing) (bring some medication but stuff like plaster commen stuff can buy in SH)\n\n\\- **Photos of friends and family** (can use push pin to hang them I dont really cared as I have digital copys but people do put them on the wall) (can bring)\n\n\\- **Sewing kit** ( if you know how to fix broken cloths that is good) (can bring a small one wont take up too much space)\n\n\\-**Bathrobe** ( I heard the girls use it but male just change to sleeping attire short sleeve tshirt and shorts night will be hot ) (can bring? if you use it)\n\n\\-**Poster putty**\t(blue tack or push pins) (just buy in sg)\n\n\\-**Binders, paper, and notebooks** (honestly for you to take notes if you have an Ipad or another digital drawing tool dont need to boarder with it unless you like paper e.g I had some one that like to rewrite all the \"important\" stuff on paper) (can bring if you are plaing to use pen and paper just buy bulky thing like binder here in SG)\n\n\\-**Towels and hand wipes** ( Towels I feel it is toiletries you need it to dry your self hand wipes is usefull but I just went toilet if I want to wash hands) (can bring but towel will take up alot of space wet tisue just buy)\n\n\\-**Alarm clock** (use phone but I have people that alarm clock goes on for hours and they dont wake up as they are too tired) (use phone )\n\n\\-**Pencils, pens, markers, ruler, scissors, stapler** (Pen important other not so much Pencils I never used markers/ruler never used unless note taking scissor and stapler I just borrowd) (bring/buy pen/stationery can bring they dont take up too much space)\n\n\\- **Shower flip-flops** ( need get one that dont absorb water so you can shower in it unless you are the kind that walk into the toilet barefoot but pls dont it is unsanitary) (can bring but foot wear takes up alot of space)\n\n\\-**Audio and music device** (good to have a earpiece so you dont disturb your room mate when watching video or SDL if you do it) (bring)\n\n\\-**Prescribed medication** ( Bring must bring)\n\n\\-**Sanitizing product** (last year they gave hand sanitizer dont know if this year will be diff but they were getting rid of hand sanitizer so I had alot) (they should have? see you wet tissue is enough for me)\n\n\\-**Bed sheets, pillow covers, comforter, duvet for single bed** (yes they only give a bed with blue cover on it make sure to check for bugs) (just buy in SG takes up too much space)\n\n\\-**Slippers and shoes** (basicly what you want to wear) (bring but takes up alot of space)\n\n\\-**Dental and body hygiene items** (bring)\n\n\\-**Clothes hangers** (need to hang cloths unless you fold them like what I did for the majority of cloths) (can bring a bunch)\n\n\\-**Iron** (I borrowed it honeslty too heavy to bring to SG) (dont bring)\n\n\\-**Personal toiletries and bag/bucket to carry them in to shower** (Yep toothbrush,soap etc can bring something to carry them but I just brough my cloths and soap without a bag to hold them but it is convinent to have something to store all yout toiletries recomended) (just buy a cheap bucket in SG)\n\n\\-**Laptop / Tablet** (bring )\n\n\\-**Clothing suitable for tropical weather**\t(no brainer dont bring winter clothing but can bring a jacket as aircondition room can get cold depending on were you seat) (bring)\n\n\\-**Hair dryer** ( I air dry but I do have one just incase I want to sleep fast) (can bring)\n\n\\-**Mobile phone** (/... bring)\n\n\\-**Umbrella** (bring as you will be walking/taveling you dont know when it will rain bring a small one)\n\n\\-**Toilet paper roll** (take from school)\n\n\\-**Flashlight** (use phone)\n\n\\-**Clothes hamper/basket** (important as you need to carry your cloths to the level 1 washing machine) (just buy in SG as too space consuming)\n\n\\-**Favourite eating supplies** (unless some one is cooking you dont need it unless something like a fork for instant noodle) (can bring one set of plates to eat with friends if they cook depends on who you are with)\n\n\\-**Laundry detergent** (need for washing cloths in a pinch I borrowed some for a few weeks :\\\\) (can just buy they can be very heavy)",
         "1/8/23 13:53",
         "NEU",
         "NEU"
        ],
        [
         "231",
         "juccqc0",
         "Stuff that not on packing list not for you to bring just telling you that you may need it when staying in the hostel so must likely you will buy when you come to SG (so you at least have a shopping list)\n\nNot an extensive list just want came to my mind when typing out my other message can add on to it \n\njacket and/or long pants aircon rooms can be cold\n\npillow just buy in SG only a bed is provided\n\nsnacks just buy in SG(you will get hungry at night)\n\nPC?? a powerful computer will be helpful in any rendering of stuff adobe and cadding not needed I used a bad laptop but envy the people that had it (dont need but alot of people impulse purchase)\n\nsleeping cloths? I seen people in pajamas\n\nget payla app you will need it  \n\nblankets just buy here in SG\n\nsome thing to clean your room I just borrow them like duster and vacume cleaner",
         "1/8/23 13:53",
         "NEU",
         "NEU"
        ],
        [
         "229",
         "juce0pu",
         "Also this is all my own experience and a male.\n\n something may vary like a woman may need a hair dryer more as most of them have long hair etc",
         "1/8/23 14:02",
         "NEU",
         "NEU"
        ],
        [
         "228",
         "jucipqr",
         "Thank you so much, it really helped me out quite a bit.",
         "1/8/23 14:34",
         "POS",
         "POS"
        ],
        [
         "235",
         "jubid0x",
         "There is a packing list? I don't remember having one.\n\nIf you are from overseas it really matters but if you are local bring what you think and slowly move stuff over after all you will have your hostel for like u months.\n\nIf you need more advice and reply to this message.\n\nAlso if you need things like iron and vacuum cleaner most likely you can lend from some one in the hostel that what I did.",
         "1/8/23 8:59",
         "NEU",
         "NEU"
        ],
        [
         "234",
         "jubirbo",
         "I am from overseas, which is why I am so worried as I will be on the other side of the world, so I kind of need everything. There is a packing list on the websites  \n[https://www.sutd.edu.sg/Campus-Life/Housing/Freshmore-Terms-1-2/What-To-Bring](https://www.sutd.edu.sg/Campus-Life/Housing/Freshmore-Terms-1-2/What-To-Bring)\n\nOther than this, is there anything else I should require?",
         "1/8/23 9:05",
         "NEU",
         "NEU"
        ],
        [
         "233",
         "jubj24b",
         "I see I reply to you later when I get back home. I will try to also give you the reason to bring the time listed so you can make an idea of what to bring base on what is important.",
         "1/8/23 9:08",
         "NEU",
         "NEU"
        ],
        [
         "232",
         "jubj6f3",
         "Thank you",
         "1/8/23 9:10",
         "POS",
         "POS"
        ],
        [
         "189",
         "jyo0xuu",
         "8 September via MyPortal",
         "1/9/23 13:51",
         "NEU",
         "NEU"
        ],
        [
         "34",
         "kh7qh3c",
         "Jewel Changi is also equally appealing if you're willing to take bus 24 there or hop on a friend's car to Jewel. :)\n\nGood news is that CCP now accepts Capitastar rewards programme so I think you can use capitavouchers too.",
         "10/1/24 15:07",
         "POS",
         "POS"
        ],
        [
         "33",
         "kh7qn0k",
         "Or take bus 5 or 20 to get to Simei area to eat and shop!",
         "10/1/24 15:08",
         "NEU",
         "NEU"
        ],
        [
         "97",
         "k8mzs8n",
         "i thot the website says they dont look at gpa",
         "10/11/23 12:39",
         "NEU",
         "NEU"
        ],
        [
         "98",
         "k8m5bmp",
         "Hello, I know this post is quite old, but I have been facing difficulties finding relevant resources on the requirements for ATCO regarding eyesights. Do you know what are the eyesight requirements in order to be a ATCO in Singapore?",
         "10/11/23 6:32",
         "NEG",
         "NEU"
        ],
        [
         "410",
         "jnn8ovb",
         "ya the deluxe no? 😂",
         "10/6/23 11:08",
         "NEU",
         "NEU"
        ],
        [
         "409",
         "jnn8nt9",
         "how much did you pay",
         "10/6/23 11:08",
         "NEU",
         "NEU"
        ],
        [
         "412",
         "jnmq2v1",
         "Nope",
         "10/6/23 6:51",
         "NEU",
         "NEU"
        ],
        [
         "411",
         "jnms7ld",
         "thank you so much the pic uploading is driving me nuts",
         "10/6/23 7:20",
         "POS",
         "POS"
        ],
        [
         "277",
         "jreqrsn",
         "Can you try to dm me coz I cannot dm you",
         "10/7/23 14:53",
         "NEU",
         "NEU"
        ],
        [
         "276",
         "14vxu43",
         "laptop for school",
         "10/7/23 15:52",
         "NEU",
         "NEU"
        ],
        [
         "275",
         "jrffxnd",
         "Any laptop is OK. As long can download and run software that ur pillar requires. E.g. Esd need rstudio Microsoft stuff (maybe spyder/vs code/photoshop)",
         "10/7/23 17:39",
         "POS",
         "NEU"
        ],
        [
         "217",
         "jvkcp7g",
         "So I should just bring a padlock?",
         "10/8/23 10:01",
         "NEU",
         "NEU"
        ],
        [
         "215",
         "jvkco3q",
         " That does help, thanks.",
         "10/8/23 10:01",
         "POS",
         "NEU"
        ],
        [
         "216",
         "jvkcohv",
         "Ok, thanks.",
         "10/8/23 10:01",
         "POS",
         "NEU"
        ],
        [
         "214",
         "jvkdg60",
         "i think bringing a padlock is a lot easier and provides just as much peace of mind as a whole safe would. also, make sure the padlock isn't too large, otherwise it wouldn't fit into the locking mechanism.",
         "10/8/23 10:10",
         "POS",
         "NEU"
        ],
        [
         "213",
         "jvkdir6",
         "Thanks a lot, that certainly helps.",
         "10/8/23 10:11",
         "POS",
         "POS"
        ],
        [
         "221",
         "15n5i50",
         "Are there safes in the dorm room?",
         "10/8/23 7:35",
         "NEU",
         "NEU"
        ],
        [
         "220",
         "jvk48mi",
         "nope there are no safes, just a drawer with a key",
         "10/8/23 8:13",
         "NEU",
         "NEU"
        ],
        [
         "219",
         "jvka1gy",
         "to clarify the above, there's a drawer where you can use your own padlock to lock it, but that's pretty much it.",
         "10/8/23 9:28",
         "NEU",
         "NEU"
        ],
        [
         "218",
         "jvka5su",
         "If it makes you feel better most people tend to keep their doors unlocked, and from what I know there havent been any stealing incidents.",
         "10/8/23 9:30",
         "NEU",
         "NEU"
        ],
        [
         "177",
         "jzwg1h8",
         "Thanks for the prompt reply! Logic, Arithmetic, Cardinal Direction, Spatial Awareness, Memory and Reaction are the first part of the test, which you need to pass in order to take test number two. I took a glance on a candidate's test number two. Its some sort of a radar simulation, where you need to plan strategically. Just curious if you know any games or websites to practice these kind of radar simulation.",
         "10/9/23 2:05",
         "POS",
         "POS"
        ],
        [
         "176",
         "jzwkda7",
         "I won’t suggest corrupting your mind with games that say “ATC” when i have personally tried them and it’s really not the same. \n\nIf it’s about planning and strategizing, Diner Dash or similar games are really good imo. \n\nBut if you want to try turning and descending aircrafts, i know i did tried “Approach Control” on app store.",
         "10/9/23 2:38",
         "POS",
         "POS"
        ],
        [
         "32",
         "kheci0r",
         "Yo! I got in with 3.5 cgpa and got global merit scholarship. Didn't get any technical qns, the interview was super chill. Its 1 on 1, and they try to break the ice before they start asking further interview qns. Mainly things like why SUTD and Why SUTD and not NTU (yea got asked this lol). Oh another is they will try to scare you by listing out their very aggressive curriculum, how you needa learn fast and u have to convince them you will thrive not survive in the fast paced curriculum. Bonus points if u state something unique about urself that they don't alr know abt in your application they obviously have read up. For example \"most fun hackathon experience\" or \"can take apart and rebuild a car engine\" etc etc. Anyways this was for me, if u read last years sutd interview thread shd find more info. Atb!",
         "11/1/24 18:31",
         "NEU",
         "POS"
        ],
        [
         "96",
         "k8qg456",
         "i got in with 65",
         "11/11/23 2:36",
         "NEU",
         "NEU"
        ],
        [
         "95",
         "k8ridys",
         "whether SUTD has \"better mental health\" is hugely dependent on the individual - how well you do working in group projects, coping with crammed courses and heavy 5th row involvement.\n\nFor groupwork, we do 4-6 group projects every term and all the deadlines are crammed into the same 2-3 weeks. For the courses, we typically cram a lot of content into the 14 weeks because we dont have as much specialisation as NUS and NTU to afford spreading it into 2 separate modules. School is smaller so it gets harder to get committed people in your CCAs (or 5th rows as we call them).\n\nAlso its a lot easier to get into SUTD and once you get in, you are guaranteed to get whichever pillar you pick. so its easy to get into CS compared to NUS/NTU. SUTD will consider your CCA and leadership skills, and your portfolio of projects. if you're interested in CS, i suggest making some projects, putting it on github and deploying it. Then show it off during the interview.",
         "11/11/23 9:13",
         "NEU",
         "NEU"
        ],
        [
         "408",
         "jnsd3i5",
         "$30.00 ",
         "11/6/23 15:09",
         "NEU",
         "NEU"
        ],
        [
         "274",
         "jrhizmf",
         "Done",
         "11/7/23 2:24",
         "NEU",
         "NEU"
        ],
        [
         "211",
         "jvqo3r1",
         "But just to confirm your email name is the correct one right?",
         "11/8/23 15:10",
         "NEU",
         "NEU"
        ],
        [
         "210",
         "jvqo8vv",
         "You can use your student id if you are not sure like 1006769@mymail.sutd.edu.sg\n\nAka student_id@mymail.sutd.edu.sg\n\nThat email is a random email btw\n\nOr you can use your name_lastname@mymail.sutd.edu.sg but that never worked for me.",
         "11/8/23 15:11",
         "NEU",
         "NEU"
        ],
        [
         "209",
         "jvqsvjw",
         "yup, it's the correct one. which is quite puzzling :/",
         "11/8/23 15:39",
         "NEG",
         "NEU"
        ],
        [
         "208",
         "jvr5jgn",
         "isnt it name.lastname?",
         "11/8/23 16:56",
         "NEU",
         "NEU"
        ],
        [
         "207",
         "jvswl2d",
         "I could never get the name to work so I always used student id",
         "11/8/23 23:33",
         "NEU",
         "NEU"
        ]
       ],
       "shape": {
        "columns": 5,
        "rows": 250
       }
      },
      "text/html": [
       "<div>\n",
       "<style scoped>\n",
       "    .dataframe tbody tr th:only-of-type {\n",
       "        vertical-align: middle;\n",
       "    }\n",
       "\n",
       "    .dataframe tbody tr th {\n",
       "        vertical-align: top;\n",
       "    }\n",
       "\n",
       "    .dataframe thead th {\n",
       "        text-align: right;\n",
       "    }\n",
       "</style>\n",
       "<table border=\"1\" class=\"dataframe\">\n",
       "  <thead>\n",
       "    <tr style=\"text-align: right;\">\n",
       "      <th></th>\n",
       "      <th>Id</th>\n",
       "      <th>Text</th>\n",
       "      <th>Created</th>\n",
       "      <th>Label</th>\n",
       "      <th>HumanLabel</th>\n",
       "    </tr>\n",
       "  </thead>\n",
       "  <tbody>\n",
       "    <tr>\n",
       "      <th>48</th>\n",
       "      <td>kfubv9y</td>\n",
       "      <td>https://www.reddit.com/r/sutd/s/71Bv8Bg6Xr</td>\n",
       "      <td>1/1/24 15:40</td>\n",
       "      <td>NEU</td>\n",
       "      <td>NEU</td>\n",
       "    </tr>\n",
       "    <tr>\n",
       "      <th>49</th>\n",
       "      <td>18vqvy4</td>\n",
       "      <td>Seeking Scholarship Info and Funding Guidance</td>\n",
       "      <td>1/1/24 6:36</td>\n",
       "      <td>NEU</td>\n",
       "      <td>NEU</td>\n",
       "    </tr>\n",
       "    <tr>\n",
       "      <th>452</th>\n",
       "      <td>jmgqich</td>\n",
       "      <td>let's be friends!! :)</td>\n",
       "      <td>1/6/23 11:49</td>\n",
       "      <td>POS</td>\n",
       "      <td>POS</td>\n",
       "    </tr>\n",
       "    <tr>\n",
       "      <th>451</th>\n",
       "      <td>13xltzi</td>\n",
       "      <td>SS ILP Experience</td>\n",
       "      <td>1/6/23 16:16</td>\n",
       "      <td>NEU</td>\n",
       "      <td>NEU</td>\n",
       "    </tr>\n",
       "    <tr>\n",
       "      <th>457</th>\n",
       "      <td>jmffwnd</td>\n",
       "      <td>count me in!!!!</td>\n",
       "      <td>1/6/23 2:54</td>\n",
       "      <td>POS</td>\n",
       "      <td>NEU</td>\n",
       "    </tr>\n",
       "    <tr>\n",
       "      <th>...</th>\n",
       "      <td>...</td>\n",
       "      <td>...</td>\n",
       "      <td>...</td>\n",
       "      <td>...</td>\n",
       "      <td>...</td>\n",
       "    </tr>\n",
       "    <tr>\n",
       "      <th>197</th>\n",
       "      <td>jxhbt9b</td>\n",
       "      <td>any laptop works if going csd. only maybe arch...</td>\n",
       "      <td>23/8/23 23:07</td>\n",
       "      <td>NEU</td>\n",
       "      <td>NEU</td>\n",
       "    </tr>\n",
       "    <tr>\n",
       "      <th>1</th>\n",
       "      <td>kjau765</td>\n",
       "      <td>Hi! I would like to ask if it is possible for ...</td>\n",
       "      <td>24/1/24 3:38</td>\n",
       "      <td>NEU</td>\n",
       "      <td>NEU</td>\n",
       "    </tr>\n",
       "    <tr>\n",
       "      <th>0</th>\n",
       "      <td>kjaudx2</td>\n",
       "      <td>Unfortunately no and I don’t foresee it to cha...</td>\n",
       "      <td>24/1/24 3:39</td>\n",
       "      <td>NEG</td>\n",
       "      <td>NEU</td>\n",
       "    </tr>\n",
       "    <tr>\n",
       "      <th>87</th>\n",
       "      <td>182vwyh</td>\n",
       "      <td>Exchange at SUTD</td>\n",
       "      <td>24/11/23 16:28</td>\n",
       "      <td>NEU</td>\n",
       "      <td>NEU</td>\n",
       "    </tr>\n",
       "    <tr>\n",
       "      <th>56</th>\n",
       "      <td>keq47d9</td>\n",
       "      <td>Hi what does the uee covers?</td>\n",
       "      <td>24/12/23 10:08</td>\n",
       "      <td>NEU</td>\n",
       "      <td>NEU</td>\n",
       "    </tr>\n",
       "  </tbody>\n",
       "</table>\n",
       "<p>250 rows × 5 columns</p>\n",
       "</div>"
      ],
      "text/plain": [
       "          Id                                               Text  \\\n",
       "48   kfubv9y         https://www.reddit.com/r/sutd/s/71Bv8Bg6Xr   \n",
       "49   18vqvy4      Seeking Scholarship Info and Funding Guidance   \n",
       "452  jmgqich                              let's be friends!! :)   \n",
       "451  13xltzi                                  SS ILP Experience   \n",
       "457  jmffwnd                                    count me in!!!!   \n",
       "..       ...                                                ...   \n",
       "197  jxhbt9b  any laptop works if going csd. only maybe arch...   \n",
       "1    kjau765  Hi! I would like to ask if it is possible for ...   \n",
       "0    kjaudx2  Unfortunately no and I don’t foresee it to cha...   \n",
       "87   182vwyh                                   Exchange at SUTD   \n",
       "56   keq47d9                       Hi what does the uee covers?   \n",
       "\n",
       "            Created Label HumanLabel  \n",
       "48     1/1/24 15:40   NEU        NEU  \n",
       "49      1/1/24 6:36   NEU        NEU  \n",
       "452    1/6/23 11:49   POS        POS  \n",
       "451    1/6/23 16:16   NEU        NEU  \n",
       "457     1/6/23 2:54   POS        NEU  \n",
       "..              ...   ...        ...  \n",
       "197   23/8/23 23:07   NEU        NEU  \n",
       "1      24/1/24 3:38   NEU        NEU  \n",
       "0      24/1/24 3:39   NEG        NEU  \n",
       "87   24/11/23 16:28   NEU        NEU  \n",
       "56   24/12/23 10:08   NEU        NEU  \n",
       "\n",
       "[250 rows x 5 columns]"
      ]
     },
     "execution_count": 39,
     "metadata": {},
     "output_type": "execute_result"
    }
   ],
   "source": [
    "# check that the each split is 250 instances and that they don't overlap\n",
    "df_labeled1\n"
   ]
  },
  {
   "cell_type": "code",
   "execution_count": 40,
   "id": "1429f03f-0027-4469-ae2f-15c69504ba55",
   "metadata": {},
   "outputs": [
    {
     "data": {
      "application/vnd.microsoft.datawrangler.viewer.v0+json": {
       "columns": [
        {
         "name": "index",
         "rawType": "int64",
         "type": "integer"
        },
        {
         "name": "Id",
         "rawType": "object",
         "type": "string"
        },
        {
         "name": "Text",
         "rawType": "object",
         "type": "string"
        },
        {
         "name": "Created",
         "rawType": "object",
         "type": "string"
        },
        {
         "name": "Label",
         "rawType": "object",
         "type": "string"
        },
        {
         "name": "HumanLabel",
         "rawType": "object",
         "type": "string"
        }
       ],
       "conversionMethod": "pd.DataFrame",
       "ref": "33161e39-95a6-42cf-95cf-2ac3c5f26ca1",
       "rows": [
        [
         "55",
         "keq4c28",
         "Hi! So what does the exam covers?",
         "24/12/23 10:10",
         "NEU",
         "NEU"
        ],
        [
         "54",
         "keq4e9k",
         "Hi! So what does the uee covers?",
         "24/12/23 10:11",
         "NEU",
         "NEU"
        ],
        [
         "342",
         "jpdhkm3",
         "Enter through EASE and access outlook 365 on the front page of icons. Login through that and set up to access. \n\nAcct is pretty inactive rn though",
         "24/6/23 18:05",
         "NEU",
         "NEU"
        ],
        [
         "341",
         "jpdivgn",
         "If u r sgporean no need chest x ray",
         "24/6/23 18:15",
         "NEU",
         "NEU"
        ],
        [
         "346",
         "jpbhocg",
         "Current SUTD student here!\n\nI'm happy to help answer your questions about SUTD if you have any but here's my advice for you based on what you're asking.\n\nAs some have already mentioned, you don't need to \"qualify\" for CSD, you just need to be accepted into SUTD then you're free to choose whatever course you want during your third term of study.\n\nThe important thing to note here is that you're only choosing your course in your third term!! What this means is that courses in terms 1, 2 and 3 (sort of for term 3) are gonna be common for all SUTD students. This includes two compulsory physics mods. I don't mean to scare you but speaking as someone who did take H2 Physics, it's hard af. This is a sentiment shared by many in my cohort. On the bright side, you will be able to take these mods as S/U, or pass fail. This means that these mods won't affect your GPA so long as you pass the mods. That takes away a lot of the pressure of doing well.\n\nI do have friends with no physics background who survived the first two terms then proceeded to do CSD, or any of the other courses where physics isn't a big part. So don't be afraid to give it a go.\n\nWhat I would like to add on, as an extra piece of advice is, if you're sure you wanna do CS, SUTD is an option but it might not be the best option. SUTD is a place to explore more before truly deciding on what you wanna do. Don't come in with CS tunnel vision! You'll find your first two or three terms a lot less enjoyable that way. Be open to learning about other things and who knows! You might end up choosing Architecture HAHA",
         "24/6/23 6:02",
         "POS",
         "POS"
        ],
        [
         "345",
         "jpbsnqt",
         "Hi there :\") are u aware of how the early admissions process is like? Planning to apply for early admissions this year. Not rlly sure how to prepare myself for the interview.",
         "24/6/23 8:29",
         "NEU",
         "NEU"
        ],
        [
         "344",
         "jpbtgr0",
         "HAHA I'm glad you asked! I myself got in through early admission! \n\nI'm not sure if they've changed anything but here's the process that took place for me.\n\nI got a message from my JC to apply for early admission. I'm not sure about applying on your own, that's just how it happened for me c':\n\nThey took a look at my prelim results and then invited me to a workshop to attend. During this workshop they introduced the SUTD curriculum and the SUTD way and culture. It's basically a design thinking workshop that introduces you to important concepts you will learn throughout your SUTD years.\n\nAfter the workshop, we were grouped up and then went to attend a group interview. My interview was with one interviewer and 3 interviewees. They asked me the usual questions, like where do I see myself in X years. They did also ask about SUTD specific things like whether I like making things and how I tackle a problem I don't have the answer to or have no experience doing.\n\nI've had friends tell me they've had physics and math questions in their interview but I didn't face that so I'm not sure.\n\nAfter the interview they eventually emailed me saying they wanted to see my A-level results before informing me of my admission results. I did have a U in my prelims so that might have been the reason for that but I can't be too sure.\n\nJust be yourself! The skills and people they're tryna look for are people who are willing to learn and better themselves. People who aren't afraid to fail so that they can learn! For example, I mentioned having no computing education or experience but mentioned I liked watching videos on youtube to learn and have been watching CS50 lectures as well. An appreciation for a holistic education is a plus too. \n\nAll the best and hope to see you in SUTD!",
         "24/6/23 8:41",
         "POS",
         "POS"
        ],
        [
         "343",
         "jpbtpox",
         "Thank you so much! :D",
         "24/6/23 8:45",
         "POS",
         "POS"
        ],
        [
         "251",
         "jt7l539",
         "What are you going to do about it? It happens in the corporate world too. Or when you apply for a job: often the advertisers specify that only the selected candidates will be informed of the outcome.\nIt is often a waste of resources to send 200 rejection letters.\nIn the ideal world we would all receive all the answers we want all the time. Perhaps , soon we will have AI sending individual rejection letters. Perhaps AI will also be selecting the best candidates…",
         "24/7/23 4:26",
         "NEU",
         "NEU"
        ],
        [
         "250",
         "jt7wz8x",
         "I won't do anything about it other than express how disappointing this is for graduate applicants. It happens in the corporate world, yes, but less so in academia. But to reiterate-  just because it happens often doesn't mean it should be practiced considering they asked applicants to write a statement of objectives, reach out to **three** recommenders, and **pay** for the application fee.",
         "24/7/23 6:43",
         "NEG",
         "NEG"
        ],
        [
         "196",
         "jxi38l0",
         "Historically each batch has been about 400+ students, give or take. This year will see a significantly larger intake of 600-ish students. Bear in mind that we have a common first year for all students so the 400-600 will be spread across the 5 pillars ( equivalent to faculties in other unis), meaning the CS course will see 100-200++ students (other courses like archi have historically low numbers, 60-80 but might change due to the new higher intake)\n\n\n\nSUTD keeps its intake low because of their emphasis on the low student to faculty ratio, last advertised as 11:1, in order to keep learning effective for students.. On top of the small campus, limited housing options and availability of food on-campus, it doesn't make a lot of sense to just suddenly take in 2000+ students like they do in other unis faculties.",
         "24/8/23 2:23",
         "NEU",
         "NEU"
        ],
        [
         "195",
         "jxi44m3",
         "alot more than I expected\n\nWhen I saw sutd only got 4 courses in ges, I was thinking it would be like 50 student per course or something haha",
         "24/8/23 2:29",
         "NEU",
         "NEU"
        ],
        [
         "194",
         "jxi5dbt",
         "SUTD works a little differently. First year is common for everyone, after that people go into their pillar or choice and do the core mods for those pillars. Only in the last 2 years (3~ terms) do they get to choose mods that they want to focus on based on their specialization. For CS it could be AI or cybersecurity, mechanical or electrical for engineering etc. If you're just looking at specific specializations then yes the graduates would be closer to the range you have in mind.",
         "24/8/23 2:39",
         "NEU",
         "NEU"
        ],
        [
         "193",
         "jxib69p",
         "Hi then may I ask if there's any plans to further expand the campus in order to take in more students?",
         "24/8/23 3:27",
         "NEU",
         "NEU"
        ],
        [
         "192",
         "jxid3y4",
         "SUTD has a bit of a dilemma. The school needs more students before it can expand and the school needs to expand before it can take more students. I think it was a requirement by MOE. There are plans in place to expand - if you've been here before hearsay is the empty grass patches you see around campus are slated for future buildings. \n\n\n\nIn terms of increasing the intake though, I don't think the school will be going against the ratio anytime soon so we won't see huge intakes for the foreseeable future",
         "24/8/23 3:45",
         "NEU",
         "NEU"
        ],
        [
         "191",
         "jxigft8",
         "Oh then how come this year there is an increased intake from 400+ to 600+?",
         "24/8/23 4:16",
         "NEU",
         "NEU"
        ],
        [
         "190",
         "jxikhw5",
         "I have no idea tbh, but the school has been wanting to increase the intake for a while. Could be a couple of reasons, like setting up the infrastructure for more students, or waiting for some new programmes to stabilise first (DAI was introduced 1-2 years back, curriculum change was done 3 years back etc), or trying to bring in more professors that had problems coming in due to COVID",
         "24/8/23 4:58",
         "NEU",
         "NEU"
        ],
        [
         "152",
         "16r6epg",
         "What is hostel life like?",
         "24/9/23 19:30",
         "NEU",
         "NEU"
        ],
        [
         "151",
         "k21hqac",
         "It’s not compulsory to stay.",
         "24/9/23 20:14",
         "NEU",
         "NEU"
        ],
        [
         "86",
         "kaonlov",
         "chill meh? arent we known for staying up",
         "25/11/23 11:11",
         "NEU",
         "NEU"
        ],
        [
         "85",
         "kaq2l00",
         "hello I think I replied u a few time b4.\nDepends alot factors la but if u choose the most slack mods (see edimension course syllabus), don't join any cca, got good proj mates, can focus on assignments (not watching tiktok halfway?) .. I estimate time spent on sch is 10ish hours a week? Considered slack what",
         "25/11/23 18:04",
         "NEU",
         "NEU"
        ],
        [
         "52",
         "keun2ny",
         "1. SUTD only requires students to do 4 mods per term unlike other unis that require you to do more to complete credit requirements. That being said workload for each mod is higher compared to mods of other unis. Mods definitely get harder the more senior you become, but I've never seen anyone unable to complete their projects/assignments. May have to pull the occasional late night, but that's expected at any uni.\n2. That question is very vague. I'd say each week there is a new concept taught, and you are expected to practice and understand it on your own using materials/google.\n3. Yes. SUTD is one of the only Uni's where all mods have small classes. Lectures are not a given, meaning content is taught in a small class setting.\n4. Fifth rows in SUTD really depend on what you are interested in, many also take the opportunity to pick up a new hobby.",
         "25/12/23 10:38",
         "NEU",
         "NEU"
        ],
        [
         "53",
         "keufq2t",
         "I am wondering the same thing. I am even older, 45, and am wondering I am too old to apply for probationary air traffic controller.",
         "25/12/23 8:48",
         "NEU",
         "NEU"
        ],
        [
         "249",
         "jtbmjt5",
         "Maybe disappointing but is it very common in academia too. I have been in academia for the past 25 years.",
         "25/7/23 0:32",
         "NEG",
         "NEU"
        ],
        [
         "248",
         "jtbrr1z",
         "Hi for me I had to call them directly after many tries of emailing them to no reply. Try contact the student admission department.",
         "25/7/23 1:12",
         "NEU",
         "NEU"
        ],
        [
         "247",
         "jtceipf",
         "Just email them..! I waited about 3 days after accepting offer",
         "25/7/23 4:22",
         "NEU",
         "NEU"
        ],
        [
         "246",
         "jtcz75k",
         "I mean I don't have experience but I always use a VM when I use other OS on my windows laptop.\n\nSome say dual boot but sorry I am too much of a coward for that",
         "25/7/23 8:33",
         "NEG",
         "NEU"
        ],
        [
         "150",
         "k231yxj",
         "https://root.sutd.edu.sg/student-life/fifth-row-directory",
         "25/9/23 2:31",
         "NEU",
         "NEU"
        ],
        [
         "149",
         "k23u5vd",
         "Compulsory to pay for hostel for first 2 terms but not compulsory to stay\n\nYou will find all kinds of girls and guys",
         "25/9/23 7:11",
         "NEU",
         "NEU"
        ],
        [
         "118",
         "k6hte4c",
         "dm me too, thanks",
         "26/10/23 4:00",
         "NEU",
         "NEU"
        ],
        [
         "84",
         "kasy5g8",
         "hahahahahahaahaha it's you again, maybe there's a reason why you didn't get anywhere when you're full of shit 😂😂 waahh everyone bully me waahh everyone not on my side is evil sniff sniff \n\nyou throw \"mental health\" around like a cudgel to beat people with and when they don't believe your flimsy claims you say that they bully you. unbelievable. there's a reason why everybody that worked with you for even a short moment has been put off by your vile behaviour. you keep racking up bad karma this way and blame everyone else but yourself. 😂😂😂😂 you can lie and trick people but just remember that in the end you'll have no one but yourself to blame",
         "26/11/23 6:03",
         "NEG",
         "NEG"
        ],
        [
         "83",
         "kasyvtn",
         "Regarding harassment: I suggest disregarding the other yapping fool in this thread. My female friend was sent nudes by an unhinged guy in her class and he kept bombarding her with messages. She reported him to OSA and he was placed under disciplinary probation, and eventually dropped out due to the pressure the school management was putting him under + social ostracisation when everyone rallied around her. \n\nKeep receipts, keep evidence. Report to OSA with an email regarding your concerns immediately. The school actually takes a zero tolerance approach regarding these matters. That other weirdo only stayed in SUTD for a few months and left because \"bullying\", so I'd take his words with a lake of salt. Especially since he keeps lurking in this place and stewing away like a bitter ex.  \n\n\nI'm sorry this happened to you, and I hope the perpetrator will face justice soon.",
         "26/11/23 6:11",
         "NEG",
         "NEG"
        ],
        [
         "82",
         "kat08kk",
         "Oh please, there are plenty of evidences for the truth. And purposefully triggering my PTSD and anxiety attacks, and having a good laugh about it was documented by a few eyewitnesses as well. :)\n\nI don't need you or that particular group of classmates' validation when literally quite a number of people are also put off by the toxicity and/or behavior of the same few people. Likewise, for the post I made in reddit detailing my life experience, you  (and the others) can continue framing it as flimsy; there is sufficient evidence that is kept from 2011 till now (including my education records).\n\nBut unlike you, I don't have to hide behind a throwaway account when I say these things or when I do my social impact work because I have nothing to hide. What about you?\n\nFor all the \"bad karma\" I am accumulating, it must be retribution that I am now having a much better life compared to when I was at SUTD. For all the \"bad karma\" I accumulated when I was in SP, the truth came out when it was shown that I was actually backstabbed by that same group of people who claimed I was (insert whatever viles words you want). Admit it, you just don't wish to see the current narrative being challenged by an outlier's narrative.\n\nSo yea, instead of trying to throw malicious slander around (which, to be frank, just proves the point that I made recently in a mental health conference) and projecting on me, maybe learn to grow up and stop acting like a jerk.",
         "26/11/23 6:26",
         "NEG",
         "NEG"
        ],
        [
         "81",
         "kat0jnp",
         "Your words are disgusting and you should apologise to lucielkun27. You sound like you have bullied him/her before and spread rumours about him/her to everyone so much so that people start ostracising him/her.\n\nYes, my case may not be about bullying, but your words showed that you are very psychopathic and definitely not a decent human being. If you tell people those rumours about lucielkun27, yes you may have supporters who will laugh about him/her with you, but there will also be many people who remain quiet and lowkey shun you because they simply do not want to be involved in your vile behaviour.",
         "26/11/23 6:30",
         "NEG",
         "NEG"
        ],
        [
         "80",
         "kat212c",
         "sadly, you might be surprised to know that he's actually the bully in many cases. there's evidence too :) his actions speak for himself, no slander needed",
         "26/11/23 6:47",
         "NEG",
         "NEG"
        ],
        [
         "79",
         "kat3iza",
         "But from an outsider’s pov, you really seem like the evil one.",
         "26/11/23 7:05",
         "NEG",
         "NEG"
        ],
        [
         "78",
         "kat9q5l",
         "I think people can tell you’re the toxic one, judging from your sharp and extreme words. You’re the kind of person me and my friends will avoid in school honestly 😂",
         "26/11/23 8:24",
         "NEG",
         "NEG"
        ],
        [
         "499",
         "jlpez8k",
         "hey no worries, feel free to DM if you have any other questions, always happy to help a junior out",
         "26/5/23 14:45",
         "POS",
         "POS"
        ],
        [
         "340",
         "jplhin9",
         "Those who haven't heard anything yet from them, just drop them an email letting them know that you had submitted your final high school results, but haven't received anything. They will respond with some update. (Do this only if you've met their condition of submitting the final results, and some time has already passed after the submission)",
         "26/6/23 15:04",
         "NEU",
         "NEU"
        ],
        [
         "245",
         "jtjpytj",
         "Ok thanks, I will do that",
         "26/7/23 17:16",
         "POS",
         "POS"
        ],
        [
         "244",
         "jtjpyao",
         "Ok thanks",
         "26/7/23 17:16",
         "NEU",
         "POS"
        ],
        [
         "148",
         "k28rfx7",
         "hostel life is really fun imo, i mean ive only been here for 3-4weeks, but so far i've had a lot of time to spend with my friends at night, studying or suppering or just hanging out.\n\nfor the first year its compulsory to stay hostel, but some of my friends who stay nearby do go home from time to time as we dont have school on all days (but this will be based on ur school schedule)\n\nbefore u join sutd hostel there is a form u need to fill up. they ask u to do like 3 personality quizzes and asks u questions like \"what time do u sleep?\" \"what time do u wake up?\" \"wld u like ur roomie to be ur bestfriend?\" etc. while these questions may not 100% confirm that u will have a good roomie, it really comes down to communication and talking it out with them \n\nif u have any other questions abt hostel life, feel free to dm me or reply here!",
         "26/9/23 4:52",
         "POS",
         "POS"
        ],
        [
         "147",
         "k28rkba",
         "on a side note, me and my roomie have our alone time at night although we're both really talkative, its something we established from the start, so we both just chill in our own beds at night. trust me when i say this really comes down to communication between u and ur roomei",
         "26/9/23 4:53",
         "POS",
         "POS"
        ],
        [
         "117",
         "k6oo16u",
         "It takes like at most 6-8 hours to make a cheat sheet ???",
         "27/10/23 14:23",
         "NEG",
         "NEU"
        ],
        [
         "116",
         "k6p8jpw",
         "i usually yolo and dont bring cheat sheet. but hey i did all the homework assignments myself",
         "27/10/23 16:31",
         "NEU",
         "NEU"
        ],
        [
         "115",
         "k6pd4zp",
         "SU just wack",
         "27/10/23 16:58",
         "NEG",
         "NEG"
        ],
        [
         "76",
         "kaz1kh7",
         "Yeah I know a few people in the 75 to 80 range who have full scholarships. They also had pretty average portfolios so you should be able to get one of you apply.",
         "27/11/23 13:47",
         "NEU",
         "POS"
        ],
        [
         "75",
         "kaz1uba",
         "Write your application well, prepare for your interview and boost your portfolio in the meantime.",
         "27/11/23 13:49",
         "POS",
         "NEU"
        ],
        [
         "74",
         "kb0axkg",
         "[removed]",
         "27/11/23 18:49",
         "NEU",
         "NEU"
        ],
        [
         "73",
         "kb0dq7d",
         "You're welcome",
         "27/11/23 19:06",
         "POS",
         "POS"
        ]
       ],
       "shape": {
        "columns": 5,
        "rows": 250
       }
      },
      "text/html": [
       "<div>\n",
       "<style scoped>\n",
       "    .dataframe tbody tr th:only-of-type {\n",
       "        vertical-align: middle;\n",
       "    }\n",
       "\n",
       "    .dataframe tbody tr th {\n",
       "        vertical-align: top;\n",
       "    }\n",
       "\n",
       "    .dataframe thead th {\n",
       "        text-align: right;\n",
       "    }\n",
       "</style>\n",
       "<table border=\"1\" class=\"dataframe\">\n",
       "  <thead>\n",
       "    <tr style=\"text-align: right;\">\n",
       "      <th></th>\n",
       "      <th>Id</th>\n",
       "      <th>Text</th>\n",
       "      <th>Created</th>\n",
       "      <th>Label</th>\n",
       "      <th>HumanLabel</th>\n",
       "    </tr>\n",
       "  </thead>\n",
       "  <tbody>\n",
       "    <tr>\n",
       "      <th>55</th>\n",
       "      <td>keq4c28</td>\n",
       "      <td>Hi! So what does the exam covers?</td>\n",
       "      <td>24/12/23 10:10</td>\n",
       "      <td>NEU</td>\n",
       "      <td>NEU</td>\n",
       "    </tr>\n",
       "    <tr>\n",
       "      <th>54</th>\n",
       "      <td>keq4e9k</td>\n",
       "      <td>Hi! So what does the uee covers?</td>\n",
       "      <td>24/12/23 10:11</td>\n",
       "      <td>NEU</td>\n",
       "      <td>NEU</td>\n",
       "    </tr>\n",
       "    <tr>\n",
       "      <th>342</th>\n",
       "      <td>jpdhkm3</td>\n",
       "      <td>Enter through EASE and access outlook 365 on t...</td>\n",
       "      <td>24/6/23 18:05</td>\n",
       "      <td>NEU</td>\n",
       "      <td>NEU</td>\n",
       "    </tr>\n",
       "    <tr>\n",
       "      <th>341</th>\n",
       "      <td>jpdivgn</td>\n",
       "      <td>If u r sgporean no need chest x ray</td>\n",
       "      <td>24/6/23 18:15</td>\n",
       "      <td>NEU</td>\n",
       "      <td>NEU</td>\n",
       "    </tr>\n",
       "    <tr>\n",
       "      <th>346</th>\n",
       "      <td>jpbhocg</td>\n",
       "      <td>Current SUTD student here!\\n\\nI'm happy to hel...</td>\n",
       "      <td>24/6/23 6:02</td>\n",
       "      <td>POS</td>\n",
       "      <td>POS</td>\n",
       "    </tr>\n",
       "    <tr>\n",
       "      <th>...</th>\n",
       "      <td>...</td>\n",
       "      <td>...</td>\n",
       "      <td>...</td>\n",
       "      <td>...</td>\n",
       "      <td>...</td>\n",
       "    </tr>\n",
       "    <tr>\n",
       "      <th>282</th>\n",
       "      <td>jr8vvvo</td>\n",
       "      <td>20 - successful appeal outcome \\n17 - unsucces...</td>\n",
       "      <td>9/7/23 6:04</td>\n",
       "      <td>NEU</td>\n",
       "      <td>NEU</td>\n",
       "    </tr>\n",
       "    <tr>\n",
       "      <th>281</th>\n",
       "      <td>jr93tje</td>\n",
       "      <td>utterly devastated, got a good decent rp, they...</td>\n",
       "      <td>9/7/23 7:47</td>\n",
       "      <td>NEG</td>\n",
       "      <td>NEG</td>\n",
       "    </tr>\n",
       "    <tr>\n",
       "      <th>222</th>\n",
       "      <td>jveme8g</td>\n",
       "      <td>ur sutd email is just ur first name_lastname@m...</td>\n",
       "      <td>9/8/23 5:33</td>\n",
       "      <td>NEU</td>\n",
       "      <td>NEU</td>\n",
       "    </tr>\n",
       "    <tr>\n",
       "      <th>179</th>\n",
       "      <td>jzso3ue</td>\n",
       "      <td>Good day sir, Im taking my Feast test 2 this c...</td>\n",
       "      <td>9/9/23 10:01</td>\n",
       "      <td>NEU</td>\n",
       "      <td>NEU</td>\n",
       "    </tr>\n",
       "    <tr>\n",
       "      <th>178</th>\n",
       "      <td>jzswku1</td>\n",
       "      <td>I have done an Aptitude test but I am aware th...</td>\n",
       "      <td>9/9/23 11:39</td>\n",
       "      <td>NEU</td>\n",
       "      <td>NEU</td>\n",
       "    </tr>\n",
       "  </tbody>\n",
       "</table>\n",
       "<p>250 rows × 5 columns</p>\n",
       "</div>"
      ],
      "text/plain": [
       "          Id                                               Text  \\\n",
       "55   keq4c28                  Hi! So what does the exam covers?   \n",
       "54   keq4e9k                   Hi! So what does the uee covers?   \n",
       "342  jpdhkm3  Enter through EASE and access outlook 365 on t...   \n",
       "341  jpdivgn                If u r sgporean no need chest x ray   \n",
       "346  jpbhocg  Current SUTD student here!\\n\\nI'm happy to hel...   \n",
       "..       ...                                                ...   \n",
       "282  jr8vvvo  20 - successful appeal outcome \\n17 - unsucces...   \n",
       "281  jr93tje  utterly devastated, got a good decent rp, they...   \n",
       "222  jveme8g  ur sutd email is just ur first name_lastname@m...   \n",
       "179  jzso3ue  Good day sir, Im taking my Feast test 2 this c...   \n",
       "178  jzswku1  I have done an Aptitude test but I am aware th...   \n",
       "\n",
       "            Created Label HumanLabel  \n",
       "55   24/12/23 10:10   NEU        NEU  \n",
       "54   24/12/23 10:11   NEU        NEU  \n",
       "342   24/6/23 18:05   NEU        NEU  \n",
       "341   24/6/23 18:15   NEU        NEU  \n",
       "346    24/6/23 6:02   POS        POS  \n",
       "..              ...   ...        ...  \n",
       "282     9/7/23 6:04   NEU        NEU  \n",
       "281     9/7/23 7:47   NEG        NEG  \n",
       "222     9/8/23 5:33   NEU        NEU  \n",
       "179    9/9/23 10:01   NEU        NEU  \n",
       "178    9/9/23 11:39   NEU        NEU  \n",
       "\n",
       "[250 rows x 5 columns]"
      ]
     },
     "execution_count": 40,
     "metadata": {},
     "output_type": "execute_result"
    }
   ],
   "source": [
    "df_labeled2\n"
   ]
  },
  {
   "cell_type": "code",
   "execution_count": 41,
   "id": "d1bbc118-5449-4810-be11-969826c6760d",
   "metadata": {},
   "outputs": [
    {
     "name": "stdout",
     "output_type": "stream",
     "text": [
      "              precision    recall  f1-score   support\n",
      "\n",
      "         NEG       0.82      0.31      0.45        29\n",
      "         NEU       0.84      0.95      0.89       164\n",
      "         POS       0.80      0.77      0.79        57\n",
      "\n",
      "    accuracy                           0.83       250\n",
      "   macro avg       0.82      0.68      0.71       250\n",
      "weighted avg       0.83      0.83      0.82       250\n",
      "\n"
     ]
    }
   ],
   "source": [
    "# Compute the agreement between the predicted labels and your manually created \"gold labels\" in split 1. \n",
    "# Compute scores for overall accuracy as well as precision/recall/f1 score for each label class\n",
    "# Print all scores \n",
    "\n",
    "print(sklearn.metrics.classification_report(df_labeled1[\"Label\"], df_labeled1[\"HumanLabel\"]))"
   ]
  },
  {
   "cell_type": "code",
   "execution_count": 42,
   "id": "424dd320-6228-467b-9850-3d1c2201eeae",
   "metadata": {},
   "outputs": [
    {
     "name": "stdout",
     "output_type": "stream",
     "text": [
      "              precision    recall  f1-score   support\n",
      "\n",
      "         NEG       0.94      0.48      0.64        31\n",
      "         NEU       0.74      0.93      0.83       148\n",
      "         POS       0.78      0.55      0.64        71\n",
      "\n",
      "    accuracy                           0.76       250\n",
      "   macro avg       0.82      0.65      0.70       250\n",
      "weighted avg       0.78      0.76      0.75       250\n",
      "\n"
     ]
    }
   ],
   "source": [
    "# Compute the agreement between the predicted labels and your manually created \"gold labels\" in split 2. \n",
    "# Compute scores for overall accuracy as well as precision/recall/f1 score for each label class\n",
    "# Print all scores \n",
    "\n",
    "print(sklearn.metrics.classification_report(df_labeled2[\"Label\"], df_labeled2[\"HumanLabel\"]))"
   ]
  },
  {
   "cell_type": "markdown",
   "id": "d7958c9e-6aab-4066-a0f0-0296e08c0935",
   "metadata": {},
   "source": [
    "## Retrain sentiment model\n",
    "\n",
    "Now let us use the data in df_labeled1 to try improve the sentiment classifier.\n",
    "Train the Huggingface model you have chosen with the 250 examples and your human gold labels.\n",
    "\n",
    "Start by converting the data from data frames into a 2 Huggingface datasets. \n",
    "- dataset1 : a Huggingface dataset object which includes the data from dataframe df_labeled1\n",
    "- dataset2 : a Huggingface dataset object which includes the data from dataframe df_labeled2\n",
    "\n",
    "\n",
    "In each dataset, there should be the following fields\n",
    "- text : the text of the reddit submission or comment\n",
    "- label: the human gold label, encoded as integer\n",
    "\n",
    "With these dataset we will simulate the process of improving a model in production. Dataset1 is simulating a batch of data which we observed in production, annotated and then use to improve the model. We evaluate the change on the new training data and on the next batch of production data, simulated by dataset2.\n"
   ]
  },
  {
   "cell_type": "code",
   "execution_count": 43,
   "id": "fcb36c6b-5f51-406a-848a-1f81e54c3327",
   "metadata": {},
   "outputs": [],
   "source": [
    "def convert_label(df, pipeline):\n",
    "    # drop predicted label column\n",
    "    df = df.drop(\"Label\", axis=1)\n",
    "    # convert string labels to integers as column 'label' using the sentiment pipeline config\n",
    "    label_id_mapping = lambda label: pipeline.model.config.label2id[label]\n",
    "    df['label'] = df['HumanLabel'].apply(label_id_mapping)\n",
    "    return df\n",
    "\n",
    "df_labeled1 = convert_label(df_labeled1, sentiment_pipeline)\n",
    "df_labeled2 = convert_label(df_labeled2, sentiment_pipeline)"
   ]
  },
  {
   "cell_type": "code",
   "execution_count": 44,
   "id": "da8fcb8a-17fd-4a9e-99ae-c1ae7cdb8eeb",
   "metadata": {},
   "outputs": [],
   "source": [
    "# QUESTION: Convert the text and human labels from the data frame to a huggingface dataset format\n",
    "# create a huggingface 'dataset1' from data frame 'df_labeled1' and 'dataset2' from data frame 'df_labeled2' \n",
    "#\n",
    "# each dataset has the following fields\n",
    "# text : the text of the reddit submission or comment\n",
    "# label: the human gold label, encoded as integer\n",
    "\n",
    "#--- ADD YOUR SOLUTION HERE (5 points)---\n",
    "dataset1 = Dataset.from_pandas(df_labeled1[[\"Text\", \"label\"]])\n",
    "dataset1 = dataset1.rename_column(original_column_name= \"Text\", new_column_name= \"text\")\n",
    "\n",
    "dataset2 = Dataset.from_pandas(df_labeled2[[\"Text\", \"label\"]])\n",
    "dataset2 = dataset2.rename_column(original_column_name= \"Text\", new_column_name= \"text\")\n",
    "\n",
    "#------------------------------\n"
   ]
  },
  {
   "cell_type": "code",
   "execution_count": 45,
   "id": "b415c538-f5ea-44be-9a23-47e2e4867ce5",
   "metadata": {},
   "outputs": [
    {
     "data": {
      "text/plain": [
       "{'text': 'https://www.reddit.com/r/sutd/s/71Bv8Bg6Xr',\n",
       " 'label': 1,\n",
       " '__index_level_0__': 48}"
      ]
     },
     "execution_count": 45,
     "metadata": {},
     "output_type": "execute_result"
    }
   ],
   "source": [
    "# inspect the first example\n",
    "dataset1[0]"
   ]
  },
  {
   "cell_type": "code",
   "execution_count": 46,
   "id": "4106f683-1c93-414f-b7ba-31a3722367da",
   "metadata": {},
   "outputs": [
    {
     "name": "stderr",
     "output_type": "stream",
     "text": [
      "Map: 100%|██████████| 250/250 [00:00<00:00, 3816.72 examples/s]\n",
      "Map: 100%|██████████| 250/250 [00:00<00:00, 4518.17 examples/s]\n"
     ]
    }
   ],
   "source": [
    "# load tokenizer and tokenize data set\n",
    "# \n",
    "# QUESTION: Load the required tokenizer from Huggingface into a variable 'tokenizer'\n",
    "# Then tokenize 'dataset1' into 'tokenized_dataset1' and 'dataset2' into 'tokenized_dataset2'\n",
    "# Use the Huggingface libraries. Remember that we stored the model name in a variable \"model_name\"\n",
    "\n",
    "# helper function for tokenization\n",
    "def tokenize_function(examples):\n",
    "    return tokenizer(examples['text'], padding=True, truncation=True, max_length=128)\n",
    "\n",
    "#--- ADD YOUR SOLUTION HERE (5 points)---\n",
    "tokenizer = AutoTokenizer.from_pretrained(model_name)\n",
    "\n",
    "tokenized_dataset1 = dataset1.map(tokenize_function, batched=True)\n",
    "tokenized_dataset2 = dataset2.map(tokenize_function, batched=True)\n",
    "#------------------------------\n",
    "\n"
   ]
  },
  {
   "cell_type": "code",
   "execution_count": 47,
   "id": "09087fb6-1cc6-457c-b601-316d7bb3b3b0",
   "metadata": {},
   "outputs": [],
   "source": [
    "# load Hugging model for classification initialized with the sentiment model you have chosen\n",
    "\n",
    "#--- ADD YOUR SOLUTION HERE (3 points)---\n",
    "model = AutoModelForSequenceClassification.from_pretrained(model_name, num_labels = 3)\n",
    "#------------------------------\n",
    "# Hint: make sure your model corresponds to your tokenizer"
   ]
  },
  {
   "cell_type": "code",
   "execution_count": 48,
   "id": "0d865dca-a413-4060-ac4e-a49039262f3f",
   "metadata": {},
   "outputs": [],
   "source": [
    "# add custom metrics that computes precision, recall, f1, accuracy\n",
    "\n",
    "from sklearn.metrics import accuracy_score, precision_score, recall_score, f1_score\n",
    "\n",
    "def compute_metrics(pred):\n",
    "    labels = pred.label_ids\n",
    "    preds = pred.predictions.argmax(-1)\n",
    "    \n",
    "    # Calculate accuracy\n",
    "    accuracy = accuracy_score(labels, preds)\n",
    "\n",
    "   # Calculate precision, recall, and F1-score\n",
    "    precision = precision_score(labels, preds, average='weighted')\n",
    "    recall = recall_score(labels, preds, average='weighted')\n",
    "    f1 = f1_score(labels, preds, average='weighted')\n",
    "    \n",
    "    return {\n",
    "        'accuracy': accuracy,\n",
    "        'precision': precision,\n",
    "        'recall': recall,\n",
    "        'f1': f1\n",
    "    }"
   ]
  },
  {
   "cell_type": "code",
   "execution_count": 49,
   "id": "edcbf727-1479-4b81-988a-c18eba4de126",
   "metadata": {},
   "outputs": [
    {
     "name": "stderr",
     "output_type": "stream",
     "text": [
      "/Users/jin/Documents/GitHub/EC_Calculator_App/venv/lib/python3.12/site-packages/transformers/training_args.py:1611: FutureWarning: `evaluation_strategy` is deprecated and will be removed in version 4.46 of 🤗 Transformers. Use `eval_strategy` instead\n",
      "  warnings.warn(\n"
     ]
    }
   ],
   "source": [
    "\n",
    "#\n",
    "# QUESTION: configure the training parameters using the Hugginface TrainingArguments class\n",
    "# - set the output directory to \"finetuning-reddit\"\n",
    "# - do not report training metrics to an external experiment tracking service\n",
    "# - learning rate to 2e-5, \n",
    "# - set weight decay to 0.01\n",
    "# - set logging_steps to 10,\n",
    "# - set evaluation_strategy to \"steps\",\n",
    "# - set epochs to 3\n",
    "\n",
    "\n",
    "#--- ADD YOUR SOLUTION HERE (3 points)---\n",
    "training_args = TrainingArguments(\n",
    "    output_dir=\"finetuning-reddit\",\n",
    "    report_to=None,\n",
    "    evaluation_strategy=\"steps\",\n",
    "    learning_rate=2e-5,\n",
    "    weight_decay=0.01,\n",
    "    num_train_epochs=3,\n",
    "    logging_steps=10)\n",
    "#------------------------------\n",
    "\n"
   ]
  },
  {
   "cell_type": "code",
   "execution_count": 50,
   "id": "52ef1bb5-565d-4d9d-ad4a-cfba3f6d47d5",
   "metadata": {},
   "outputs": [],
   "source": [
    "# initialize trainer\n",
    "# train on the split dataset1\n",
    "trainer = Trainer(\n",
    "    model=model,\n",
    "    args=training_args,\n",
    "    train_dataset=tokenized_dataset1,\n",
    "    eval_dataset=tokenized_dataset2,\n",
    "    compute_metrics=compute_metrics,\n",
    ")"
   ]
  },
  {
   "cell_type": "code",
   "execution_count": 51,
   "id": "4f928280-ea16-4c06-85a2-ecb29d6aad9b",
   "metadata": {},
   "outputs": [
    {
     "data": {
      "text/html": [],
      "text/plain": [
       "<IPython.core.display.HTML object>"
      ]
     },
     "metadata": {},
     "output_type": "display_data"
    },
    {
     "name": "stderr",
     "output_type": "stream",
     "text": [
      "\u001b[34m\u001b[1mwandb\u001b[0m: \u001b[33mWARNING\u001b[0m The `run_name` is currently set to the same value as `TrainingArguments.output_dir`. If this was not intended, please specify a different run name by setting the `TrainingArguments.run_name` parameter.\n",
      "\u001b[34m\u001b[1mwandb\u001b[0m: Using wandb-core as the SDK backend.  Please refer to https://wandb.me/wandb-core for more information.\n",
      "\u001b[34m\u001b[1mwandb\u001b[0m: Currently logged in as: \u001b[33mchuajinchou\u001b[0m (\u001b[33mchuajinchou-singapore-university-of-technology-and-desig\u001b[0m) to \u001b[32mhttps://api.wandb.ai\u001b[0m. Use \u001b[1m`wandb login --relogin`\u001b[0m to force relogin\n"
     ]
    },
    {
     "data": {
      "text/html": [
       "Tracking run with wandb version 0.19.8"
      ],
      "text/plain": [
       "<IPython.core.display.HTML object>"
      ]
     },
     "metadata": {},
     "output_type": "display_data"
    },
    {
     "data": {
      "text/html": [
       "Run data is saved locally in <code>/Users/jin/Downloads/wandb/run-20250321_233525-woigd7bf</code>"
      ],
      "text/plain": [
       "<IPython.core.display.HTML object>"
      ]
     },
     "metadata": {},
     "output_type": "display_data"
    },
    {
     "data": {
      "text/html": [
       "Syncing run <strong><a href='https://wandb.ai/chuajinchou-singapore-university-of-technology-and-desig/huggingface/runs/woigd7bf' target=\"_blank\">finetuning-reddit</a></strong> to <a href='https://wandb.ai/chuajinchou-singapore-university-of-technology-and-desig/huggingface' target=\"_blank\">Weights & Biases</a> (<a href='https://wandb.me/developer-guide' target=\"_blank\">docs</a>)<br>"
      ],
      "text/plain": [
       "<IPython.core.display.HTML object>"
      ]
     },
     "metadata": {},
     "output_type": "display_data"
    },
    {
     "data": {
      "text/html": [
       " View project at <a href='https://wandb.ai/chuajinchou-singapore-university-of-technology-and-desig/huggingface' target=\"_blank\">https://wandb.ai/chuajinchou-singapore-university-of-technology-and-desig/huggingface</a>"
      ],
      "text/plain": [
       "<IPython.core.display.HTML object>"
      ]
     },
     "metadata": {},
     "output_type": "display_data"
    },
    {
     "data": {
      "text/html": [
       " View run at <a href='https://wandb.ai/chuajinchou-singapore-university-of-technology-and-desig/huggingface/runs/woigd7bf' target=\"_blank\">https://wandb.ai/chuajinchou-singapore-university-of-technology-and-desig/huggingface/runs/woigd7bf</a>"
      ],
      "text/plain": [
       "<IPython.core.display.HTML object>"
      ]
     },
     "metadata": {},
     "output_type": "display_data"
    },
    {
     "name": "stdout",
     "output_type": "stream",
     "text": [
      "              precision    recall  f1-score   support\n",
      "\n",
      "           0       0.82      0.31      0.45        29\n",
      "           1       0.84      0.95      0.89       164\n",
      "           2       0.80      0.77      0.79        57\n",
      "\n",
      "    accuracy                           0.83       250\n",
      "   macro avg       0.82      0.68      0.71       250\n",
      "weighted avg       0.83      0.83      0.82       250\n",
      "\n"
     ]
    }
   ],
   "source": [
    "# Evaluate on dataset1 set before training \n",
    "predictions = trainer.predict(tokenized_dataset1)\n",
    "print(sklearn.metrics.classification_report(predictions.predictions.argmax(-1), dataset1['label']))\n"
   ]
  },
  {
   "cell_type": "code",
   "execution_count": 52,
   "id": "261c369b-9c04-4e52-a9f2-511af6d73c8c",
   "metadata": {},
   "outputs": [
    {
     "data": {
      "text/html": [],
      "text/plain": [
       "<IPython.core.display.HTML object>"
      ]
     },
     "metadata": {},
     "output_type": "display_data"
    },
    {
     "name": "stdout",
     "output_type": "stream",
     "text": [
      "              precision    recall  f1-score   support\n",
      "\n",
      "           0       0.94      0.48      0.64        31\n",
      "           1       0.74      0.93      0.83       148\n",
      "           2       0.78      0.55      0.64        71\n",
      "\n",
      "    accuracy                           0.76       250\n",
      "   macro avg       0.82      0.65      0.70       250\n",
      "weighted avg       0.78      0.76      0.75       250\n",
      "\n"
     ]
    }
   ],
   "source": [
    "# Evaluate on dataset2 set before training \n",
    "predictions = trainer.predict(tokenized_dataset2)\n",
    "print(sklearn.metrics.classification_report(predictions.predictions.argmax(-1), dataset2['label']))\n"
   ]
  },
  {
   "cell_type": "code",
   "execution_count": 53,
   "id": "30d891ae-4a62-44d1-8cf1-d05a1bc75074",
   "metadata": {},
   "outputs": [
    {
     "data": {
      "text/html": [
       "\n",
       "    <div>\n",
       "      \n",
       "      <progress value='96' max='96' style='width:300px; height:20px; vertical-align: middle;'></progress>\n",
       "      [96/96 00:47, Epoch 3/3]\n",
       "    </div>\n",
       "    <table border=\"1\" class=\"dataframe\">\n",
       "  <thead>\n",
       " <tr style=\"text-align: left;\">\n",
       "      <th>Step</th>\n",
       "      <th>Training Loss</th>\n",
       "      <th>Validation Loss</th>\n",
       "      <th>Model Preparation Time</th>\n",
       "      <th>Accuracy</th>\n",
       "      <th>Precision</th>\n",
       "      <th>Recall</th>\n",
       "      <th>F1</th>\n",
       "    </tr>\n",
       "  </thead>\n",
       "  <tbody>\n",
       "    <tr>\n",
       "      <td>10</td>\n",
       "      <td>0.396800</td>\n",
       "      <td>0.427145</td>\n",
       "      <td>0.001400</td>\n",
       "      <td>0.828000</td>\n",
       "      <td>0.851047</td>\n",
       "      <td>0.828000</td>\n",
       "      <td>0.832859</td>\n",
       "    </tr>\n",
       "    <tr>\n",
       "      <td>20</td>\n",
       "      <td>0.483600</td>\n",
       "      <td>0.431988</td>\n",
       "      <td>0.001400</td>\n",
       "      <td>0.816000</td>\n",
       "      <td>0.847149</td>\n",
       "      <td>0.816000</td>\n",
       "      <td>0.822496</td>\n",
       "    </tr>\n",
       "    <tr>\n",
       "      <td>30</td>\n",
       "      <td>0.297000</td>\n",
       "      <td>0.358689</td>\n",
       "      <td>0.001400</td>\n",
       "      <td>0.880000</td>\n",
       "      <td>0.887712</td>\n",
       "      <td>0.880000</td>\n",
       "      <td>0.882526</td>\n",
       "    </tr>\n",
       "    <tr>\n",
       "      <td>40</td>\n",
       "      <td>0.110200</td>\n",
       "      <td>0.369302</td>\n",
       "      <td>0.001400</td>\n",
       "      <td>0.876000</td>\n",
       "      <td>0.873482</td>\n",
       "      <td>0.876000</td>\n",
       "      <td>0.872926</td>\n",
       "    </tr>\n",
       "    <tr>\n",
       "      <td>50</td>\n",
       "      <td>0.195300</td>\n",
       "      <td>0.419685</td>\n",
       "      <td>0.001400</td>\n",
       "      <td>0.880000</td>\n",
       "      <td>0.882457</td>\n",
       "      <td>0.880000</td>\n",
       "      <td>0.875356</td>\n",
       "    </tr>\n",
       "    <tr>\n",
       "      <td>60</td>\n",
       "      <td>0.172900</td>\n",
       "      <td>0.491369</td>\n",
       "      <td>0.001400</td>\n",
       "      <td>0.852000</td>\n",
       "      <td>0.880336</td>\n",
       "      <td>0.852000</td>\n",
       "      <td>0.859218</td>\n",
       "    </tr>\n",
       "    <tr>\n",
       "      <td>70</td>\n",
       "      <td>0.111500</td>\n",
       "      <td>0.583063</td>\n",
       "      <td>0.001400</td>\n",
       "      <td>0.824000</td>\n",
       "      <td>0.866201</td>\n",
       "      <td>0.824000</td>\n",
       "      <td>0.834089</td>\n",
       "    </tr>\n",
       "    <tr>\n",
       "      <td>80</td>\n",
       "      <td>0.131800</td>\n",
       "      <td>0.522726</td>\n",
       "      <td>0.001400</td>\n",
       "      <td>0.844000</td>\n",
       "      <td>0.873004</td>\n",
       "      <td>0.844000</td>\n",
       "      <td>0.851670</td>\n",
       "    </tr>\n",
       "    <tr>\n",
       "      <td>90</td>\n",
       "      <td>0.122900</td>\n",
       "      <td>0.488558</td>\n",
       "      <td>0.001400</td>\n",
       "      <td>0.856000</td>\n",
       "      <td>0.876694</td>\n",
       "      <td>0.856000</td>\n",
       "      <td>0.861618</td>\n",
       "    </tr>\n",
       "  </tbody>\n",
       "</table><p>"
      ],
      "text/plain": [
       "<IPython.core.display.HTML object>"
      ]
     },
     "metadata": {},
     "output_type": "display_data"
    }
   ],
   "source": [
    "# train the model\n",
    "train_output = trainer.train()"
   ]
  },
  {
   "cell_type": "code",
   "execution_count": 54,
   "id": "5fd4559b-bbbc-4ea5-981a-1b833e1c35ab",
   "metadata": {},
   "outputs": [
    {
     "data": {
      "text/html": [],
      "text/plain": [
       "<IPython.core.display.HTML object>"
      ]
     },
     "metadata": {},
     "output_type": "display_data"
    },
    {
     "name": "stdout",
     "output_type": "stream",
     "text": [
      "              precision    recall  f1-score   support\n",
      "\n",
      "           0       0.91      0.91      0.91        11\n",
      "           1       1.00      0.99      0.99       186\n",
      "           2       0.96      1.00      0.98        53\n",
      "\n",
      "    accuracy                           0.99       250\n",
      "   macro avg       0.96      0.97      0.96       250\n",
      "weighted avg       0.99      0.99      0.99       250\n",
      "\n"
     ]
    }
   ],
   "source": [
    "# Evaluate on dataset1, i.e the training set again\n",
    "preditions = trainer.predict(tokenized_dataset1)\n",
    "print(sklearn.metrics.classification_report(preditions.predictions.argmax(-1), dataset1['label']))"
   ]
  },
  {
   "cell_type": "code",
   "execution_count": 55,
   "id": "471dbc36-4419-4f56-8406-ef4b2218d713",
   "metadata": {},
   "outputs": [
    {
     "data": {
      "text/html": [],
      "text/plain": [
       "<IPython.core.display.HTML object>"
      ]
     },
     "metadata": {},
     "output_type": "display_data"
    },
    {
     "name": "stdout",
     "output_type": "stream",
     "text": [
      "              precision    recall  f1-score   support\n",
      "\n",
      "           0       0.81      0.81      0.81        16\n",
      "           1       0.86      0.95      0.90       167\n",
      "           2       0.86      0.64      0.74        67\n",
      "\n",
      "    accuracy                           0.86       250\n",
      "   macro avg       0.84      0.80      0.82       250\n",
      "weighted avg       0.86      0.86      0.85       250\n",
      "\n"
     ]
    }
   ],
   "source": [
    "# Evaluate on dataset2 set i.e. the test set again\n",
    "predictions = trainer.predict(tokenized_dataset2)\n",
    "print(sklearn.metrics.classification_report(predictions.predictions.argmax(-1), dataset2['label']))\n"
   ]
  },
  {
   "cell_type": "markdown",
   "id": "dd1d39da-72df-410e-adb4-325c6be590d4",
   "metadata": {},
   "source": [
    "### QUESTION: \n",
    "Has the model improved performance on the first batch of data? Does the model generalize well to the next batch of data?\n",
    "Do you see any signs of overfitting or underfitting based on the evaluation scores\n",
    "Explain why or why not\n",
    "\n",
    "**--- ADD YOUR SOLUTION HERE (5 points)---**\n",
    "\n",
    "Overall, the accuracy of the model has improved greatly, with the accuracy of training data improving from 0.83 to 0.99 and the accuracy of the validation data improving from 0.76 to 0.86. Purely based on accuracy, the model somewhat generalizes well to the next batch of data as the accuracy of the validation dataset is still very high at 0.86.\n",
    "\n",
    "Yes, there are signs of overfitting in the evaluation scores. From the computed metrics, we can see that the training loss has improved after training yet the validation loss has been increasing. These are hallmark indications of overfitting model as this shows that the model is not generalising well with new unseen data, yet the training loss is improving. \n",
    "\n",
    "------------------------------\n"
   ]
  },
  {
   "cell_type": "markdown",
   "id": "3b4e7d14-f997-4022-ab46-2cb1ac247073",
   "metadata": {},
   "source": [
    "### QUESTION: \n",
    "Is the model good enough to be used for practical applications?\n",
    "Given the results you have so far, what additional measures would you recommend to continuously improve the SUTD reddit sentiment classifier? What other functionalities beyond sentiment could be useful? Write a paragraph (max 200 words) to explain your choice\n",
    "\n",
    "**--- ADD YOUR SOLUTION HERE (10 points)---**\n",
    "\n",
    "No, this model is not good enough to be used for practical applications. The precision for detecting comments with a negative sentiment is too low for it to be practical.\n",
    "\n",
    "From the dataset, we can determine that there is an **uneven class distribution**, where there are only a handful of rows with a negative sentiment, while a large percentage of the data have a neutral sentiment. Data should be consistently updated with new human labeled comments and posts, each following a strict labeling guideline. A data centric approach should also be adopted wherein more comments and posts with negative sentiments should be added to the training dataset to balance out the poor distribution of the classes. \n",
    "\n",
    "A functionality could be question detection for detecting unanswered posts that are asking common questions. A RAG pipeline could be used to connect a depository of verified documents with a LLM chatbot. When the system detects that a post has been unanswered for a certain duration, the LLM chatbot could respond to the question automatically, so as to service the community while not infringing upon the community's engagement. \n",
    "\n",
    "------------------------------\n"
   ]
  },
  {
   "cell_type": "markdown",
   "id": "fcc57acf-c65a-4ba7-9d9c-9b212251e542",
   "metadata": {},
   "source": [
    "# End\n",
    "\n",
    "This concludes assignment 2.\n",
    "\n",
    "Please submit this notebook with your answers and the generated output cells as a **Jupyter notebook file** and the **text file reddit_labeled_STUDENT_NAME.csv** via github.\n",
    "\n",
    "\n",
    "1. Create a private github repository **sutd_5055mlop** under your github user.\n",
    "2. Add your instructors as collaborator: ddahlmeier and lucainiaoge\n",
    "3. Save your submission as assignment_02_STUDENT_NAME.ipynb and reddit_labeled_STUDENT_NAME.csv where STUDENT_NAME is your name in your SUTD email address.  \n",
    "4. Push the submission files to your repo \n",
    "5. Submit the link to the repo via eDimensions\n",
    "\n",
    "Example:<br/>\n",
    "Email: michael_tan@mymail.sutd.edu.sg<br/>\n",
    "STUDENT_NAME: michael_tan<br/>\n",
    "Submission file name: assignment_02_michael_tan.ipynb\n",
    "\n",
    "\n",
    "\n",
    "**Assignment due 21 March 2025 11:59pm**\n",
    "\n"
   ]
  },
  {
   "cell_type": "markdown",
   "id": "d20233b3",
   "metadata": {},
   "source": []
  }
 ],
 "metadata": {
  "kernelspec": {
   "display_name": "venv",
   "language": "python",
   "name": "python3"
  },
  "language_info": {
   "codemirror_mode": {
    "name": "ipython",
    "version": 3
   },
   "file_extension": ".py",
   "mimetype": "text/x-python",
   "name": "python",
   "nbconvert_exporter": "python",
   "pygments_lexer": "ipython3",
   "version": "3.12.9"
  }
 },
 "nbformat": 4,
 "nbformat_minor": 5
}
